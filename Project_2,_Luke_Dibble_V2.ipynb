{
  "nbformat": 4,
  "nbformat_minor": 0,
  "metadata": {
    "colab": {
      "name": "Project 2, Luke Dibble V2.ipynb",
      "provenance": [],
      "collapsed_sections": []
    },
    "kernelspec": {
      "name": "python3",
      "display_name": "Python 3"
    },
    "language_info": {
      "name": "python"
    }
  },
  "cells": [
    {
      "cell_type": "markdown",
      "metadata": {
        "id": "9h0sk01xCZJI"
      },
      "source": [
        "After a lot of research and letting ideas go, I settled on the Loan Prediction Problem\n",
        "\n",
        "https://www.kaggle.com/altruistdelhite04/loan-prediction-problem-dataset\n",
        "\n",
        "My first choice was to attempt to predict the next big video game trend on youtube for content creators, but I was unable to find a dataset that I could use. If I could find this data, I would prefer to attempt that challenge (I couldn't figure out how to use the data from the Google YouTube 8M, and it looks like it's 31 GBs)\n",
        "\n",
        "https://research.google.com/youtube8m/"
      ]
    },
    {
      "cell_type": "markdown",
      "metadata": {
        "id": "ZTx0z5Xdj9sX"
      },
      "source": [
        "Purpose of Project\n",
        "---\n",
        "\n",
        "Using provided data, create a Predictive Model to determine loan approval or denial."
      ]
    },
    {
      "cell_type": "markdown",
      "metadata": {
        "id": "_x2eb9-AkVyz"
      },
      "source": [
        "Step 1:\n",
        "\n",
        "Import and clean data."
      ]
    },
    {
      "cell_type": "code",
      "metadata": {
        "id": "tgm8LbZ36Fi0"
      },
      "source": [
        "#Mount Drive"
      ],
      "execution_count": null,
      "outputs": []
    },
    {
      "cell_type": "code",
      "metadata": {
        "colab": {
          "base_uri": "https://localhost:8080/"
        },
        "id": "8_hFiBky4XiI",
        "outputId": "2f91555c-bcb5-4afe-bd7f-f7b5d489da6e"
      },
      "source": [
        "from google.colab import drive\n",
        "drive.mount('/content/drive')"
      ],
      "execution_count": null,
      "outputs": [
        {
          "output_type": "stream",
          "name": "stdout",
          "text": [
            "Drive already mounted at /content/drive; to attempt to forcibly remount, call drive.mount(\"/content/drive\", force_remount=True).\n"
          ]
        }
      ]
    },
    {
      "cell_type": "code",
      "metadata": {
        "id": "Nal9nkpp6HsW"
      },
      "source": [
        "#Import cleaning and exploratory mods\n",
        "#Read in data"
      ],
      "execution_count": null,
      "outputs": []
    },
    {
      "cell_type": "code",
      "metadata": {
        "colab": {
          "base_uri": "https://localhost:8080/",
          "height": 238
        },
        "id": "FSjFxPzq4sGH",
        "outputId": "c17fe61b-1bb0-47ef-892a-a19440d1c2ae"
      },
      "source": [
        "import pandas as pd\n",
        "import numpy as np\n",
        "import matplotlib.pyplot as plt\n",
        "import seaborn as sns\n",
        "from sklearn.preprocessing import StandardScaler\n",
        "from sklearn.decomposition import PCA\n",
        "from sklearn.model_selection import train_test_split, GridSearchCV\n",
        "from sklearn.neighbors import KNeighborsClassifier\n",
        "from sklearn.ensemble import RandomForestClassifier\n",
        "from sklearn.linear_model import LogisticRegression\n",
        "from sklearn.metrics import classification_report, plot_confusion_matrix\n",
        "from sklearn.ensemble import AdaBoostClassifier, GradientBoostingClassifier, VotingClassifier\n",
        "from lightgbm import LGBMClassifier\n",
        "from xgboost import XGBClassifier\n",
        "\n",
        "ltrain_df = pd.read_csv('/content/drive/MyDrive/Coding Dojo/My Projects/Loan_Train.csv', index_col='Loan_ID')\n",
        "\n",
        "ltrain_df.head()"
      ],
      "execution_count": null,
      "outputs": [
        {
          "output_type": "execute_result",
          "data": {
            "text/html": [
              "<div>\n",
              "<style scoped>\n",
              "    .dataframe tbody tr th:only-of-type {\n",
              "        vertical-align: middle;\n",
              "    }\n",
              "\n",
              "    .dataframe tbody tr th {\n",
              "        vertical-align: top;\n",
              "    }\n",
              "\n",
              "    .dataframe thead th {\n",
              "        text-align: right;\n",
              "    }\n",
              "</style>\n",
              "<table border=\"1\" class=\"dataframe\">\n",
              "  <thead>\n",
              "    <tr style=\"text-align: right;\">\n",
              "      <th></th>\n",
              "      <th>Gender</th>\n",
              "      <th>Married</th>\n",
              "      <th>Dependents</th>\n",
              "      <th>Education</th>\n",
              "      <th>Self_Employed</th>\n",
              "      <th>ApplicantIncome</th>\n",
              "      <th>CoapplicantIncome</th>\n",
              "      <th>LoanAmount</th>\n",
              "      <th>Loan_Amount_Term</th>\n",
              "      <th>Credit_History</th>\n",
              "      <th>Property_Area</th>\n",
              "      <th>Loan_Status</th>\n",
              "    </tr>\n",
              "    <tr>\n",
              "      <th>Loan_ID</th>\n",
              "      <th></th>\n",
              "      <th></th>\n",
              "      <th></th>\n",
              "      <th></th>\n",
              "      <th></th>\n",
              "      <th></th>\n",
              "      <th></th>\n",
              "      <th></th>\n",
              "      <th></th>\n",
              "      <th></th>\n",
              "      <th></th>\n",
              "      <th></th>\n",
              "    </tr>\n",
              "  </thead>\n",
              "  <tbody>\n",
              "    <tr>\n",
              "      <th>LP001002</th>\n",
              "      <td>Male</td>\n",
              "      <td>No</td>\n",
              "      <td>0</td>\n",
              "      <td>Graduate</td>\n",
              "      <td>No</td>\n",
              "      <td>5849</td>\n",
              "      <td>0.0</td>\n",
              "      <td>NaN</td>\n",
              "      <td>360.0</td>\n",
              "      <td>1.0</td>\n",
              "      <td>Urban</td>\n",
              "      <td>Y</td>\n",
              "    </tr>\n",
              "    <tr>\n",
              "      <th>LP001003</th>\n",
              "      <td>Male</td>\n",
              "      <td>Yes</td>\n",
              "      <td>1</td>\n",
              "      <td>Graduate</td>\n",
              "      <td>No</td>\n",
              "      <td>4583</td>\n",
              "      <td>1508.0</td>\n",
              "      <td>128.0</td>\n",
              "      <td>360.0</td>\n",
              "      <td>1.0</td>\n",
              "      <td>Rural</td>\n",
              "      <td>N</td>\n",
              "    </tr>\n",
              "    <tr>\n",
              "      <th>LP001005</th>\n",
              "      <td>Male</td>\n",
              "      <td>Yes</td>\n",
              "      <td>0</td>\n",
              "      <td>Graduate</td>\n",
              "      <td>Yes</td>\n",
              "      <td>3000</td>\n",
              "      <td>0.0</td>\n",
              "      <td>66.0</td>\n",
              "      <td>360.0</td>\n",
              "      <td>1.0</td>\n",
              "      <td>Urban</td>\n",
              "      <td>Y</td>\n",
              "    </tr>\n",
              "    <tr>\n",
              "      <th>LP001006</th>\n",
              "      <td>Male</td>\n",
              "      <td>Yes</td>\n",
              "      <td>0</td>\n",
              "      <td>Not Graduate</td>\n",
              "      <td>No</td>\n",
              "      <td>2583</td>\n",
              "      <td>2358.0</td>\n",
              "      <td>120.0</td>\n",
              "      <td>360.0</td>\n",
              "      <td>1.0</td>\n",
              "      <td>Urban</td>\n",
              "      <td>Y</td>\n",
              "    </tr>\n",
              "    <tr>\n",
              "      <th>LP001008</th>\n",
              "      <td>Male</td>\n",
              "      <td>No</td>\n",
              "      <td>0</td>\n",
              "      <td>Graduate</td>\n",
              "      <td>No</td>\n",
              "      <td>6000</td>\n",
              "      <td>0.0</td>\n",
              "      <td>141.0</td>\n",
              "      <td>360.0</td>\n",
              "      <td>1.0</td>\n",
              "      <td>Urban</td>\n",
              "      <td>Y</td>\n",
              "    </tr>\n",
              "  </tbody>\n",
              "</table>\n",
              "</div>"
            ],
            "text/plain": [
              "         Gender Married Dependents  ... Credit_History Property_Area  Loan_Status\n",
              "Loan_ID                             ...                                          \n",
              "LP001002   Male      No          0  ...            1.0         Urban            Y\n",
              "LP001003   Male     Yes          1  ...            1.0         Rural            N\n",
              "LP001005   Male     Yes          0  ...            1.0         Urban            Y\n",
              "LP001006   Male     Yes          0  ...            1.0         Urban            Y\n",
              "LP001008   Male      No          0  ...            1.0         Urban            Y\n",
              "\n",
              "[5 rows x 12 columns]"
            ]
          },
          "metadata": {},
          "execution_count": 183
        }
      ]
    },
    {
      "cell_type": "code",
      "metadata": {
        "id": "7E7NpvwU6Qo8"
      },
      "source": [
        "#Check data for dtype and nulls in loantrain_df"
      ],
      "execution_count": null,
      "outputs": []
    },
    {
      "cell_type": "code",
      "metadata": {
        "colab": {
          "base_uri": "https://localhost:8080/"
        },
        "id": "xxwWyGT05aCz",
        "outputId": "2d3e2ac9-469c-4e17-cfb8-12d23f46cc7a"
      },
      "source": [
        "ltrain_df.info()"
      ],
      "execution_count": null,
      "outputs": [
        {
          "output_type": "stream",
          "name": "stdout",
          "text": [
            "<class 'pandas.core.frame.DataFrame'>\n",
            "Index: 614 entries, LP001002 to LP002990\n",
            "Data columns (total 12 columns):\n",
            " #   Column             Non-Null Count  Dtype  \n",
            "---  ------             --------------  -----  \n",
            " 0   Gender             601 non-null    object \n",
            " 1   Married            611 non-null    object \n",
            " 2   Dependents         599 non-null    object \n",
            " 3   Education          614 non-null    object \n",
            " 4   Self_Employed      582 non-null    object \n",
            " 5   ApplicantIncome    614 non-null    int64  \n",
            " 6   CoapplicantIncome  614 non-null    float64\n",
            " 7   LoanAmount         592 non-null    float64\n",
            " 8   Loan_Amount_Term   600 non-null    float64\n",
            " 9   Credit_History     564 non-null    float64\n",
            " 10  Property_Area      614 non-null    object \n",
            " 11  Loan_Status        614 non-null    object \n",
            "dtypes: float64(4), int64(1), object(7)\n",
            "memory usage: 62.4+ KB\n"
          ]
        }
      ]
    },
    {
      "cell_type": "code",
      "metadata": {
        "colab": {
          "base_uri": "https://localhost:8080/",
          "height": 300
        },
        "id": "zDfcsl7Mgpb8",
        "outputId": "579a4206-33b8-4eb7-9908-41079e4d94f2"
      },
      "source": [
        "ltrain_df.describe()"
      ],
      "execution_count": null,
      "outputs": [
        {
          "output_type": "execute_result",
          "data": {
            "text/html": [
              "<div>\n",
              "<style scoped>\n",
              "    .dataframe tbody tr th:only-of-type {\n",
              "        vertical-align: middle;\n",
              "    }\n",
              "\n",
              "    .dataframe tbody tr th {\n",
              "        vertical-align: top;\n",
              "    }\n",
              "\n",
              "    .dataframe thead th {\n",
              "        text-align: right;\n",
              "    }\n",
              "</style>\n",
              "<table border=\"1\" class=\"dataframe\">\n",
              "  <thead>\n",
              "    <tr style=\"text-align: right;\">\n",
              "      <th></th>\n",
              "      <th>ApplicantIncome</th>\n",
              "      <th>CoapplicantIncome</th>\n",
              "      <th>LoanAmount</th>\n",
              "      <th>Loan_Amount_Term</th>\n",
              "      <th>Credit_History</th>\n",
              "    </tr>\n",
              "  </thead>\n",
              "  <tbody>\n",
              "    <tr>\n",
              "      <th>count</th>\n",
              "      <td>614.000000</td>\n",
              "      <td>614.000000</td>\n",
              "      <td>592.000000</td>\n",
              "      <td>600.00000</td>\n",
              "      <td>564.000000</td>\n",
              "    </tr>\n",
              "    <tr>\n",
              "      <th>mean</th>\n",
              "      <td>5403.459283</td>\n",
              "      <td>1621.245798</td>\n",
              "      <td>146.412162</td>\n",
              "      <td>342.00000</td>\n",
              "      <td>0.842199</td>\n",
              "    </tr>\n",
              "    <tr>\n",
              "      <th>std</th>\n",
              "      <td>6109.041673</td>\n",
              "      <td>2926.248369</td>\n",
              "      <td>85.587325</td>\n",
              "      <td>65.12041</td>\n",
              "      <td>0.364878</td>\n",
              "    </tr>\n",
              "    <tr>\n",
              "      <th>min</th>\n",
              "      <td>150.000000</td>\n",
              "      <td>0.000000</td>\n",
              "      <td>9.000000</td>\n",
              "      <td>12.00000</td>\n",
              "      <td>0.000000</td>\n",
              "    </tr>\n",
              "    <tr>\n",
              "      <th>25%</th>\n",
              "      <td>2877.500000</td>\n",
              "      <td>0.000000</td>\n",
              "      <td>100.000000</td>\n",
              "      <td>360.00000</td>\n",
              "      <td>1.000000</td>\n",
              "    </tr>\n",
              "    <tr>\n",
              "      <th>50%</th>\n",
              "      <td>3812.500000</td>\n",
              "      <td>1188.500000</td>\n",
              "      <td>128.000000</td>\n",
              "      <td>360.00000</td>\n",
              "      <td>1.000000</td>\n",
              "    </tr>\n",
              "    <tr>\n",
              "      <th>75%</th>\n",
              "      <td>5795.000000</td>\n",
              "      <td>2297.250000</td>\n",
              "      <td>168.000000</td>\n",
              "      <td>360.00000</td>\n",
              "      <td>1.000000</td>\n",
              "    </tr>\n",
              "    <tr>\n",
              "      <th>max</th>\n",
              "      <td>81000.000000</td>\n",
              "      <td>41667.000000</td>\n",
              "      <td>700.000000</td>\n",
              "      <td>480.00000</td>\n",
              "      <td>1.000000</td>\n",
              "    </tr>\n",
              "  </tbody>\n",
              "</table>\n",
              "</div>"
            ],
            "text/plain": [
              "       ApplicantIncome  CoapplicantIncome  ...  Loan_Amount_Term  Credit_History\n",
              "count       614.000000         614.000000  ...         600.00000      564.000000\n",
              "mean       5403.459283        1621.245798  ...         342.00000        0.842199\n",
              "std        6109.041673        2926.248369  ...          65.12041        0.364878\n",
              "min         150.000000           0.000000  ...          12.00000        0.000000\n",
              "25%        2877.500000           0.000000  ...         360.00000        1.000000\n",
              "50%        3812.500000        1188.500000  ...         360.00000        1.000000\n",
              "75%        5795.000000        2297.250000  ...         360.00000        1.000000\n",
              "max       81000.000000       41667.000000  ...         480.00000        1.000000\n",
              "\n",
              "[8 rows x 5 columns]"
            ]
          },
          "metadata": {},
          "execution_count": 186
        }
      ]
    },
    {
      "cell_type": "code",
      "metadata": {
        "colab": {
          "base_uri": "https://localhost:8080/",
          "height": 347
        },
        "id": "gD61ttSvr5c0",
        "outputId": "42a7e6a6-60cc-462f-9d74-aa464c3b4236"
      },
      "source": [
        "ltrain_df.boxplot(column = ['ApplicantIncome'], by='Loan_Status', notch = True, patch_artist = True)\n",
        "plt.suptitle('')\n",
        "plt.xticks(rotation = 45);"
      ],
      "execution_count": null,
      "outputs": [
        {
          "output_type": "stream",
          "name": "stderr",
          "text": [
            "/usr/local/lib/python3.7/dist-packages/numpy/core/_asarray.py:83: VisibleDeprecationWarning: Creating an ndarray from ragged nested sequences (which is a list-or-tuple of lists-or-tuples-or ndarrays with different lengths or shapes) is deprecated. If you meant to do this, you must specify 'dtype=object' when creating the ndarray\n",
            "  return array(a, dtype, copy=False, order=order)\n"
          ]
        },
        {
          "output_type": "display_data",
          "data": {
            "image/png": "[encoded data removed]",
            "text/plain": [
              "<Figure size 432x288 with 1 Axes>"
            ]
          },
          "metadata": {}
        }
      ]
    },
    {
      "cell_type": "markdown",
      "metadata": {
        "id": "EAC5Q9TIsODw"
      },
      "source": [
        "Applicant Income outliers over 30k to be dropped."
      ]
    },
    {
      "cell_type": "code",
      "metadata": {
        "id": "Rq0buy6xsjNJ"
      },
      "source": [
        "ltrain_df = ltrain_df[ltrain_df.ApplicantIncome <= 30000]"
      ],
      "execution_count": null,
      "outputs": []
    },
    {
      "cell_type": "code",
      "metadata": {
        "colab": {
          "base_uri": "https://localhost:8080/",
          "height": 347
        },
        "id": "madpiSIZtFxf",
        "outputId": "59f23a37-25e8-451f-d5ff-d44f32fcd0f2"
      },
      "source": [
        "ltrain_df.boxplot(column = ['ApplicantIncome'], by='Loan_Status', notch = True, patch_artist = True)\n",
        "plt.suptitle('')\n",
        "plt.xticks(rotation = 45);"
      ],
      "execution_count": null,
      "outputs": [
        {
          "output_type": "stream",
          "name": "stderr",
          "text": [
            "/usr/local/lib/python3.7/dist-packages/numpy/core/_asarray.py:83: VisibleDeprecationWarning: Creating an ndarray from ragged nested sequences (which is a list-or-tuple of lists-or-tuples-or ndarrays with different lengths or shapes) is deprecated. If you meant to do this, you must specify 'dtype=object' when creating the ndarray\n",
            "  return array(a, dtype, copy=False, order=order)\n"
          ]
        },
        {
          "output_type": "display_data",
          "data": {
            "image/png": "[encoded data removed]",
            "text/plain": [
              "<Figure size 432x288 with 1 Axes>"
            ]
          },
          "metadata": {}
        }
      ]
    },
    {
      "cell_type": "code",
      "metadata": {
        "colab": {
          "base_uri": "https://localhost:8080/",
          "height": 347
        },
        "id": "mBjB0GfNub6m",
        "outputId": "e4e40737-c8b5-4ddd-bf3e-cbcab2d0dc06"
      },
      "source": [
        "ltrain_df.boxplot(column = ['CoapplicantIncome'], by='Loan_Status', notch = True, patch_artist = True)\n",
        "plt.suptitle('')\n",
        "plt.xticks(rotation = 45);"
      ],
      "execution_count": null,
      "outputs": [
        {
          "output_type": "stream",
          "name": "stderr",
          "text": [
            "/usr/local/lib/python3.7/dist-packages/numpy/core/_asarray.py:83: VisibleDeprecationWarning: Creating an ndarray from ragged nested sequences (which is a list-or-tuple of lists-or-tuples-or ndarrays with different lengths or shapes) is deprecated. If you meant to do this, you must specify 'dtype=object' when creating the ndarray\n",
            "  return array(a, dtype, copy=False, order=order)\n"
          ]
        },
        {
          "output_type": "display_data",
          "data": {
            "image/png": "[encoded data removed]",
            "text/plain": [
              "<Figure size 432x288 with 1 Axes>"
            ]
          },
          "metadata": {}
        }
      ]
    },
    {
      "cell_type": "code",
      "metadata": {
        "id": "1x-P2FwCukoO"
      },
      "source": [
        "ltrain_df = ltrain_df[ltrain_df.CoapplicantIncome < 10000]"
      ],
      "execution_count": null,
      "outputs": []
    },
    {
      "cell_type": "markdown",
      "metadata": {
        "id": "EcURYEWluvYE"
      },
      "source": [
        "Dropping Coappliacte Income to below 20k"
      ]
    },
    {
      "cell_type": "code",
      "metadata": {
        "colab": {
          "base_uri": "https://localhost:8080/",
          "height": 347
        },
        "id": "DWin_QNtulye",
        "outputId": "8bcca766-e468-4adf-e343-4cd9b4846d0c"
      },
      "source": [
        "ltrain_df.boxplot(column = ['CoapplicantIncome'], by='Loan_Status', notch = True, patch_artist = True)\n",
        "plt.suptitle('')\n",
        "plt.xticks(rotation = 45);"
      ],
      "execution_count": null,
      "outputs": [
        {
          "output_type": "stream",
          "name": "stderr",
          "text": [
            "/usr/local/lib/python3.7/dist-packages/numpy/core/_asarray.py:83: VisibleDeprecationWarning: Creating an ndarray from ragged nested sequences (which is a list-or-tuple of lists-or-tuples-or ndarrays with different lengths or shapes) is deprecated. If you meant to do this, you must specify 'dtype=object' when creating the ndarray\n",
            "  return array(a, dtype, copy=False, order=order)\n"
          ]
        },
        {
          "output_type": "display_data",
          "data": {
            "image/png": "[encoded data removed]",
            "text/plain": [
              "<Figure size 432x288 with 1 Axes>"
            ]
          },
          "metadata": {}
        }
      ]
    },
    {
      "cell_type": "code",
      "metadata": {
        "colab": {
          "base_uri": "https://localhost:8080/",
          "height": 347
        },
        "id": "kv7Bxl9ezhme",
        "outputId": "d1bc9615-6f75-436d-e9a5-495869dcfa4f"
      },
      "source": [
        "ltrain_df.boxplot(column = ['LoanAmount'], by='Loan_Status', notch = True, patch_artist = True)\n",
        "plt.suptitle('')\n",
        "plt.xticks(rotation = 45);"
      ],
      "execution_count": null,
      "outputs": [
        {
          "output_type": "stream",
          "name": "stderr",
          "text": [
            "/usr/local/lib/python3.7/dist-packages/numpy/core/_asarray.py:83: VisibleDeprecationWarning: Creating an ndarray from ragged nested sequences (which is a list-or-tuple of lists-or-tuples-or ndarrays with different lengths or shapes) is deprecated. If you meant to do this, you must specify 'dtype=object' when creating the ndarray\n",
            "  return array(a, dtype, copy=False, order=order)\n"
          ]
        },
        {
          "output_type": "display_data",
          "data": {
            "image/png": "[encoded data removed]",
            "text/plain": [
              "<Figure size 432x288 with 1 Axes>"
            ]
          },
          "metadata": {}
        }
      ]
    },
    {
      "cell_type": "code",
      "metadata": {
        "id": "-5S2Mo-rzs-M"
      },
      "source": [
        "ltrain_df = ltrain_df[ltrain_df.LoanAmount > 100]"
      ],
      "execution_count": null,
      "outputs": []
    },
    {
      "cell_type": "code",
      "metadata": {
        "colab": {
          "base_uri": "https://localhost:8080/",
          "height": 347
        },
        "id": "6Sc7Zq3czutq",
        "outputId": "a69cfe1a-febe-47eb-f9a7-5976feed067d"
      },
      "source": [
        "ltrain_df.boxplot(column = ['LoanAmount'], by='Loan_Status', notch = True, patch_artist = True)\n",
        "plt.suptitle('')\n",
        "plt.xticks(rotation = 45);"
      ],
      "execution_count": null,
      "outputs": [
        {
          "output_type": "stream",
          "name": "stderr",
          "text": [
            "/usr/local/lib/python3.7/dist-packages/numpy/core/_asarray.py:83: VisibleDeprecationWarning: Creating an ndarray from ragged nested sequences (which is a list-or-tuple of lists-or-tuples-or ndarrays with different lengths or shapes) is deprecated. If you meant to do this, you must specify 'dtype=object' when creating the ndarray\n",
            "  return array(a, dtype, copy=False, order=order)\n"
          ]
        },
        {
          "output_type": "display_data",
          "data": {
            "image/png": "[encoded data removed]",
            "text/plain": [
              "<Figure size 432x288 with 1 Axes>"
            ]
          },
          "metadata": {}
        }
      ]
    },
    {
      "cell_type": "code",
      "metadata": {
        "colab": {
          "base_uri": "https://localhost:8080/"
        },
        "id": "fn3ELmIViQGj",
        "outputId": "228e52af-19d7-475d-a283-768add5cfc8b"
      },
      "source": [
        "ltrain_df.duplicated().any()"
      ],
      "execution_count": null,
      "outputs": [
        {
          "output_type": "execute_result",
          "data": {
            "text/plain": [
              "False"
            ]
          },
          "metadata": {},
          "execution_count": 196
        }
      ]
    },
    {
      "cell_type": "code",
      "metadata": {
        "id": "lehdVrnjkWWR",
        "colab": {
          "base_uri": "https://localhost:8080/"
        },
        "outputId": "e7340583-073e-4e88-bce6-5610f46be529"
      },
      "source": [
        "ltrain_df['Gender'].value_counts()"
      ],
      "execution_count": null,
      "outputs": [
        {
          "output_type": "execute_result",
          "data": {
            "text/plain": [
              "Male      347\n",
              "Female     69\n",
              "Name: Gender, dtype: int64"
            ]
          },
          "metadata": {},
          "execution_count": 197
        }
      ]
    },
    {
      "cell_type": "code",
      "metadata": {
        "colab": {
          "base_uri": "https://localhost:8080/"
        },
        "id": "dKtbpYpKJO1H",
        "outputId": "5ca2a3ec-ce20-409d-8966-c106af1206f0"
      },
      "source": [
        "#Replaced Nulls with majority value\n",
        "ltrain_df['Gender'].fillna(value = 'Male', inplace = True)\n",
        "ltrain_df['Gender'].value_counts()"
      ],
      "execution_count": null,
      "outputs": [
        {
          "output_type": "execute_result",
          "data": {
            "text/plain": [
              "Male      357\n",
              "Female     69\n",
              "Name: Gender, dtype: int64"
            ]
          },
          "metadata": {},
          "execution_count": 198
        }
      ]
    },
    {
      "cell_type": "code",
      "metadata": {
        "colab": {
          "base_uri": "https://localhost:8080/"
        },
        "id": "QHO5PT2kG6ue",
        "outputId": "69f81684-04fa-48b1-e7bd-8c5d253dc494"
      },
      "source": [
        "ltrain_df['Married'].value_counts()"
      ],
      "execution_count": null,
      "outputs": [
        {
          "output_type": "execute_result",
          "data": {
            "text/plain": [
              "Yes    294\n",
              "No     130\n",
              "Name: Married, dtype: int64"
            ]
          },
          "metadata": {},
          "execution_count": 199
        }
      ]
    },
    {
      "cell_type": "code",
      "metadata": {
        "colab": {
          "base_uri": "https://localhost:8080/"
        },
        "id": "uH3zcQ1iPvs3",
        "outputId": "06137842-87df-40a6-b92d-09890fd359b7"
      },
      "source": [
        "#Replaced Nulls with No\n",
        "ltrain_df['Married'].fillna(value = 'No', inplace = True)\n",
        "ltrain_df['Married'].value_counts()"
      ],
      "execution_count": null,
      "outputs": [
        {
          "output_type": "execute_result",
          "data": {
            "text/plain": [
              "Yes    294\n",
              "No     132\n",
              "Name: Married, dtype: int64"
            ]
          },
          "metadata": {},
          "execution_count": 200
        }
      ]
    },
    {
      "cell_type": "code",
      "metadata": {
        "colab": {
          "base_uri": "https://localhost:8080/"
        },
        "id": "c9-GpEtcHFIX",
        "outputId": "1eb68dde-df11-4679-9ac7-5f5ba5d4dcdd"
      },
      "source": [
        "ltrain_df['Dependents'].value_counts()"
      ],
      "execution_count": null,
      "outputs": [
        {
          "output_type": "execute_result",
          "data": {
            "text/plain": [
              "0     234\n",
              "2      78\n",
              "1      73\n",
              "3+     31\n",
              "Name: Dependents, dtype: int64"
            ]
          },
          "metadata": {},
          "execution_count": 201
        }
      ]
    },
    {
      "cell_type": "code",
      "metadata": {
        "colab": {
          "base_uri": "https://localhost:8080/"
        },
        "id": "dbPn0LtmP1YU",
        "outputId": "76762996-c0f1-4564-8ef1-c28dd9ce9dba"
      },
      "source": [
        "#Replaced Nulls with 0\n",
        "ltrain_df['Dependents'].fillna(value = '0', inplace = True)\n",
        "ltrain_df['Dependents'].value_counts()"
      ],
      "execution_count": null,
      "outputs": [
        {
          "output_type": "execute_result",
          "data": {
            "text/plain": [
              "0     244\n",
              "2      78\n",
              "1      73\n",
              "3+     31\n",
              "Name: Dependents, dtype: int64"
            ]
          },
          "metadata": {},
          "execution_count": 202
        }
      ]
    },
    {
      "cell_type": "code",
      "metadata": {
        "colab": {
          "base_uri": "https://localhost:8080/"
        },
        "id": "35QmJOlMIMJt",
        "outputId": "984e769c-2c47-4ee3-aa1b-12ffcbeef4db"
      },
      "source": [
        "ltrain_df['Education'].value_counts()"
      ],
      "execution_count": null,
      "outputs": [
        {
          "output_type": "execute_result",
          "data": {
            "text/plain": [
              "Graduate        340\n",
              "Not Graduate     86\n",
              "Name: Education, dtype: int64"
            ]
          },
          "metadata": {},
          "execution_count": 203
        }
      ]
    },
    {
      "cell_type": "code",
      "metadata": {
        "colab": {
          "base_uri": "https://localhost:8080/"
        },
        "id": "C8vrV2mnIQ2P",
        "outputId": "211a3181-3346-481d-a701-cadd6a788eb4"
      },
      "source": [
        "ltrain_df['Self_Employed'].value_counts()"
      ],
      "execution_count": null,
      "outputs": [
        {
          "output_type": "execute_result",
          "data": {
            "text/plain": [
              "No     343\n",
              "Yes     60\n",
              "Name: Self_Employed, dtype: int64"
            ]
          },
          "metadata": {},
          "execution_count": 204
        }
      ]
    },
    {
      "cell_type": "code",
      "metadata": {
        "colab": {
          "base_uri": "https://localhost:8080/"
        },
        "id": "g75D1_uYJRW-",
        "outputId": "74d1cf03-d8fe-45e1-fa5b-336c3dcbac12"
      },
      "source": [
        "#Replaced Nulls with No\n",
        "ltrain_df['Self_Employed'].fillna(value = 'No', inplace = True)\n",
        "ltrain_df['Self_Employed'].value_counts()"
      ],
      "execution_count": null,
      "outputs": [
        {
          "output_type": "execute_result",
          "data": {
            "text/plain": [
              "No     366\n",
              "Yes     60\n",
              "Name: Self_Employed, dtype: int64"
            ]
          },
          "metadata": {},
          "execution_count": 205
        }
      ]
    },
    {
      "cell_type": "code",
      "metadata": {
        "colab": {
          "base_uri": "https://localhost:8080/"
        },
        "id": "tIzwXV3UHRkk",
        "outputId": "de91dd09-5c5a-4a78-ce95-2df5f7a75246"
      },
      "source": [
        "ltrain_df['Property_Area'].value_counts()"
      ],
      "execution_count": null,
      "outputs": [
        {
          "output_type": "execute_result",
          "data": {
            "text/plain": [
              "Semiurban    161\n",
              "Rural        144\n",
              "Urban        121\n",
              "Name: Property_Area, dtype: int64"
            ]
          },
          "metadata": {},
          "execution_count": 206
        }
      ]
    },
    {
      "cell_type": "code",
      "metadata": {
        "colab": {
          "base_uri": "https://localhost:8080/"
        },
        "id": "I9_0ShQvI0wx",
        "outputId": "41b34640-8218-4b4e-892d-ec3f880b0d7e"
      },
      "source": [
        "ltrain_df['Loan_Status'].value_counts()"
      ],
      "execution_count": null,
      "outputs": [
        {
          "output_type": "execute_result",
          "data": {
            "text/plain": [
              "Y    298\n",
              "N    128\n",
              "Name: Loan_Status, dtype: int64"
            ]
          },
          "metadata": {},
          "execution_count": 207
        }
      ]
    },
    {
      "cell_type": "code",
      "metadata": {
        "colab": {
          "base_uri": "https://localhost:8080/"
        },
        "id": "o12VLgFTf3p-",
        "outputId": "841e5349-1585-427c-ac30-32a588ba93d9"
      },
      "source": [
        "ltrain_df['Loan_Amount_Term'].value_counts()"
      ],
      "execution_count": null,
      "outputs": [
        {
          "output_type": "execute_result",
          "data": {
            "text/plain": [
              "360.0    366\n",
              "180.0     27\n",
              "480.0     10\n",
              "300.0      6\n",
              "84.0       4\n",
              "60.0       2\n",
              "240.0      1\n",
              "12.0       1\n",
              "36.0       1\n",
              "Name: Loan_Amount_Term, dtype: int64"
            ]
          },
          "metadata": {},
          "execution_count": 208
        }
      ]
    },
    {
      "cell_type": "code",
      "metadata": {
        "colab": {
          "base_uri": "https://localhost:8080/"
        },
        "id": "POryjAz7gk-M",
        "outputId": "ad55db12-7bb8-4633-dc21-e927649dd411"
      },
      "source": [
        "#Replaced Nulls with majority value\n",
        "ltrain_df['Loan_Amount_Term'].fillna(value = 360, inplace = True)\n",
        "ltrain_df['Loan_Amount_Term'].value_counts()"
      ],
      "execution_count": null,
      "outputs": [
        {
          "output_type": "execute_result",
          "data": {
            "text/plain": [
              "360.0    374\n",
              "180.0     27\n",
              "480.0     10\n",
              "300.0      6\n",
              "84.0       4\n",
              "60.0       2\n",
              "240.0      1\n",
              "12.0       1\n",
              "36.0       1\n",
              "Name: Loan_Amount_Term, dtype: int64"
            ]
          },
          "metadata": {},
          "execution_count": 209
        }
      ]
    },
    {
      "cell_type": "code",
      "metadata": {
        "colab": {
          "base_uri": "https://localhost:8080/"
        },
        "id": "m7OaQ9tcf36G",
        "outputId": "2fe28bb5-1648-4178-e63d-e6dc0917ed3f"
      },
      "source": [
        "ltrain_df['Credit_History'].value_counts()"
      ],
      "execution_count": null,
      "outputs": [
        {
          "output_type": "execute_result",
          "data": {
            "text/plain": [
              "1.0    328\n",
              "0.0     64\n",
              "Name: Credit_History, dtype: int64"
            ]
          },
          "metadata": {},
          "execution_count": 210
        }
      ]
    },
    {
      "cell_type": "code",
      "metadata": {
        "colab": {
          "base_uri": "https://localhost:8080/"
        },
        "id": "0A0kSJ8Kglam",
        "outputId": "708191ba-bab4-4142-9f5f-30e57fdc4c94"
      },
      "source": [
        "#Replaced Nulls with 0\n",
        "ltrain_df['Credit_History'].fillna(value = 0, inplace = True)\n",
        "ltrain_df['Credit_History'].value_counts()"
      ],
      "execution_count": null,
      "outputs": [
        {
          "output_type": "execute_result",
          "data": {
            "text/plain": [
              "1.0    328\n",
              "0.0     98\n",
              "Name: Credit_History, dtype: int64"
            ]
          },
          "metadata": {},
          "execution_count": 211
        }
      ]
    },
    {
      "cell_type": "code",
      "metadata": {
        "colab": {
          "base_uri": "https://localhost:8080/"
        },
        "id": "LzTD0Hj4hIvD",
        "outputId": "b6644e54-4bc5-4f1b-b577-3eeceb23a253"
      },
      "source": [
        "ltrain_df.isnull().sum()"
      ],
      "execution_count": null,
      "outputs": [
        {
          "output_type": "execute_result",
          "data": {
            "text/plain": [
              "Gender               0\n",
              "Married              0\n",
              "Dependents           0\n",
              "Education            0\n",
              "Self_Employed        0\n",
              "ApplicantIncome      0\n",
              "CoapplicantIncome    0\n",
              "LoanAmount           0\n",
              "Loan_Amount_Term     0\n",
              "Credit_History       0\n",
              "Property_Area        0\n",
              "Loan_Status          0\n",
              "dtype: int64"
            ]
          },
          "metadata": {},
          "execution_count": 212
        }
      ]
    },
    {
      "cell_type": "markdown",
      "metadata": {
        "id": "yFlRfgjYkfpa"
      },
      "source": [
        "Step 2:\n",
        "\n",
        "Examine and Visualize Data"
      ]
    },
    {
      "cell_type": "code",
      "metadata": {
        "colab": {
          "base_uri": "https://localhost:8080/",
          "height": 317
        },
        "id": "V1kw7FK34myV",
        "outputId": "53178f21-8801-4d9b-db8a-31bfab8c2a06"
      },
      "source": [
        "plt.style.use('seaborn-dark')\n",
        "\n",
        "ltrain_df.groupby(['Loan_Status'])[['Loan_Status']].count().plot(kind = \"bar\", legend = False)\n",
        "plt.grid(axis = 'y', c = 'grey', linewidth = 1)\n",
        "plt.title('')\n",
        "plt.ylabel('Counts', fontsize = 15)\n",
        "plt.xlabel('Loan Approval', fontsize = 15)\n",
        "plt.xticks(rotation = 0, fontsize = 13)\n",
        "plt.yticks(fontsize = 13);\n",
        "\n",
        "\n",
        "print('The percentage of Yes : ', round((ltrain_df['Loan_Status'].value_counts(normalize = True)[0]), 4)*100, '%')\n",
        "print('The percentage of No : ', round((ltrain_df['Loan_Status'].value_counts(normalize = True)[1]), 4)*100, '%');"
      ],
      "execution_count": null,
      "outputs": [
        {
          "output_type": "stream",
          "name": "stdout",
          "text": [
            "The percentage of Yes :  69.95 %\n",
            "The percentage of No :  30.049999999999997 %\n"
          ]
        },
        {
          "output_type": "display_data",
          "data": {
            "image/png": "[encoded data removed]",
            "text/plain": [
              "<Figure size 432x288 with 1 Axes>"
            ]
          },
          "metadata": {}
        }
      ]
    },
    {
      "cell_type": "markdown",
      "metadata": {
        "id": "W7u7uofn-sa6"
      },
      "source": [
        "~70% of loans are approved"
      ]
    },
    {
      "cell_type": "code",
      "metadata": {
        "colab": {
          "base_uri": "https://localhost:8080/",
          "height": 330
        },
        "id": "Lc5beXo-nBYG",
        "outputId": "41415dbc-4e4e-4e75-8b5f-dc498a8ec414"
      },
      "source": [
        "#Correlations in data\n",
        "corr = ltrain_df.corr()\n",
        "sns.heatmap(corr, cmap = 'Blues', annot = True)\n",
        "plt.xticks(rotation = 45)\n",
        "plt.yticks(rotation = 45);"
      ],
      "execution_count": null,
      "outputs": [
        {
          "output_type": "display_data",
          "data": {
            "image/png": "[encoded data removed]",
            "text/plain": [
              "<Figure size 432x288 with 2 Axes>"
            ]
          },
          "metadata": {}
        }
      ]
    },
    {
      "cell_type": "markdown",
      "metadata": {
        "id": "44qPzeNkn_F7"
      },
      "source": [
        "The only 2 columns that have a strong correlation are Loan Amount and Applicant Income"
      ]
    },
    {
      "cell_type": "markdown",
      "metadata": {
        "id": "FPNANy0jqnm_"
      },
      "source": [
        "Those with a Credit history had a much greater chance of having their loan approved."
      ]
    },
    {
      "cell_type": "code",
      "metadata": {
        "colab": {
          "base_uri": "https://localhost:8080/",
          "height": 354
        },
        "id": "_MiUQqOJ-zAM",
        "outputId": "094c463b-7cba-4007-fbb5-ba6981dc3b9f"
      },
      "source": [
        "plt.style.use('seaborn-dark')\n",
        "\n",
        "ltrain_df.groupby(['Gender', 'Loan_Status'])[['Loan_Status']].count().plot(kind = \"bar\", legend = False)\n",
        "plt.grid(axis = 'y', c = 'grey', linewidth = 1)\n",
        "plt.title('Gender Approval', fontsize = 20)\n",
        "plt.ylabel('', fontsize = 15)\n",
        "plt.xlabel('', fontsize = 15)\n",
        "plt.xticks(rotation = 0, fontsize = 13)\n",
        "plt.yticks(fontsize = 13);\n",
        "\n",
        "female = ltrain_df['Gender'] == 'Female'\n",
        "male = ltrain_df['Gender'] == 'Male'\n",
        "f_df = ltrain_df[female]\n",
        "m_df = ltrain_df[male]\n",
        "\n",
        "print('The percentage of Females approved : ', round((f_df['Loan_Status'].value_counts(normalize = True)[0]), 2)*100, '%')\n",
        "print('The percentage of Females not approved : ', round((f_df['Loan_Status'].value_counts(normalize = True)[1]), 2)*100, '%')\n",
        "print('The percentage of Males approved : ', round((m_df['Loan_Status'].value_counts(normalize = True)[0]), 2)*100, '%')\n",
        "print('The percentage of Males not approved : ', round((m_df['Loan_Status'].value_counts(normalize = True)[1]), 2)*100, '%');"
      ],
      "execution_count": null,
      "outputs": [
        {
          "output_type": "stream",
          "name": "stdout",
          "text": [
            "The percentage of Females approved :  67.0 %\n",
            "The percentage of Females not approved :  33.0 %\n",
            "The percentage of Males approved :  71.0 %\n",
            "The percentage of Males not approved :  28.999999999999996 %\n"
          ]
        },
        {
          "output_type": "display_data",
          "data": {
            "image/png": "[encoded data removed]",
            "text/plain": [
              "<Figure size 432x288 with 1 Axes>"
            ]
          },
          "metadata": {}
        }
      ]
    },
    {
      "cell_type": "markdown",
      "metadata": {
        "id": "RWG-USKEGFl7"
      },
      "source": [
        "Step 3: Preprocessing"
      ]
    },
    {
      "cell_type": "code",
      "metadata": {
        "colab": {
          "base_uri": "https://localhost:8080/"
        },
        "id": "jrRN9mD0GD_X",
        "outputId": "dbef5987-03b4-416e-b196-7885da17bf5f"
      },
      "source": [
        "ltrain_df.info()"
      ],
      "execution_count": null,
      "outputs": [
        {
          "output_type": "stream",
          "name": "stdout",
          "text": [
            "<class 'pandas.core.frame.DataFrame'>\n",
            "Index: 426 entries, LP001003 to LP002990\n",
            "Data columns (total 12 columns):\n",
            " #   Column             Non-Null Count  Dtype  \n",
            "---  ------             --------------  -----  \n",
            " 0   Gender             426 non-null    object \n",
            " 1   Married            426 non-null    object \n",
            " 2   Dependents         426 non-null    object \n",
            " 3   Education          426 non-null    object \n",
            " 4   Self_Employed      426 non-null    object \n",
            " 5   ApplicantIncome    426 non-null    int64  \n",
            " 6   CoapplicantIncome  426 non-null    float64\n",
            " 7   LoanAmount         426 non-null    float64\n",
            " 8   Loan_Amount_Term   426 non-null    float64\n",
            " 9   Credit_History     426 non-null    float64\n",
            " 10  Property_Area      426 non-null    object \n",
            " 11  Loan_Status        426 non-null    object \n",
            "dtypes: float64(4), int64(1), object(7)\n",
            "memory usage: 43.3+ KB\n"
          ]
        }
      ]
    },
    {
      "cell_type": "code",
      "metadata": {
        "id": "fkGfVaP_GRVB"
      },
      "source": [
        "ltr_df = pd.get_dummies(ltrain_df, columns= ['Gender', 'Married', 'Education', 'Self_Employed', 'Property_Area'], drop_first= True)"
      ],
      "execution_count": null,
      "outputs": []
    },
    {
      "cell_type": "code",
      "metadata": {
        "colab": {
          "base_uri": "https://localhost:8080/",
          "height": 238
        },
        "id": "fwSh5M9WHiKx",
        "outputId": "83d2d89c-daed-4a22-9ddf-da3a2e6e7273"
      },
      "source": [
        "dep = {'0' : 0, '1': 1, '2': 2, '3+': 3}\n",
        "ltr_df['Dependents'] = ltr_df['Dependents'].map(dep)\n",
        "ltr_df.head()"
      ],
      "execution_count": null,
      "outputs": [
        {
          "output_type": "execute_result",
          "data": {
            "text/html": [
              "<div>\n",
              "<style scoped>\n",
              "    .dataframe tbody tr th:only-of-type {\n",
              "        vertical-align: middle;\n",
              "    }\n",
              "\n",
              "    .dataframe tbody tr th {\n",
              "        vertical-align: top;\n",
              "    }\n",
              "\n",
              "    .dataframe thead th {\n",
              "        text-align: right;\n",
              "    }\n",
              "</style>\n",
              "<table border=\"1\" class=\"dataframe\">\n",
              "  <thead>\n",
              "    <tr style=\"text-align: right;\">\n",
              "      <th></th>\n",
              "      <th>Dependents</th>\n",
              "      <th>ApplicantIncome</th>\n",
              "      <th>CoapplicantIncome</th>\n",
              "      <th>LoanAmount</th>\n",
              "      <th>Loan_Amount_Term</th>\n",
              "      <th>Credit_History</th>\n",
              "      <th>Loan_Status</th>\n",
              "      <th>Gender_Male</th>\n",
              "      <th>Married_Yes</th>\n",
              "      <th>Education_Not Graduate</th>\n",
              "      <th>Self_Employed_Yes</th>\n",
              "      <th>Property_Area_Semiurban</th>\n",
              "      <th>Property_Area_Urban</th>\n",
              "    </tr>\n",
              "    <tr>\n",
              "      <th>Loan_ID</th>\n",
              "      <th></th>\n",
              "      <th></th>\n",
              "      <th></th>\n",
              "      <th></th>\n",
              "      <th></th>\n",
              "      <th></th>\n",
              "      <th></th>\n",
              "      <th></th>\n",
              "      <th></th>\n",
              "      <th></th>\n",
              "      <th></th>\n",
              "      <th></th>\n",
              "      <th></th>\n",
              "    </tr>\n",
              "  </thead>\n",
              "  <tbody>\n",
              "    <tr>\n",
              "      <th>LP001003</th>\n",
              "      <td>1</td>\n",
              "      <td>4583</td>\n",
              "      <td>1508.0</td>\n",
              "      <td>128.0</td>\n",
              "      <td>360.0</td>\n",
              "      <td>1.0</td>\n",
              "      <td>N</td>\n",
              "      <td>1</td>\n",
              "      <td>1</td>\n",
              "      <td>0</td>\n",
              "      <td>0</td>\n",
              "      <td>0</td>\n",
              "      <td>0</td>\n",
              "    </tr>\n",
              "    <tr>\n",
              "      <th>LP001006</th>\n",
              "      <td>0</td>\n",
              "      <td>2583</td>\n",
              "      <td>2358.0</td>\n",
              "      <td>120.0</td>\n",
              "      <td>360.0</td>\n",
              "      <td>1.0</td>\n",
              "      <td>Y</td>\n",
              "      <td>1</td>\n",
              "      <td>1</td>\n",
              "      <td>1</td>\n",
              "      <td>0</td>\n",
              "      <td>0</td>\n",
              "      <td>1</td>\n",
              "    </tr>\n",
              "    <tr>\n",
              "      <th>LP001008</th>\n",
              "      <td>0</td>\n",
              "      <td>6000</td>\n",
              "      <td>0.0</td>\n",
              "      <td>141.0</td>\n",
              "      <td>360.0</td>\n",
              "      <td>1.0</td>\n",
              "      <td>Y</td>\n",
              "      <td>1</td>\n",
              "      <td>0</td>\n",
              "      <td>0</td>\n",
              "      <td>0</td>\n",
              "      <td>0</td>\n",
              "      <td>1</td>\n",
              "    </tr>\n",
              "    <tr>\n",
              "      <th>LP001011</th>\n",
              "      <td>2</td>\n",
              "      <td>5417</td>\n",
              "      <td>4196.0</td>\n",
              "      <td>267.0</td>\n",
              "      <td>360.0</td>\n",
              "      <td>1.0</td>\n",
              "      <td>Y</td>\n",
              "      <td>1</td>\n",
              "      <td>1</td>\n",
              "      <td>0</td>\n",
              "      <td>1</td>\n",
              "      <td>0</td>\n",
              "      <td>1</td>\n",
              "    </tr>\n",
              "    <tr>\n",
              "      <th>LP001014</th>\n",
              "      <td>3</td>\n",
              "      <td>3036</td>\n",
              "      <td>2504.0</td>\n",
              "      <td>158.0</td>\n",
              "      <td>360.0</td>\n",
              "      <td>0.0</td>\n",
              "      <td>N</td>\n",
              "      <td>1</td>\n",
              "      <td>1</td>\n",
              "      <td>0</td>\n",
              "      <td>0</td>\n",
              "      <td>1</td>\n",
              "      <td>0</td>\n",
              "    </tr>\n",
              "  </tbody>\n",
              "</table>\n",
              "</div>"
            ],
            "text/plain": [
              "          Dependents  ...  Property_Area_Urban\n",
              "Loan_ID               ...                     \n",
              "LP001003           1  ...                    0\n",
              "LP001006           0  ...                    1\n",
              "LP001008           0  ...                    1\n",
              "LP001011           2  ...                    1\n",
              "LP001014           3  ...                    0\n",
              "\n",
              "[5 rows x 13 columns]"
            ]
          },
          "metadata": {},
          "execution_count": 218
        }
      ]
    },
    {
      "cell_type": "code",
      "metadata": {
        "id": "l01exQUo_xrK"
      },
      "source": [
        "y = ltr_df['Loan_Status'] #Target\n",
        "X = ltr_df.drop(columns= 'Loan_Status') #Features"
      ],
      "execution_count": null,
      "outputs": []
    },
    {
      "cell_type": "code",
      "metadata": {
        "id": "AI30bCeb_-Tq"
      },
      "source": [
        "#Train Test Split and scaling\n",
        "X_train, X_test, y_train, y_test = train_test_split(X, y, random_state=42)\n",
        "\n",
        "scaler = StandardScaler()\n",
        "X_train = scaler.fit_transform(X_train) \n",
        "X_test = scaler.transform(X_test)"
      ],
      "execution_count": null,
      "outputs": []
    },
    {
      "cell_type": "code",
      "metadata": {
        "colab": {
          "base_uri": "https://localhost:8080/"
        },
        "id": "-MYmjIkwppuy",
        "outputId": "30db2b8b-9dcb-41f0-a105-d6c3474fc874"
      },
      "source": [
        "X_train.shape"
      ],
      "execution_count": null,
      "outputs": [
        {
          "output_type": "execute_result",
          "data": {
            "text/plain": [
              "(319, 12)"
            ]
          },
          "metadata": {},
          "execution_count": 221
        }
      ]
    },
    {
      "cell_type": "code",
      "metadata": {
        "id": "KRg7YFegHbjR"
      },
      "source": [
        "#Reduce feature count to 95% varience\n",
        "pca = PCA(n_components = .95)\n",
        "X_train_pca = pca.fit_transform(X_train)\n",
        "X_test_pca = pca.transform(X_test)"
      ],
      "execution_count": null,
      "outputs": []
    },
    {
      "cell_type": "markdown",
      "metadata": {
        "id": "jfYiFiP3FOEK"
      },
      "source": [
        "Step 4: Baseline Model Testing"
      ]
    },
    {
      "cell_type": "code",
      "metadata": {
        "colab": {
          "base_uri": "https://localhost:8080/"
        },
        "id": "d4nTK8jvAbYs",
        "outputId": "e4e19a6b-986f-4115-a524-f86b17547c1b"
      },
      "source": [
        "y.value_counts(normalize= True)\n",
        "#Baseline prediction is 70% accurate. "
      ],
      "execution_count": null,
      "outputs": [
        {
          "output_type": "execute_result",
          "data": {
            "text/plain": [
              "Y    0.699531\n",
              "N    0.300469\n",
              "Name: Loan_Status, dtype: float64"
            ]
          },
          "metadata": {},
          "execution_count": 223
        }
      ]
    },
    {
      "cell_type": "markdown",
      "metadata": {
        "id": "jTex8VzxGS2m"
      },
      "source": [
        "Begin Modeling Default Tuning"
      ]
    },
    {
      "cell_type": "code",
      "metadata": {
        "colab": {
          "base_uri": "https://localhost:8080/"
        },
        "id": "tSYsY2WxGCA-",
        "outputId": "49e98b29-7968-49b0-fde6-f8b6cbc3125c"
      },
      "source": [
        "#K Nearest Neighbors\n",
        "#Accuracy 72%\n",
        "\n",
        "knn = KNeighborsClassifier()\n",
        "knn.fit(X_train_pca, y_train)\n",
        "\n",
        "print('Training accuracy:', knn.score(X_train_pca, y_train))\n",
        "print('Testing accuracy:', knn.score(X_test_pca, y_test))\n",
        "print('Classification Report: ', classification_report(y_test, knn.predict(X_test_pca)))"
      ],
      "execution_count": null,
      "outputs": [
        {
          "output_type": "stream",
          "name": "stdout",
          "text": [
            "Training accuracy: 0.7899686520376176\n",
            "Testing accuracy: 0.719626168224299\n",
            "Classification Report:                precision    recall  f1-score   support\n",
            "\n",
            "           N       0.68      0.35      0.46        37\n",
            "           Y       0.73      0.91      0.81        70\n",
            "\n",
            "    accuracy                           0.72       107\n",
            "   macro avg       0.71      0.63      0.64       107\n",
            "weighted avg       0.71      0.72      0.69       107\n",
            "\n"
          ]
        }
      ]
    },
    {
      "cell_type": "code",
      "metadata": {
        "colab": {
          "base_uri": "https://localhost:8080/"
        },
        "id": "q8FA9afKI89_",
        "outputId": "8479721d-34c4-47a0-d0b3-aaffcdbc40cd"
      },
      "source": [
        "#Random Forest Classifier\n",
        "#Accuracy 77%\n",
        "\n",
        "rfc = RandomForestClassifier()\n",
        "rfc.fit(X_train_pca, y_train)\n",
        "\n",
        "print('Training accuracy:', rfc.score(X_train_pca, y_train))\n",
        "print('Testing accuracy:', rfc.score(X_test_pca, y_test))\n",
        "print('Classification Report: ', classification_report(y_test, rfc.predict(X_test_pca)))"
      ],
      "execution_count": null,
      "outputs": [
        {
          "output_type": "stream",
          "name": "stdout",
          "text": [
            "Training accuracy: 1.0\n",
            "Testing accuracy: 0.7850467289719626\n",
            "Classification Report:                precision    recall  f1-score   support\n",
            "\n",
            "           N       0.85      0.46      0.60        37\n",
            "           Y       0.77      0.96      0.85        70\n",
            "\n",
            "    accuracy                           0.79       107\n",
            "   macro avg       0.81      0.71      0.72       107\n",
            "weighted avg       0.80      0.79      0.76       107\n",
            "\n"
          ]
        }
      ]
    },
    {
      "cell_type": "code",
      "metadata": {
        "colab": {
          "base_uri": "https://localhost:8080/"
        },
        "id": "TBWXPL2BJTYf",
        "outputId": "f85404d8-c5cd-4803-fbf8-3d3da271ebf2"
      },
      "source": [
        "#Logistic Regression\n",
        "#Accuracy 77%\n",
        "\n",
        "lrg = LogisticRegression()\n",
        "lrg.fit(X_train_pca, y_train)\n",
        "\n",
        "print('Training accuracy:', lrg.score(X_train_pca, y_train))\n",
        "print('Testing accuracy:', lrg.score(X_test_pca, y_test))\n",
        "print('Classification Report: ', classification_report(y_test, lrg.predict(X_test_pca)))"
      ],
      "execution_count": null,
      "outputs": [
        {
          "output_type": "stream",
          "name": "stdout",
          "text": [
            "Training accuracy: 0.7962382445141066\n",
            "Testing accuracy: 0.7663551401869159\n",
            "Classification Report:                precision    recall  f1-score   support\n",
            "\n",
            "           N       0.80      0.43      0.56        37\n",
            "           Y       0.76      0.94      0.84        70\n",
            "\n",
            "    accuracy                           0.77       107\n",
            "   macro avg       0.78      0.69      0.70       107\n",
            "weighted avg       0.77      0.77      0.74       107\n",
            "\n"
          ]
        }
      ]
    },
    {
      "cell_type": "code",
      "metadata": {
        "colab": {
          "base_uri": "https://localhost:8080/"
        },
        "id": "BvnKwgRNKJd1",
        "outputId": "99d046fd-0f00-483b-b2a0-f7a49839ee5e"
      },
      "source": [
        "#AdaBoost Classifier\n",
        "#Accuracy 72%\n",
        "\n",
        "ada = AdaBoostClassifier()\n",
        "ada.fit(X_train_pca, y_train)\n",
        "\n",
        "print('Training accuracy:', ada.score(X_train_pca, y_train))\n",
        "print('Testing accuracy:', ada.score(X_test_pca, y_test))\n",
        "print('Classification Report: ', classification_report(y_test, ada.predict(X_test_pca)))"
      ],
      "execution_count": null,
      "outputs": [
        {
          "output_type": "stream",
          "name": "stdout",
          "text": [
            "Training accuracy: 0.8808777429467085\n",
            "Testing accuracy: 0.719626168224299\n",
            "Classification Report:                precision    recall  f1-score   support\n",
            "\n",
            "           N       0.67      0.38      0.48        37\n",
            "           Y       0.73      0.90      0.81        70\n",
            "\n",
            "    accuracy                           0.72       107\n",
            "   macro avg       0.70      0.64      0.65       107\n",
            "weighted avg       0.71      0.72      0.70       107\n",
            "\n"
          ]
        }
      ]
    },
    {
      "cell_type": "code",
      "metadata": {
        "colab": {
          "base_uri": "https://localhost:8080/"
        },
        "id": "QayQItiMKY4o",
        "outputId": "8e5c2df9-3762-4d10-a9b2-ea9af0b790c3"
      },
      "source": [
        "#Gradient Boosting Classifier\n",
        "#Accuracy 78%\n",
        "\n",
        "gbc = GradientBoostingClassifier()\n",
        "gbc.fit(X_train_pca, y_train)\n",
        "\n",
        "print('Training accuracy:', gbc.score(X_train_pca, y_train))\n",
        "print('Testing accuracy:', gbc.score(X_test_pca, y_test))\n",
        "print('Classification Report: ', classification_report(y_test, gbc.predict(X_test_pca)))"
      ],
      "execution_count": null,
      "outputs": [
        {
          "output_type": "stream",
          "name": "stdout",
          "text": [
            "Training accuracy: 0.9623824451410659\n",
            "Testing accuracy: 0.7757009345794392\n",
            "Classification Report:                precision    recall  f1-score   support\n",
            "\n",
            "           N       0.81      0.46      0.59        37\n",
            "           Y       0.77      0.94      0.85        70\n",
            "\n",
            "    accuracy                           0.78       107\n",
            "   macro avg       0.79      0.70      0.72       107\n",
            "weighted avg       0.78      0.78      0.76       107\n",
            "\n"
          ]
        }
      ]
    },
    {
      "cell_type": "code",
      "metadata": {
        "colab": {
          "base_uri": "https://localhost:8080/"
        },
        "id": "OvUxRT9tKvEK",
        "outputId": "ce18d34f-cb07-4969-e3dc-56827949eacf"
      },
      "source": [
        "#XGBoost Classifier\n",
        "#Accuracy 76%\n",
        "\n",
        "xgb = XGBClassifier()\n",
        "xgb.fit(X_train_pca, y_train)\n",
        "\n",
        "print('Training accuracy:', xgb.score(X_train_pca, y_train))\n",
        "print('Testing accuracy:', xgb.score(X_test_pca, y_test))\n",
        "print('Classification Report: ', classification_report(y_test, xgb.predict(X_test_pca)))"
      ],
      "execution_count": null,
      "outputs": [
        {
          "output_type": "stream",
          "name": "stdout",
          "text": [
            "Training accuracy: 0.9435736677115988\n",
            "Testing accuracy: 0.7570093457943925\n",
            "Classification Report:                precision    recall  f1-score   support\n",
            "\n",
            "           N       0.82      0.38      0.52        37\n",
            "           Y       0.74      0.96      0.84        70\n",
            "\n",
            "    accuracy                           0.76       107\n",
            "   macro avg       0.78      0.67      0.68       107\n",
            "weighted avg       0.77      0.76      0.73       107\n",
            "\n"
          ]
        }
      ]
    },
    {
      "cell_type": "code",
      "metadata": {
        "colab": {
          "base_uri": "https://localhost:8080/"
        },
        "id": "AF_4ZJAXLEal",
        "outputId": "5d301a7d-c3ec-45e6-e526-f5e0812cbed7"
      },
      "source": [
        "#LGBModel Classifier\n",
        "#Accuracy 72%\n",
        "\n",
        "lgb = LGBMClassifier()\n",
        "lgb.fit(X_train_pca, y_train)\n",
        "\n",
        "print('Training accuracy:', lgb.score(X_train_pca, y_train))\n",
        "print('Testing accuracy:', lgb.score(X_test_pca, y_test))\n",
        "print('Classification Report: ', classification_report(y_test, lgb.predict(X_test_pca)))"
      ],
      "execution_count": null,
      "outputs": [
        {
          "output_type": "stream",
          "name": "stdout",
          "text": [
            "Training accuracy: 1.0\n",
            "Testing accuracy: 0.719626168224299\n",
            "Classification Report:                precision    recall  f1-score   support\n",
            "\n",
            "           N       0.67      0.38      0.48        37\n",
            "           Y       0.73      0.90      0.81        70\n",
            "\n",
            "    accuracy                           0.72       107\n",
            "   macro avg       0.70      0.64      0.65       107\n",
            "weighted avg       0.71      0.72      0.70       107\n",
            "\n"
          ]
        }
      ]
    },
    {
      "cell_type": "markdown",
      "metadata": {
        "id": "1ia2wKk-LWxB"
      },
      "source": [
        "All models have slightly higher baseline prediction over initial baseline.\n",
        "\n",
        "Choosing 4 models to tune based on untuned accuracy\n",
        "\n",
        "*   XGBoost\n",
        "*   Gradient Boosting\n",
        "*   Logistic Regression\n",
        "*   Random Forest\n",
        "\n",
        "\n",
        "\n"
      ]
    },
    {
      "cell_type": "code",
      "metadata": {
        "colab": {
          "base_uri": "https://localhost:8080/"
        },
        "id": "dtULj_EFM3zK",
        "outputId": "c2ea812a-33e9-4490-cca2-78acd399d70c"
      },
      "source": [
        "#Random Forest Parameters\n",
        "rfc.get_params"
      ],
      "execution_count": null,
      "outputs": [
        {
          "output_type": "execute_result",
          "data": {
            "text/plain": [
              "<bound method BaseEstimator.get_params of RandomForestClassifier(bootstrap=True, ccp_alpha=0.0, class_weight=None,\n",
              "                       criterion='gini', max_depth=None, max_features='auto',\n",
              "                       max_leaf_nodes=None, max_samples=None,\n",
              "                       min_impurity_decrease=0.0, min_impurity_split=None,\n",
              "                       min_samples_leaf=1, min_samples_split=2,\n",
              "                       min_weight_fraction_leaf=0.0, n_estimators=100,\n",
              "                       n_jobs=None, oob_score=False, random_state=None,\n",
              "                       verbose=0, warm_start=False)>"
            ]
          },
          "metadata": {},
          "execution_count": 231
        }
      ]
    },
    {
      "cell_type": "code",
      "metadata": {
        "colab": {
          "base_uri": "https://localhost:8080/",
          "height": 276
        },
        "id": "oS33saGSbYzZ",
        "outputId": "d57514ab-2fe8-43a8-ebc1-7f7b58f20347"
      },
      "source": [
        "#Test for Max Depth\n",
        "max_depth_range = list(range(2, 25)) \n",
        "\n",
        "r2 = []\n",
        "for depth in max_depth_range:\n",
        "    rfc = RandomForestClassifier(max_depth = depth, random_state = 42)\n",
        "    rfc.fit(X_train_pca, y_train)\n",
        "\n",
        "    score = rfc.score(X_test_pca, y_test)\n",
        "    \n",
        "    r2.append(score);\n",
        "\n",
        "plt.plot(max_depth_range, r2)\n",
        "plt.grid(axis = 'x')\n",
        "plt.xlabel('max_depth')\n",
        "plt.ylabel('R2');"
      ],
      "execution_count": null,
      "outputs": [
        {
          "output_type": "display_data",
          "data": {
            "image/png": "[encoded data removed]",
            "text/plain": [
              "<Figure size 432x288 with 1 Axes>"
            ]
          },
          "metadata": {}
        }
      ]
    },
    {
      "cell_type": "code",
      "metadata": {
        "colab": {
          "base_uri": "https://localhost:8080/"
        },
        "id": "47BhvOorL_lU",
        "outputId": "598ddabf-5910-49ba-d748-7ca3657ddcb1"
      },
      "source": [
        "#Random Forest tuning with GridSearchCV\n",
        "\n",
        "rfc_param_grid = {'n_estimators': [100, 150, 200, 250, 300],\n",
        "                  'max_depth' : [5, 9, 12, 14, 15]}\n",
        "\n",
        "grid = GridSearchCV(rfc, rfc_param_grid)\n",
        "\n",
        "grid.fit(X_train_pca, y_train)\n",
        "print(grid.best_params_)\n",
        "print(grid.score(X_test_pca, y_test))\n"
      ],
      "execution_count": null,
      "outputs": [
        {
          "output_type": "stream",
          "name": "stdout",
          "text": [
            "{'max_depth': 5, 'n_estimators': 100}\n",
            "0.7757009345794392\n"
          ]
        }
      ]
    },
    {
      "cell_type": "code",
      "metadata": {
        "colab": {
          "base_uri": "https://localhost:8080/"
        },
        "id": "PQt6n9rOcfFy",
        "outputId": "18455f3c-e4be-46e1-c3de-4a963c93b10f"
      },
      "source": [
        "#Tuned Random Forest Classifier\n",
        "#Accuracy 78% (2% improvement)\n",
        "\n",
        "tuned_rfc = RandomForestClassifier(max_depth= 5, n_estimators= 100)\n",
        "tuned_rfc.fit(X_train_pca, y_train)\n",
        "\n",
        "print('Training accuracy:', tuned_rfc.score(X_train_pca, y_train))\n",
        "print('Testing accuracy:', tuned_rfc.score(X_test_pca, y_test))\n",
        "print('Classification Report: ', classification_report(y_test, tuned_rfc.predict(X_test_pca)))"
      ],
      "execution_count": null,
      "outputs": [
        {
          "output_type": "stream",
          "name": "stdout",
          "text": [
            "Training accuracy: 0.8934169278996865\n",
            "Testing accuracy: 0.7570093457943925\n",
            "Classification Report:                precision    recall  f1-score   support\n",
            "\n",
            "           N       0.87      0.35      0.50        37\n",
            "           Y       0.74      0.97      0.84        70\n",
            "\n",
            "    accuracy                           0.76       107\n",
            "   macro avg       0.80      0.66      0.67       107\n",
            "weighted avg       0.78      0.76      0.72       107\n",
            "\n"
          ]
        }
      ]
    },
    {
      "cell_type": "code",
      "metadata": {
        "colab": {
          "base_uri": "https://localhost:8080/"
        },
        "id": "Y-26bzfZeCOQ",
        "outputId": "085fbebd-897f-4fbc-9ae5-d26b130d6cb4"
      },
      "source": [
        "lrg.get_params"
      ],
      "execution_count": null,
      "outputs": [
        {
          "output_type": "execute_result",
          "data": {
            "text/plain": [
              "<bound method BaseEstimator.get_params of LogisticRegression(C=1.0, class_weight=None, dual=False, fit_intercept=True,\n",
              "                   intercept_scaling=1, l1_ratio=None, max_iter=100,\n",
              "                   multi_class='auto', n_jobs=None, penalty='l2',\n",
              "                   random_state=None, solver='lbfgs', tol=0.0001, verbose=0,\n",
              "                   warm_start=False)>"
            ]
          },
          "metadata": {},
          "execution_count": 235
        }
      ]
    },
    {
      "cell_type": "code",
      "metadata": {
        "colab": {
          "base_uri": "https://localhost:8080/"
        },
        "id": "EqvPFZwodZnk",
        "outputId": "0260180d-a3e8-4bee-a8ec-3c44b2e1b781"
      },
      "source": [
        "#Logistic Regression tuning with GridSearchCV\n",
        "\n",
        "lrg_param_grid = {'max_iter' : [50, 100, 150, 200, 300],\n",
        "                  'penalty' : ['none', 'l2']}\n",
        "\n",
        "grid = GridSearchCV(lrg, lrg_param_grid)\n",
        "\n",
        "grid.fit(X_train_pca, y_train)\n",
        "print(grid.best_params_)\n",
        "print(grid.score(X_test_pca, y_test))"
      ],
      "execution_count": null,
      "outputs": [
        {
          "output_type": "stream",
          "name": "stdout",
          "text": [
            "{'max_iter': 50, 'penalty': 'none'}\n",
            "0.7663551401869159\n"
          ]
        }
      ]
    },
    {
      "cell_type": "code",
      "metadata": {
        "colab": {
          "base_uri": "https://localhost:8080/"
        },
        "id": "50t8nLOfflkq",
        "outputId": "46a8f835-e138-4f77-c24c-0ab45ba3cf52"
      },
      "source": [
        "#Tuned Logistic Regression\n",
        "#Accuracy 77% (Same as untuned)\n",
        "\n",
        "tuned_lrg = LogisticRegression(max_iter= 50, penalty = 'none')\n",
        "tuned_lrg.fit(X_train_pca, y_train)\n",
        "\n",
        "print('Training accuracy:', tuned_lrg.score(X_train_pca, y_train))\n",
        "print('Testing accuracy:', tuned_lrg.score(X_test_pca, y_test))\n",
        "print('Classification Report: ', classification_report(y_test, tuned_lrg.predict(X_test_pca)))"
      ],
      "execution_count": null,
      "outputs": [
        {
          "output_type": "stream",
          "name": "stdout",
          "text": [
            "Training accuracy: 0.7962382445141066\n",
            "Testing accuracy: 0.7663551401869159\n",
            "Classification Report:                precision    recall  f1-score   support\n",
            "\n",
            "           N       0.80      0.43      0.56        37\n",
            "           Y       0.76      0.94      0.84        70\n",
            "\n",
            "    accuracy                           0.77       107\n",
            "   macro avg       0.78      0.69      0.70       107\n",
            "weighted avg       0.77      0.77      0.74       107\n",
            "\n"
          ]
        }
      ]
    },
    {
      "cell_type": "code",
      "metadata": {
        "colab": {
          "base_uri": "https://localhost:8080/"
        },
        "id": "w1tbJGDVgU52",
        "outputId": "48b23655-f4b6-46d3-a600-7d9fc342cadb"
      },
      "source": [
        "gbc.get_params"
      ],
      "execution_count": null,
      "outputs": [
        {
          "output_type": "execute_result",
          "data": {
            "text/plain": [
              "<bound method BaseEstimator.get_params of GradientBoostingClassifier(ccp_alpha=0.0, criterion='friedman_mse', init=None,\n",
              "                           learning_rate=0.1, loss='deviance', max_depth=3,\n",
              "                           max_features=None, max_leaf_nodes=None,\n",
              "                           min_impurity_decrease=0.0, min_impurity_split=None,\n",
              "                           min_samples_leaf=1, min_samples_split=2,\n",
              "                           min_weight_fraction_leaf=0.0, n_estimators=100,\n",
              "                           n_iter_no_change=None, presort='deprecated',\n",
              "                           random_state=None, subsample=1.0, tol=0.0001,\n",
              "                           validation_fraction=0.1, verbose=0,\n",
              "                           warm_start=False)>"
            ]
          },
          "metadata": {},
          "execution_count": 238
        }
      ]
    },
    {
      "cell_type": "code",
      "metadata": {
        "colab": {
          "base_uri": "https://localhost:8080/",
          "height": 276
        },
        "id": "tzmhsXF_hUA-",
        "outputId": "d2445122-58da-4466-8e16-26257dd3a873"
      },
      "source": [
        "#Test for Max Depth\n",
        "max_depth_range = list(range(2, 25)) \n",
        "\n",
        "r2 = []\n",
        "for depth in max_depth_range:\n",
        "    gbc = GradientBoostingClassifier(max_depth = depth, random_state = 42)\n",
        "    gbc.fit(X_train_pca, y_train)\n",
        "\n",
        "    score = gbc.score(X_test_pca, y_test)\n",
        "    \n",
        "    r2.append(score);\n",
        "\n",
        "plt.plot(max_depth_range, r2)\n",
        "plt.grid(axis = 'x')\n",
        "plt.xlabel('max_depth')\n",
        "plt.ylabel('R2');"
      ],
      "execution_count": null,
      "outputs": [
        {
          "output_type": "display_data",
          "data": {
            "image/png": "[encoded data removed]",
            "text/plain": [
              "<Figure size 432x288 with 1 Axes>"
            ]
          },
          "metadata": {}
        }
      ]
    },
    {
      "cell_type": "code",
      "metadata": {
        "colab": {
          "base_uri": "https://localhost:8080/"
        },
        "id": "99j65KWEgKaM",
        "outputId": "3d3ce9f6-5994-42af-be62-c670f0709be1"
      },
      "source": [
        "#Gradient Boosting tuning with GridSearchCV\n",
        "\n",
        "gbc_param_grid = {'max_depth' : [3,4,5,6,8,10],\n",
        "                  'n_estimators' : [50, 100, 150, 200, 300]}\n",
        "\n",
        "grid = GridSearchCV(gbc, gbc_param_grid)\n",
        "\n",
        "grid.fit(X_train_pca, y_train)\n",
        "print(grid.best_params_)\n",
        "print(grid.score(X_test_pca, y_test))"
      ],
      "execution_count": null,
      "outputs": [
        {
          "output_type": "stream",
          "name": "stdout",
          "text": [
            "{'max_depth': 3, 'n_estimators': 50}\n",
            "0.7757009345794392\n"
          ]
        }
      ]
    },
    {
      "cell_type": "code",
      "metadata": {
        "colab": {
          "base_uri": "https://localhost:8080/"
        },
        "id": "JMkv1B8QgKny",
        "outputId": "3eb110d7-c4af-440b-b10f-9713e9496bae"
      },
      "source": [
        "#Tuned Gradient Boosting Classifier\n",
        "#Accuracy 78%\n",
        "\n",
        "tuned_gbc = GradientBoostingClassifier(max_depth= 3, n_estimators= 50)\n",
        "tuned_gbc.fit(X_train_pca, y_train)\n",
        "\n",
        "print('Training accuracy:', tuned_gbc.score(X_train_pca, y_train))\n",
        "print('Testing accuracy:', tuned_gbc.score(X_test_pca, y_test))\n",
        "print('Classification Report: ', classification_report(y_test, tuned_gbc.predict(X_test_pca)))"
      ],
      "execution_count": null,
      "outputs": [
        {
          "output_type": "stream",
          "name": "stdout",
          "text": [
            "Training accuracy: 0.9184952978056427\n",
            "Testing accuracy: 0.7757009345794392\n",
            "Classification Report:                precision    recall  f1-score   support\n",
            "\n",
            "           N       0.84      0.43      0.57        37\n",
            "           Y       0.76      0.96      0.85        70\n",
            "\n",
            "    accuracy                           0.78       107\n",
            "   macro avg       0.80      0.69      0.71       107\n",
            "weighted avg       0.79      0.78      0.75       107\n",
            "\n"
          ]
        }
      ]
    },
    {
      "cell_type": "code",
      "metadata": {
        "colab": {
          "base_uri": "https://localhost:8080/"
        },
        "id": "YhbUvGfOiv3l",
        "outputId": "402ba85e-4ba1-4368-edd4-f68998dc762a"
      },
      "source": [
        "xgb.get_params"
      ],
      "execution_count": null,
      "outputs": [
        {
          "output_type": "execute_result",
          "data": {
            "text/plain": [
              "<bound method XGBModel.get_params of XGBClassifier(base_score=0.5, booster='gbtree', colsample_bylevel=1,\n",
              "              colsample_bynode=1, colsample_bytree=1, gamma=0,\n",
              "              learning_rate=0.1, max_delta_step=0, max_depth=3,\n",
              "              min_child_weight=1, missing=None, n_estimators=100, n_jobs=1,\n",
              "              nthread=None, objective='binary:logistic', random_state=0,\n",
              "              reg_alpha=0, reg_lambda=1, scale_pos_weight=1, seed=None,\n",
              "              silent=None, subsample=1, verbosity=1)>"
            ]
          },
          "metadata": {},
          "execution_count": 242
        }
      ]
    },
    {
      "cell_type": "code",
      "metadata": {
        "colab": {
          "base_uri": "https://localhost:8080/",
          "height": 276
        },
        "id": "A6EpDqeekEnI",
        "outputId": "9efa6811-c2ea-4ed1-df83-a998cbd05a03"
      },
      "source": [
        "#Test for Max Depth\n",
        "max_depth_range = list(range(2, 25)) \n",
        "\n",
        "r2 = []\n",
        "for depth in max_depth_range:\n",
        "    xgb = GradientBoostingClassifier(max_depth = depth, random_state = 42)\n",
        "    xgb.fit(X_train_pca, y_train)\n",
        "\n",
        "    score = xgb.score(X_test_pca, y_test)\n",
        "    \n",
        "    r2.append(score);\n",
        "\n",
        "plt.plot(max_depth_range, r2)\n",
        "plt.grid(axis = 'x')\n",
        "plt.xlabel('max_depth')\n",
        "plt.ylabel('R2');"
      ],
      "execution_count": null,
      "outputs": [
        {
          "output_type": "display_data",
          "data": {
            "image/png": "[encoded data removed]",
            "text/plain": [
              "<Figure size 432x288 with 1 Axes>"
            ]
          },
          "metadata": {}
        }
      ]
    },
    {
      "cell_type": "code",
      "metadata": {
        "colab": {
          "base_uri": "https://localhost:8080/"
        },
        "id": "XliSUQlyi39t",
        "outputId": "67d07666-c058-4365-d651-f61a30f425e7"
      },
      "source": [
        "#XGBoosting tuning with GridSearchCV\n",
        "\n",
        "xgb_param_grid = {'max_depth' : [3, 4, 5, 6, 8, 10, 12, 15],\n",
        "                  'n_estimators' : [50, 100, 150, 200, 300, 500]}\n",
        "\n",
        "grid = GridSearchCV(xgb, xgb_param_grid)\n",
        "\n",
        "grid.fit(X_train_pca, y_train)\n",
        "print(grid.best_params_)\n",
        "print(grid.score(X_test_pca, y_test))"
      ],
      "execution_count": null,
      "outputs": [
        {
          "output_type": "stream",
          "name": "stdout",
          "text": [
            "{'max_depth': 3, 'n_estimators': 50}\n",
            "0.7757009345794392\n"
          ]
        }
      ]
    },
    {
      "cell_type": "code",
      "metadata": {
        "colab": {
          "base_uri": "https://localhost:8080/"
        },
        "id": "m95IEqryjCQI",
        "outputId": "f53deafd-8718-4862-aa03-cd559e7e5654"
      },
      "source": [
        "#Tuned XGBoosting Classifier\n",
        "#Accuracy 76%\n",
        "\n",
        "tuned_xgb = XGBClassifier(max_depth= 3, n_estimators= 50)\n",
        "tuned_xgb.fit(X_train_pca, y_train)\n",
        "\n",
        "print('Training accuracy:', tuned_xgb.score(X_train_pca, y_train))\n",
        "print('Testing accuracy:', tuned_xgb.score(X_test_pca, y_test))\n",
        "print('Classification Report: ', classification_report(y_test, tuned_xgb.predict(X_test_pca)))"
      ],
      "execution_count": null,
      "outputs": [
        {
          "output_type": "stream",
          "name": "stdout",
          "text": [
            "Training accuracy: 0.8871473354231975\n",
            "Testing accuracy: 0.7570093457943925\n",
            "Classification Report:                precision    recall  f1-score   support\n",
            "\n",
            "           N       0.82      0.38      0.52        37\n",
            "           Y       0.74      0.96      0.84        70\n",
            "\n",
            "    accuracy                           0.76       107\n",
            "   macro avg       0.78      0.67      0.68       107\n",
            "weighted avg       0.77      0.76      0.73       107\n",
            "\n"
          ]
        }
      ]
    },
    {
      "cell_type": "code",
      "metadata": {
        "colab": {
          "base_uri": "https://localhost:8080/"
        },
        "id": "jUkY2hGVsKZx",
        "outputId": "dd19a81a-9583-4eb0-806f-82e389775b8d"
      },
      "source": [
        "#Voting Classifier using the 4 tuned models above\n",
        "#75% acurracy\n",
        "\n",
        "estimators = [('tuned_rfc',rfc), ('tuned_lrg',lrg), ('tuned_gbc',gbc), ('tuned_xgb',xgb)]\n",
        "\n",
        "vote_clr = VotingClassifier(estimators=estimators)\n",
        "vote = vote_clr.fit(X_train_pca, y_train)\n",
        "\n",
        "print('Training accuracy:', vote.score(X_train_pca, y_train))\n",
        "print('Testing accuracy:', vote.score(X_test_pca, y_test))\n",
        "print('Classification Report:', classification_report(y_test, vote.predict(X_test_pca)))"
      ],
      "execution_count": null,
      "outputs": [
        {
          "output_type": "stream",
          "name": "stdout",
          "text": [
            "Training accuracy: 1.0\n",
            "Testing accuracy: 0.7476635514018691\n",
            "Classification Report:               precision    recall  f1-score   support\n",
            "\n",
            "           N       0.69      0.49      0.57        37\n",
            "           Y       0.77      0.89      0.82        70\n",
            "\n",
            "    accuracy                           0.75       107\n",
            "   macro avg       0.73      0.69      0.70       107\n",
            "weighted avg       0.74      0.75      0.73       107\n",
            "\n"
          ]
        }
      ]
    },
    {
      "cell_type": "code",
      "metadata": {
        "colab": {
          "base_uri": "https://localhost:8080/",
          "height": 276
        },
        "id": "soZD6rsQtJzQ",
        "outputId": "5cebd6c2-c9f0-46ae-a38e-be9173ae3617"
      },
      "source": [
        "#Confusion Matrix to better understand results\n",
        "from sklearn.metrics import plot_confusion_matrix\n",
        "plot_confusion_matrix(vote, X_test_pca, y_test, cmap = 'Blues');"
      ],
      "execution_count": null,
      "outputs": [
        {
          "output_type": "display_data",
          "data": {
            "image/png": "[encoded data removed]",
            "text/plain": [
              "<Figure size 432x288 with 2 Axes>"
            ]
          },
          "metadata": {}
        }
      ]
    },
    {
      "cell_type": "code",
      "metadata": {
        "colab": {
          "base_uri": "https://localhost:8080/",
          "height": 285
        },
        "id": "8DnNZ8GkeyPV",
        "outputId": "84a7eaa1-5e06-4574-b974-e19e4d9788e7"
      },
      "source": [
        "plt.style.use('seaborn-dark')\n",
        "\n",
        "ltrain_df.groupby(['Gender'])[['Loan_Status']].count().plot(kind = \"bar\", legend = False)\n",
        "plt.grid(axis = 'y', c = 'grey', linewidth = 1)\n",
        "plt.title('Loan Requests', fontsize = 20)\n",
        "plt.ylabel('', fontsize = 15)\n",
        "plt.xlabel('', fontsize = 15)\n",
        "plt.xticks(rotation = 0, fontsize = 13)\n",
        "plt.yticks(fontsize = 13);"
      ],
      "execution_count": null,
      "outputs": [
        {
          "output_type": "display_data",
          "data": {
            "image/png": "[encoded data removed]",
            "text/plain": [
              "<Figure size 432x288 with 1 Axes>"
            ]
          },
          "metadata": {}
        }
      ]
    },
    {
      "cell_type": "code",
      "metadata": {
        "colab": {
          "base_uri": "https://localhost:8080/",
          "height": 285
        },
        "id": "AdKwTebIfTAd",
        "outputId": "635fb6b0-b93c-42c4-ef07-8a1720771985"
      },
      "source": [
        "plt.style.use('seaborn-dark')\n",
        "\n",
        "ltrain_df.groupby(['Education'])[['Loan_Status']].count().plot(kind = \"bar\", legend = False, color = 'orange')\n",
        "plt.grid(axis = 'y', c = 'grey', linewidth = 1)\n",
        "plt.title('Loan Requests by Graduate', fontsize = 20)\n",
        "plt.ylabel('', fontsize = 15)\n",
        "plt.xlabel('', fontsize = 15)\n",
        "plt.xticks(rotation = 0, fontsize = 13)\n",
        "plt.yticks(fontsize = 13);"
      ],
      "execution_count": null,
      "outputs": [
        {
          "output_type": "display_data",
          "data": {
            "image/png": "[encoded data removed]",
            "text/plain": [
              "<Figure size 432x288 with 1 Axes>"
            ]
          },
          "metadata": {}
        }
      ]
    },
    {
      "cell_type": "code",
      "metadata": {
        "colab": {
          "base_uri": "https://localhost:8080/",
          "height": 303
        },
        "id": "YsgSFzAOiEiL",
        "outputId": "b35b39a0-c99e-44e5-a6ea-76d677ac3181"
      },
      "source": [
        "plt.style.use('seaborn-dark')\n",
        "\n",
        "ltrain_df.groupby(['Education', 'Loan_Status'])[['Loan_Status']].count().plot(kind = \"bar\", legend = False, color = 'orange')\n",
        "plt.grid(axis = 'y', c = 'grey', linewidth = 1)\n",
        "plt.title('Loan Requests by Graduate', fontsize = 20)\n",
        "plt.ylabel('', fontsize = 15)\n",
        "plt.xlabel('', fontsize = 15)\n",
        "plt.xticks(rotation = 10, fontsize = 13)\n",
        "plt.yticks(fontsize = 13);"
      ],
      "execution_count": null,
      "outputs": [
        {
          "output_type": "display_data",
          "data": {
            "image/png": "[encoded data removed]",
            "text/plain": [
              "<Figure size 432x288 with 1 Axes>"
            ]
          },
          "metadata": {}
        }
      ]
    },
    {
      "cell_type": "code",
      "metadata": {
        "colab": {
          "base_uri": "https://localhost:8080/"
        },
        "id": "oTRI5vAeijF1",
        "outputId": "fb05ada3-28f3-4d4a-d7b3-279ef754286a"
      },
      "source": [
        "grad = ltrain_df['Education'] == 'Graduate'\n",
        "non_grad = ltrain_df['Education'] == 'Not Graduate'\n",
        "g_df = ltrain_df[grad]\n",
        "ng_df = ltrain_df[non_grad]\n",
        "\n",
        "print('The percentage of Graduate approved : ', round((g_df['Loan_Status'].value_counts(normalize = True)[0]), 2)*100, '%')\n",
        "print('The percentage of Graduate not approved : ', round((g_df['Loan_Status'].value_counts(normalize = True)[1]), 2)*100, '%')\n",
        "print('The percentage of Non-Graduate approved : ', round((ng_df['Loan_Status'].value_counts(normalize = True)[0]), 2)*100, '%')\n",
        "print('The percentage of Non-Graduate not approved : ', round((ng_df['Loan_Status'].value_counts(normalize = True)[1]), 2)*100, '%');"
      ],
      "execution_count": null,
      "outputs": [
        {
          "output_type": "stream",
          "name": "stdout",
          "text": [
            "The percentage of Graduate approved :  71.0 %\n",
            "The percentage of Graduate not approved :  28.999999999999996 %\n",
            "The percentage of Non-Graduate approved :  64.0 %\n",
            "The percentage of Non-Graduate not approved :  36.0 %\n"
          ]
        }
      ]
    },
    {
      "cell_type": "code",
      "metadata": {
        "colab": {
          "base_uri": "https://localhost:8080/",
          "height": 285
        },
        "id": "OBFLtyiyh578",
        "outputId": "f2da207e-0b09-4657-eedf-42176d142bed"
      },
      "source": [
        "plt.style.use('seaborn-dark')\n",
        "\n",
        "ltrain_df.groupby(['Self_Employed'])[['Loan_Status']].count().plot(kind = \"bar\", legend = False, color = 'teal')\n",
        "plt.grid(axis = 'y', c = 'grey', linewidth = 1)\n",
        "plt.title('Loan Requests by Self Employed', fontsize = 20)\n",
        "plt.ylabel('', fontsize = 15)\n",
        "plt.xlabel('', fontsize = 15)\n",
        "plt.xticks(rotation = 0, fontsize = 13)\n",
        "plt.yticks(fontsize = 13);"
      ],
      "execution_count": null,
      "outputs": [
        {
          "output_type": "display_data",
          "data": {
            "image/png": "[encoded data removed]",
            "text/plain": [
              "<Figure size 432x288 with 1 Axes>"
            ]
          },
          "metadata": {}
        }
      ]
    },
    {
      "cell_type": "code",
      "metadata": {
        "colab": {
          "base_uri": "https://localhost:8080/",
          "height": 285
        },
        "id": "DmodrNj9jRN7",
        "outputId": "f21be5af-51ac-4483-cefc-36bd4cb25634"
      },
      "source": [
        "plt.style.use('seaborn-dark')\n",
        "\n",
        "ltrain_df.groupby(['Self_Employed', 'Loan_Status'])[['Loan_Status']].count().plot(kind = \"bar\", legend = False, color = 'teal')\n",
        "plt.grid(axis = 'y', c = 'grey', linewidth = 1)\n",
        "plt.title('Loan Requests by Self Employed', fontsize = 20)\n",
        "plt.ylabel('', fontsize = 15)\n",
        "plt.xlabel('', fontsize = 15)\n",
        "plt.xticks(rotation = 0, fontsize = 13)\n",
        "plt.yticks(fontsize = 13);"
      ],
      "execution_count": null,
      "outputs": [
        {
          "output_type": "display_data",
          "data": {
            "image/png": "[encoded data removed]",
            "text/plain": [
              "<Figure size 432x288 with 1 Axes>"
            ]
          },
          "metadata": {}
        }
      ]
    },
    {
      "cell_type": "code",
      "metadata": {
        "colab": {
          "base_uri": "https://localhost:8080/"
        },
        "id": "NRWwWe3ijRiE",
        "outputId": "db443597-edd8-43c5-a2f1-7df835a90262"
      },
      "source": [
        "slf_emp = ltrain_df['Self_Employed'] == 'Yes'\n",
        "n_slf_emp = ltrain_df['Self_Employed'] == 'No'\n",
        "se_df = ltrain_df[slf_emp]\n",
        "nse_df = ltrain_df[n_slf_emp]\n",
        "\n",
        "print('The percentage of Self_Employed approved : ', round((se_df['Loan_Status'].value_counts(normalize = True)[0]), 2)*100, '%')\n",
        "print('The percentage of Self_Employed not approved : ', round((se_df['Loan_Status'].value_counts(normalize = True)[1]), 2)*100, '%')\n",
        "print('The percentage of Not Self_Employed approved : ', round((nse_df['Loan_Status'].value_counts(normalize = True)[0]), 2)*100, '%')\n",
        "print('The percentage of Not Self_Employed not approved : ', round((nse_df['Loan_Status'].value_counts(normalize = True)[1]), 2)*100, '%');"
      ],
      "execution_count": null,
      "outputs": [
        {
          "output_type": "stream",
          "name": "stdout",
          "text": [
            "The percentage of Self_Employed approved :  68.0 %\n",
            "The percentage of Self_Employed not approved :  32.0 %\n",
            "The percentage of Not Self_Employed approved :  70.0 %\n",
            "The percentage of Not Self_Employed not approved :  30.0 %\n"
          ]
        }
      ]
    },
    {
      "cell_type": "code",
      "metadata": {
        "colab": {
          "base_uri": "https://localhost:8080/",
          "height": 285
        },
        "id": "i5gbFXiqmOLg",
        "outputId": "e8096fea-7af2-46b3-ffa8-7983fc6a615d"
      },
      "source": [
        "plt.style.use('seaborn-dark')\n",
        "\n",
        "cred_hist_df = ltrain_df\n",
        "cred_hist_df['Credit_History'] = cred_hist_df['Credit_History'].replace([0.0],'No')\n",
        "cred_hist_df['Credit_History'] = cred_hist_df['Credit_History'].replace([1.0],'Yes')\n",
        "\n",
        "cred_hist_df.groupby(['Credit_History','Loan_Status'])[['Loan_Status']].count().plot(kind = \"bar\", legend = False, color = 'green')\n",
        "plt.grid(axis = 'y', c = 'grey', linewidth = 1)\n",
        "plt.title('Loan Requests by Credit_History', fontsize = 20)\n",
        "plt.ylabel('', fontsize = 15)\n",
        "plt.xlabel('', fontsize = 15)\n",
        "plt.xticks(rotation = 0, fontsize = 13)\n",
        "plt.yticks(fontsize = 13);"
      ],
      "execution_count": null,
      "outputs": [
        {
          "output_type": "display_data",
          "data": {
            "image/png": "[encoded data removed]",
            "text/plain": [
              "<Figure size 432x288 with 1 Axes>"
            ]
          },
          "metadata": {}
        }
      ]
    },
    {
      "cell_type": "code",
      "metadata": {
        "colab": {
          "base_uri": "https://localhost:8080/"
        },
        "id": "WxcRwfrmnkJt",
        "outputId": "e3a59efd-72e2-4d3e-911e-bf535858da57"
      },
      "source": [
        "ch = cred_hist_df['Credit_History'] == 'Yes'\n",
        "n_ch = cred_hist_df['Credit_History'] == 'No'\n",
        "ch_df = cred_hist_df[ch]\n",
        "nch_df = cred_hist_df[n_ch]\n",
        "\n",
        "print('The percentage of Credit History approved : ', round((ch_df['Loan_Status'].value_counts(normalize = True)[0]), 2)*100, '%')\n",
        "print('The percentage of Credit History not approved : ', round((ch_df['Loan_Status'].value_counts(normalize = True)[1]), 2)*100, '%')\n",
        "print('The percentage of No Credit History approved : ', round((nch_df['Loan_Status'].value_counts(normalize = True)[0]), 2)*100, '%')\n",
        "print('The percentage of No Credit History not approved : ', round((nch_df['Loan_Status'].value_counts(normalize = True)[1]), 2)*100, '%');"
      ],
      "execution_count": null,
      "outputs": [
        {
          "output_type": "stream",
          "name": "stdout",
          "text": [
            "The percentage of Credit History approved :  82.0 %\n",
            "The percentage of Credit History not approved :  18.0 %\n",
            "The percentage of No Credit History approved :  69.0 %\n",
            "The percentage of No Credit History not approved :  31.0 %\n"
          ]
        }
      ]
    },
    {
      "cell_type": "code",
      "metadata": {
        "colab": {
          "base_uri": "https://localhost:8080/",
          "height": 285
        },
        "id": "-OvT9u8rvh1N",
        "outputId": "6311ecae-5f4e-40b4-b737-108c135bf260"
      },
      "source": [
        "plt.style.use('seaborn-dark')\n",
        "\n",
        "ltrain_df.groupby(['Married','Loan_Status'])[['Loan_Status']].count().plot(kind = \"bar\", legend = False, color = 'green')\n",
        "plt.grid(axis = 'y', c = 'grey', linewidth = 1)\n",
        "plt.title('Loan Requests by Married', fontsize = 20)\n",
        "plt.ylabel('', fontsize = 15)\n",
        "plt.xlabel('', fontsize = 15)\n",
        "plt.xticks(rotation = 0, fontsize = 13)\n",
        "plt.yticks(fontsize = 13);"
      ],
      "execution_count": null,
      "outputs": [
        {
          "output_type": "display_data",
          "data": {
            "image/png": "[encoded data removed]",
            "text/plain": [
              "<Figure size 432x288 with 1 Axes>"
            ]
          },
          "metadata": {}
        }
      ]
    },
    {
      "cell_type": "code",
      "metadata": {
        "colab": {
          "base_uri": "https://localhost:8080/"
        },
        "id": "A9Bi1y66vs6H",
        "outputId": "4d3024e3-4e1c-4236-939f-bff2af02643e"
      },
      "source": [
        "m = ltrain_df['Married'] == 'Yes'\n",
        "n_m = ltrain_df['Married'] == 'No'\n",
        "ma_df = ltrain_df[m]\n",
        "nma_df = ltrain_df[n_m]\n",
        "\n",
        "print('The percentage of Married approved : ', round((ma_df['Loan_Status'].value_counts(normalize = True)[0]), 2)*100, '%')\n",
        "print('The percentage of Married not approved : ', round((ma_df['Loan_Status'].value_counts(normalize = True)[1]), 2)*100, '%')\n",
        "print('The percentage of No Married approved : ', round((nma_df['Loan_Status'].value_counts(normalize = True)[0]), 2)*100, '%')\n",
        "print('The percentage of No Married not approved : ', round((nma_df['Loan_Status'].value_counts(normalize = True)[1]), 2)*100, '%');"
      ],
      "execution_count": null,
      "outputs": [
        {
          "output_type": "stream",
          "name": "stdout",
          "text": [
            "The percentage of Married approved :  72.0 %\n",
            "The percentage of Married not approved :  28.000000000000004 %\n",
            "The percentage of No Married approved :  65.0 %\n",
            "The percentage of No Married not approved :  35.0 %\n"
          ]
        }
      ]
    },
    {
      "cell_type": "code",
      "metadata": {
        "colab": {
          "base_uri": "https://localhost:8080/",
          "height": 314
        },
        "id": "p_LOtUcgwCtD",
        "outputId": "2528a096-ccac-4c46-c755-d1d3d6f61575"
      },
      "source": [
        "plt.style.use('seaborn-dark')\n",
        "\n",
        "ltrain_df.groupby(['Property_Area','Loan_Status'])[['Loan_Status']].count().plot(kind = \"bar\", legend = False, color = 'green')\n",
        "plt.grid(axis = 'y', c = 'grey', linewidth = 1)\n",
        "plt.title('Loan Requests by Married', fontsize = 20)\n",
        "plt.ylabel('', fontsize = 15)\n",
        "plt.xlabel('', fontsize = 15)\n",
        "plt.xticks(rotation = 20, fontsize = 13)\n",
        "plt.yticks(fontsize = 13);"
      ],
      "execution_count": null,
      "outputs": [
        {
          "output_type": "display_data",
          "data": {
            "image/png": "[encoded data removed]",
            "text/plain": [
              "<Figure size 432x288 with 1 Axes>"
            ]
          },
          "metadata": {}
        }
      ]
    },
    {
      "cell_type": "code",
      "metadata": {
        "colab": {
          "base_uri": "https://localhost:8080/"
        },
        "id": "GbIMKVejwNdq",
        "outputId": "da6e0de0-e8ba-4210-f2a9-8d39fa299fd5"
      },
      "source": [
        "ru = ltrain_df['Property_Area'] == 'Rural'\n",
        "ur = ltrain_df['Property_Area'] == 'Urban'\n",
        "sur = ltrain_df['Property_Area'] == 'Semiurban'\n",
        "ru_df = ltrain_df[ru]\n",
        "ur_df = ltrain_df[ur]\n",
        "sur_df = ltrain_df[sur]\n",
        "\n",
        "print('The percentage of Rural approved : ', round((ru_df['Loan_Status'].value_counts(normalize = True)[0]), 2)*100, '%')\n",
        "print('The percentage of Rural History not approved : ', round((ru_df['Loan_Status'].value_counts(normalize = True)[1]), 2)*100, '%')\n",
        "print('The percentage of Urban approved : ', round((ur_df['Loan_Status'].value_counts(normalize = True)[0]), 2)*100, '%')\n",
        "print('The percentage of Urban not approved : ', round((ur_df['Loan_Status'].value_counts(normalize = True)[1]), 2)*100, '%');\n",
        "print('The percentage of Semiurban approved : ', round((sur_df['Loan_Status'].value_counts(normalize = True)[0]), 2)*100, '%')\n",
        "print('The percentage of Semiurban not approved : ', round((sur_df['Loan_Status'].value_counts(normalize = True)[1]), 2)*100, '%');"
      ],
      "execution_count": null,
      "outputs": [
        {
          "output_type": "stream",
          "name": "stdout",
          "text": [
            "The percentage of Married approved :  64.0 %\n",
            "The percentage of Married History not approved :  36.0 %\n",
            "The percentage of No Married History approved :  68.0 %\n",
            "The percentage of No Married History not approved :  32.0 %\n",
            "The percentage of No Married History approved :  77.0 %\n",
            "The percentage of No Married History not approved :  23.0 %\n"
          ]
        }
      ]
    }
  ]
}
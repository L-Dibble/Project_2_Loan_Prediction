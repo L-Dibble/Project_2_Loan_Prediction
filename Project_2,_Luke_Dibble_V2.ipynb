{
  "nbformat": 4,
  "nbformat_minor": 0,
  "metadata": {
    "colab": {
      "name": "Project 2, Luke Dibble V2.ipynb",
      "provenance": [],
      "collapsed_sections": []
    },
    "kernelspec": {
      "name": "python3",
      "display_name": "Python 3"
    },
    "language_info": {
      "name": "python"
    }
  },
  "cells": [
    {
      "cell_type": "markdown",
      "metadata": {
        "id": "9h0sk01xCZJI"
      },
      "source": [
        "After a lot of research and letting ideas go, I settled on the Loan Prediction Problem\n",
        "\n",
        "https://www.kaggle.com/altruistdelhite04/loan-prediction-problem-dataset\n",
        "\n",
        "My first choice was to attempt to predict the next big video game trend on youtube for content creators, but I was unable to find a dataset that I could use. If I could find this data, I would prefer to attempt that challenge (I couldn't figure out how to use the data from the Google YouTube 8M, and it looks like it's 31 GBs)\n",
        "\n",
        "https://research.google.com/youtube8m/"
      ]
    },
    {
      "cell_type": "markdown",
      "metadata": {
        "id": "ZTx0z5Xdj9sX"
      },
      "source": [
        "Purpose of Project\n",
        "---\n",
        "\n",
        "Using provided data, create a Predictive Model to determine loan approval or denial."
      ]
    },
    {
      "cell_type": "markdown",
      "metadata": {
        "id": "_x2eb9-AkVyz"
      },
      "source": [
        "Step 1:\n",
        "\n",
        "Import and clean data."
      ]
    },
    {
      "cell_type": "code",
      "metadata": {
        "id": "tgm8LbZ36Fi0"
      },
      "source": [
        "#Mount Drive"
      ],
      "execution_count": 113,
      "outputs": []
    },
    {
      "cell_type": "code",
      "metadata": {
        "colab": {
          "base_uri": "https://localhost:8080/"
        },
        "id": "8_hFiBky4XiI",
        "outputId": "98e8b338-1d6a-4685-8ed9-f299621c2bcf"
      },
      "source": [
        "from google.colab import drive\n",
        "drive.mount('/content/drive')"
      ],
      "execution_count": 114,
      "outputs": [
        {
          "output_type": "stream",
          "name": "stdout",
          "text": [
            "Drive already mounted at /content/drive; to attempt to forcibly remount, call drive.mount(\"/content/drive\", force_remount=True).\n"
          ]
        }
      ]
    },
    {
      "cell_type": "code",
      "metadata": {
        "id": "Nal9nkpp6HsW"
      },
      "source": [
        "#Import cleaning and exploratory mods\n",
        "#Read in data"
      ],
      "execution_count": 115,
      "outputs": []
    },
    {
      "cell_type": "code",
      "metadata": {
        "colab": {
          "base_uri": "https://localhost:8080/",
          "height": 235
        },
        "id": "FSjFxPzq4sGH",
        "outputId": "d74afce3-d27e-4936-de81-b49d4f77e112"
      },
      "source": [
        "import pandas as pd\n",
        "import numpy as np\n",
        "import matplotlib.pyplot as plt\n",
        "import seaborn as sns\n",
        "from sklearn.preprocessing import StandardScaler\n",
        "from sklearn.decomposition import PCA\n",
        "from sklearn.model_selection import train_test_split, GridSearchCV\n",
        "from sklearn.neighbors import KNeighborsClassifier\n",
        "from sklearn.ensemble import RandomForestClassifier\n",
        "from sklearn.linear_model import LogisticRegression\n",
        "from sklearn.metrics import classification_report, plot_confusion_matrix\n",
        "from sklearn.ensemble import AdaBoostClassifier, GradientBoostingClassifier, VotingClassifier\n",
        "from lightgbm import LGBMClassifier\n",
        "from xgboost import XGBClassifier\n",
        "\n",
        "ltrain_df = pd.read_csv('/content/drive/MyDrive/Coding Dojo/My Projects/Loan_Train.csv', index_col='Loan_ID')\n",
        "\n",
        "ltrain_df.head()"
      ],
      "execution_count": 116,
      "outputs": [
        {
          "output_type": "execute_result",
          "data": {
            "text/html": [
              "<div>\n",
              "<style scoped>\n",
              "    .dataframe tbody tr th:only-of-type {\n",
              "        vertical-align: middle;\n",
              "    }\n",
              "\n",
              "    .dataframe tbody tr th {\n",
              "        vertical-align: top;\n",
              "    }\n",
              "\n",
              "    .dataframe thead th {\n",
              "        text-align: right;\n",
              "    }\n",
              "</style>\n",
              "<table border=\"1\" class=\"dataframe\">\n",
              "  <thead>\n",
              "    <tr style=\"text-align: right;\">\n",
              "      <th></th>\n",
              "      <th>Gender</th>\n",
              "      <th>Married</th>\n",
              "      <th>Dependents</th>\n",
              "      <th>Education</th>\n",
              "      <th>Self_Employed</th>\n",
              "      <th>ApplicantIncome</th>\n",
              "      <th>CoapplicantIncome</th>\n",
              "      <th>LoanAmount</th>\n",
              "      <th>Loan_Amount_Term</th>\n",
              "      <th>Credit_History</th>\n",
              "      <th>Property_Area</th>\n",
              "      <th>Loan_Status</th>\n",
              "    </tr>\n",
              "    <tr>\n",
              "      <th>Loan_ID</th>\n",
              "      <th></th>\n",
              "      <th></th>\n",
              "      <th></th>\n",
              "      <th></th>\n",
              "      <th></th>\n",
              "      <th></th>\n",
              "      <th></th>\n",
              "      <th></th>\n",
              "      <th></th>\n",
              "      <th></th>\n",
              "      <th></th>\n",
              "      <th></th>\n",
              "    </tr>\n",
              "  </thead>\n",
              "  <tbody>\n",
              "    <tr>\n",
              "      <th>LP001002</th>\n",
              "      <td>Male</td>\n",
              "      <td>No</td>\n",
              "      <td>0</td>\n",
              "      <td>Graduate</td>\n",
              "      <td>No</td>\n",
              "      <td>5849</td>\n",
              "      <td>0.0</td>\n",
              "      <td>NaN</td>\n",
              "      <td>360.0</td>\n",
              "      <td>1.0</td>\n",
              "      <td>Urban</td>\n",
              "      <td>Y</td>\n",
              "    </tr>\n",
              "    <tr>\n",
              "      <th>LP001003</th>\n",
              "      <td>Male</td>\n",
              "      <td>Yes</td>\n",
              "      <td>1</td>\n",
              "      <td>Graduate</td>\n",
              "      <td>No</td>\n",
              "      <td>4583</td>\n",
              "      <td>1508.0</td>\n",
              "      <td>128.0</td>\n",
              "      <td>360.0</td>\n",
              "      <td>1.0</td>\n",
              "      <td>Rural</td>\n",
              "      <td>N</td>\n",
              "    </tr>\n",
              "    <tr>\n",
              "      <th>LP001005</th>\n",
              "      <td>Male</td>\n",
              "      <td>Yes</td>\n",
              "      <td>0</td>\n",
              "      <td>Graduate</td>\n",
              "      <td>Yes</td>\n",
              "      <td>3000</td>\n",
              "      <td>0.0</td>\n",
              "      <td>66.0</td>\n",
              "      <td>360.0</td>\n",
              "      <td>1.0</td>\n",
              "      <td>Urban</td>\n",
              "      <td>Y</td>\n",
              "    </tr>\n",
              "    <tr>\n",
              "      <th>LP001006</th>\n",
              "      <td>Male</td>\n",
              "      <td>Yes</td>\n",
              "      <td>0</td>\n",
              "      <td>Not Graduate</td>\n",
              "      <td>No</td>\n",
              "      <td>2583</td>\n",
              "      <td>2358.0</td>\n",
              "      <td>120.0</td>\n",
              "      <td>360.0</td>\n",
              "      <td>1.0</td>\n",
              "      <td>Urban</td>\n",
              "      <td>Y</td>\n",
              "    </tr>\n",
              "    <tr>\n",
              "      <th>LP001008</th>\n",
              "      <td>Male</td>\n",
              "      <td>No</td>\n",
              "      <td>0</td>\n",
              "      <td>Graduate</td>\n",
              "      <td>No</td>\n",
              "      <td>6000</td>\n",
              "      <td>0.0</td>\n",
              "      <td>141.0</td>\n",
              "      <td>360.0</td>\n",
              "      <td>1.0</td>\n",
              "      <td>Urban</td>\n",
              "      <td>Y</td>\n",
              "    </tr>\n",
              "  </tbody>\n",
              "</table>\n",
              "</div>"
            ],
            "text/plain": [
              "         Gender Married Dependents  ... Credit_History Property_Area  Loan_Status\n",
              "Loan_ID                             ...                                          \n",
              "LP001002   Male      No          0  ...            1.0         Urban            Y\n",
              "LP001003   Male     Yes          1  ...            1.0         Rural            N\n",
              "LP001005   Male     Yes          0  ...            1.0         Urban            Y\n",
              "LP001006   Male     Yes          0  ...            1.0         Urban            Y\n",
              "LP001008   Male      No          0  ...            1.0         Urban            Y\n",
              "\n",
              "[5 rows x 12 columns]"
            ]
          },
          "metadata": {},
          "execution_count": 116
        }
      ]
    },
    {
      "cell_type": "code",
      "metadata": {
        "id": "7E7NpvwU6Qo8"
      },
      "source": [
        "#Check data for dtype and nulls in loantrain_df"
      ],
      "execution_count": 117,
      "outputs": []
    },
    {
      "cell_type": "code",
      "metadata": {
        "colab": {
          "base_uri": "https://localhost:8080/"
        },
        "id": "xxwWyGT05aCz",
        "outputId": "4a474140-7f26-4263-ac99-e7a2f3070190"
      },
      "source": [
        "ltrain_df.info()"
      ],
      "execution_count": 118,
      "outputs": [
        {
          "output_type": "stream",
          "name": "stdout",
          "text": [
            "<class 'pandas.core.frame.DataFrame'>\n",
            "Index: 614 entries, LP001002 to LP002990\n",
            "Data columns (total 12 columns):\n",
            " #   Column             Non-Null Count  Dtype  \n",
            "---  ------             --------------  -----  \n",
            " 0   Gender             601 non-null    object \n",
            " 1   Married            611 non-null    object \n",
            " 2   Dependents         599 non-null    object \n",
            " 3   Education          614 non-null    object \n",
            " 4   Self_Employed      582 non-null    object \n",
            " 5   ApplicantIncome    614 non-null    int64  \n",
            " 6   CoapplicantIncome  614 non-null    float64\n",
            " 7   LoanAmount         592 non-null    float64\n",
            " 8   Loan_Amount_Term   600 non-null    float64\n",
            " 9   Credit_History     564 non-null    float64\n",
            " 10  Property_Area      614 non-null    object \n",
            " 11  Loan_Status        614 non-null    object \n",
            "dtypes: float64(4), int64(1), object(7)\n",
            "memory usage: 62.4+ KB\n"
          ]
        }
      ]
    },
    {
      "cell_type": "code",
      "metadata": {
        "colab": {
          "base_uri": "https://localhost:8080/",
          "height": 297
        },
        "id": "zDfcsl7Mgpb8",
        "outputId": "64c29be1-5484-4758-a63f-259cffbd89cf"
      },
      "source": [
        "ltrain_df.describe()"
      ],
      "execution_count": 119,
      "outputs": [
        {
          "output_type": "execute_result",
          "data": {
            "text/html": [
              "<div>\n",
              "<style scoped>\n",
              "    .dataframe tbody tr th:only-of-type {\n",
              "        vertical-align: middle;\n",
              "    }\n",
              "\n",
              "    .dataframe tbody tr th {\n",
              "        vertical-align: top;\n",
              "    }\n",
              "\n",
              "    .dataframe thead th {\n",
              "        text-align: right;\n",
              "    }\n",
              "</style>\n",
              "<table border=\"1\" class=\"dataframe\">\n",
              "  <thead>\n",
              "    <tr style=\"text-align: right;\">\n",
              "      <th></th>\n",
              "      <th>ApplicantIncome</th>\n",
              "      <th>CoapplicantIncome</th>\n",
              "      <th>LoanAmount</th>\n",
              "      <th>Loan_Amount_Term</th>\n",
              "      <th>Credit_History</th>\n",
              "    </tr>\n",
              "  </thead>\n",
              "  <tbody>\n",
              "    <tr>\n",
              "      <th>count</th>\n",
              "      <td>614.000000</td>\n",
              "      <td>614.000000</td>\n",
              "      <td>592.000000</td>\n",
              "      <td>600.00000</td>\n",
              "      <td>564.000000</td>\n",
              "    </tr>\n",
              "    <tr>\n",
              "      <th>mean</th>\n",
              "      <td>5403.459283</td>\n",
              "      <td>1621.245798</td>\n",
              "      <td>146.412162</td>\n",
              "      <td>342.00000</td>\n",
              "      <td>0.842199</td>\n",
              "    </tr>\n",
              "    <tr>\n",
              "      <th>std</th>\n",
              "      <td>6109.041673</td>\n",
              "      <td>2926.248369</td>\n",
              "      <td>85.587325</td>\n",
              "      <td>65.12041</td>\n",
              "      <td>0.364878</td>\n",
              "    </tr>\n",
              "    <tr>\n",
              "      <th>min</th>\n",
              "      <td>150.000000</td>\n",
              "      <td>0.000000</td>\n",
              "      <td>9.000000</td>\n",
              "      <td>12.00000</td>\n",
              "      <td>0.000000</td>\n",
              "    </tr>\n",
              "    <tr>\n",
              "      <th>25%</th>\n",
              "      <td>2877.500000</td>\n",
              "      <td>0.000000</td>\n",
              "      <td>100.000000</td>\n",
              "      <td>360.00000</td>\n",
              "      <td>1.000000</td>\n",
              "    </tr>\n",
              "    <tr>\n",
              "      <th>50%</th>\n",
              "      <td>3812.500000</td>\n",
              "      <td>1188.500000</td>\n",
              "      <td>128.000000</td>\n",
              "      <td>360.00000</td>\n",
              "      <td>1.000000</td>\n",
              "    </tr>\n",
              "    <tr>\n",
              "      <th>75%</th>\n",
              "      <td>5795.000000</td>\n",
              "      <td>2297.250000</td>\n",
              "      <td>168.000000</td>\n",
              "      <td>360.00000</td>\n",
              "      <td>1.000000</td>\n",
              "    </tr>\n",
              "    <tr>\n",
              "      <th>max</th>\n",
              "      <td>81000.000000</td>\n",
              "      <td>41667.000000</td>\n",
              "      <td>700.000000</td>\n",
              "      <td>480.00000</td>\n",
              "      <td>1.000000</td>\n",
              "    </tr>\n",
              "  </tbody>\n",
              "</table>\n",
              "</div>"
            ],
            "text/plain": [
              "       ApplicantIncome  CoapplicantIncome  ...  Loan_Amount_Term  Credit_History\n",
              "count       614.000000         614.000000  ...         600.00000      564.000000\n",
              "mean       5403.459283        1621.245798  ...         342.00000        0.842199\n",
              "std        6109.041673        2926.248369  ...          65.12041        0.364878\n",
              "min         150.000000           0.000000  ...          12.00000        0.000000\n",
              "25%        2877.500000           0.000000  ...         360.00000        1.000000\n",
              "50%        3812.500000        1188.500000  ...         360.00000        1.000000\n",
              "75%        5795.000000        2297.250000  ...         360.00000        1.000000\n",
              "max       81000.000000       41667.000000  ...         480.00000        1.000000\n",
              "\n",
              "[8 rows x 5 columns]"
            ]
          },
          "metadata": {},
          "execution_count": 119
        }
      ]
    },
    {
      "cell_type": "code",
      "metadata": {
        "colab": {
          "base_uri": "https://localhost:8080/",
          "height": 346
        },
        "id": "gD61ttSvr5c0",
        "outputId": "1b8b739f-4f13-429e-c6f5-a7b1e97f87b1"
      },
      "source": [
        "ltrain_df.boxplot(column = ['ApplicantIncome'], by='Loan_Status', notch = True, patch_artist = True)\n",
        "plt.suptitle('')\n",
        "plt.xticks(rotation = 45);"
      ],
      "execution_count": 120,
      "outputs": [
        {
          "output_type": "stream",
          "name": "stderr",
          "text": [
            "/usr/local/lib/python3.7/dist-packages/numpy/core/_asarray.py:83: VisibleDeprecationWarning: Creating an ndarray from ragged nested sequences (which is a list-or-tuple of lists-or-tuples-or ndarrays with different lengths or shapes) is deprecated. If you meant to do this, you must specify 'dtype=object' when creating the ndarray\n",
            "  return array(a, dtype, copy=False, order=order)\n"
          ]
        },
        {
          "output_type": "display_data",
          "data": {
            "image/png": "[encoded data removed]",
            "text/plain": [
              "<Figure size 432x288 with 1 Axes>"
            ]
          },
          "metadata": {}
        }
      ]
    },
    {
      "cell_type": "markdown",
      "metadata": {
        "id": "EAC5Q9TIsODw"
      },
      "source": [
        "Applicant Income outliers over 30k to be dropped."
      ]
    },
    {
      "cell_type": "code",
      "metadata": {
        "id": "Rq0buy6xsjNJ"
      },
      "source": [
        "ltrain_df = ltrain_df[ltrain_df.ApplicantIncome <= 30000]"
      ],
      "execution_count": 121,
      "outputs": []
    },
    {
      "cell_type": "code",
      "metadata": {
        "colab": {
          "base_uri": "https://localhost:8080/",
          "height": 346
        },
        "id": "madpiSIZtFxf",
        "outputId": "b3f273d1-9892-41a0-dd8d-582fe05cacec"
      },
      "source": [
        "ltrain_df.boxplot(column = ['ApplicantIncome'], by='Loan_Status', notch = True, patch_artist = True)\n",
        "plt.suptitle('')\n",
        "plt.xticks(rotation = 45);"
      ],
      "execution_count": 122,
      "outputs": [
        {
          "output_type": "stream",
          "name": "stderr",
          "text": [
            "/usr/local/lib/python3.7/dist-packages/numpy/core/_asarray.py:83: VisibleDeprecationWarning: Creating an ndarray from ragged nested sequences (which is a list-or-tuple of lists-or-tuples-or ndarrays with different lengths or shapes) is deprecated. If you meant to do this, you must specify 'dtype=object' when creating the ndarray\n",
            "  return array(a, dtype, copy=False, order=order)\n"
          ]
        },
        {
          "output_type": "display_data",
          "data": {
            "image/png": "[encoded data removed]",
            "text/plain": [
              "<Figure size 432x288 with 1 Axes>"
            ]
          },
          "metadata": {}
        }
      ]
    },
    {
      "cell_type": "code",
      "metadata": {
        "colab": {
          "base_uri": "https://localhost:8080/",
          "height": 346
        },
        "id": "mBjB0GfNub6m",
        "outputId": "70aacea3-3b76-4384-a593-54707106d5e2"
      },
      "source": [
        "ltrain_df.boxplot(column = ['CoapplicantIncome'], by='Loan_Status', notch = True, patch_artist = True)\n",
        "plt.suptitle('')\n",
        "plt.xticks(rotation = 45);"
      ],
      "execution_count": 123,
      "outputs": [
        {
          "output_type": "stream",
          "name": "stderr",
          "text": [
            "/usr/local/lib/python3.7/dist-packages/numpy/core/_asarray.py:83: VisibleDeprecationWarning: Creating an ndarray from ragged nested sequences (which is a list-or-tuple of lists-or-tuples-or ndarrays with different lengths or shapes) is deprecated. If you meant to do this, you must specify 'dtype=object' when creating the ndarray\n",
            "  return array(a, dtype, copy=False, order=order)\n"
          ]
        },
        {
          "output_type": "display_data",
          "data": {
            "image/png": "[encoded data removed]",
            "text/plain": [
              "<Figure size 432x288 with 1 Axes>"
            ]
          },
          "metadata": {}
        }
      ]
    },
    {
      "cell_type": "code",
      "metadata": {
        "id": "1x-P2FwCukoO"
      },
      "source": [
        "ltrain_df = ltrain_df[ltrain_df.CoapplicantIncome < 10000]"
      ],
      "execution_count": 124,
      "outputs": []
    },
    {
      "cell_type": "markdown",
      "metadata": {
        "id": "EcURYEWluvYE"
      },
      "source": [
        "Dropping Coappliacte Income to below 20k"
      ]
    },
    {
      "cell_type": "code",
      "metadata": {
        "colab": {
          "base_uri": "https://localhost:8080/",
          "height": 346
        },
        "id": "DWin_QNtulye",
        "outputId": "bc6ef67b-6cc7-4db6-9c42-c46b9e295efa"
      },
      "source": [
        "ltrain_df.boxplot(column = ['CoapplicantIncome'], by='Loan_Status', notch = True, patch_artist = True)\n",
        "plt.suptitle('')\n",
        "plt.xticks(rotation = 45);"
      ],
      "execution_count": 125,
      "outputs": [
        {
          "output_type": "stream",
          "name": "stderr",
          "text": [
            "/usr/local/lib/python3.7/dist-packages/numpy/core/_asarray.py:83: VisibleDeprecationWarning: Creating an ndarray from ragged nested sequences (which is a list-or-tuple of lists-or-tuples-or ndarrays with different lengths or shapes) is deprecated. If you meant to do this, you must specify 'dtype=object' when creating the ndarray\n",
            "  return array(a, dtype, copy=False, order=order)\n"
          ]
        },
        {
          "output_type": "display_data",
          "data": {
            "image/png": "[encoded data removed]",
            "text/plain": [
              "<Figure size 432x288 with 1 Axes>"
            ]
          },
          "metadata": {}
        }
      ]
    },
    {
      "cell_type": "code",
      "metadata": {
        "colab": {
          "base_uri": "https://localhost:8080/",
          "height": 346
        },
        "id": "kv7Bxl9ezhme",
        "outputId": "2dbdc830-8598-46b7-eee7-4505bf817325"
      },
      "source": [
        "ltrain_df.boxplot(column = ['LoanAmount'], by='Loan_Status', notch = True, patch_artist = True)\n",
        "plt.suptitle('')\n",
        "plt.xticks(rotation = 45);"
      ],
      "execution_count": 126,
      "outputs": [
        {
          "output_type": "stream",
          "name": "stderr",
          "text": [
            "/usr/local/lib/python3.7/dist-packages/numpy/core/_asarray.py:83: VisibleDeprecationWarning: Creating an ndarray from ragged nested sequences (which is a list-or-tuple of lists-or-tuples-or ndarrays with different lengths or shapes) is deprecated. If you meant to do this, you must specify 'dtype=object' when creating the ndarray\n",
            "  return array(a, dtype, copy=False, order=order)\n"
          ]
        },
        {
          "output_type": "display_data",
          "data": {
            "image/png": "[encoded data removed]",
            "text/plain": [
              "<Figure size 432x288 with 1 Axes>"
            ]
          },
          "metadata": {}
        }
      ]
    },
    {
      "cell_type": "code",
      "metadata": {
        "id": "-5S2Mo-rzs-M"
      },
      "source": [
        "ltrain_df = ltrain_df[ltrain_df.LoanAmount > 100]"
      ],
      "execution_count": 127,
      "outputs": []
    },
    {
      "cell_type": "code",
      "metadata": {
        "colab": {
          "base_uri": "https://localhost:8080/",
          "height": 346
        },
        "id": "6Sc7Zq3czutq",
        "outputId": "9ec52f89-cab9-4462-dc5e-c6f752ec2f77"
      },
      "source": [
        "ltrain_df.boxplot(column = ['LoanAmount'], by='Loan_Status', notch = True, patch_artist = True)\n",
        "plt.suptitle('')\n",
        "plt.xticks(rotation = 45);"
      ],
      "execution_count": 128,
      "outputs": [
        {
          "output_type": "stream",
          "name": "stderr",
          "text": [
            "/usr/local/lib/python3.7/dist-packages/numpy/core/_asarray.py:83: VisibleDeprecationWarning: Creating an ndarray from ragged nested sequences (which is a list-or-tuple of lists-or-tuples-or ndarrays with different lengths or shapes) is deprecated. If you meant to do this, you must specify 'dtype=object' when creating the ndarray\n",
            "  return array(a, dtype, copy=False, order=order)\n"
          ]
        },
        {
          "output_type": "display_data",
          "data": {
            "image/png": "[encoded data removed]",
            "text/plain": [
              "<Figure size 432x288 with 1 Axes>"
            ]
          },
          "metadata": {}
        }
      ]
    },
    {
      "cell_type": "code",
      "metadata": {
        "colab": {
          "base_uri": "https://localhost:8080/"
        },
        "id": "fn3ELmIViQGj",
        "outputId": "97215e14-a3c0-4ca7-93b2-5c6965956b22"
      },
      "source": [
        "ltrain_df.duplicated().any()"
      ],
      "execution_count": 129,
      "outputs": [
        {
          "output_type": "execute_result",
          "data": {
            "text/plain": [
              "False"
            ]
          },
          "metadata": {},
          "execution_count": 129
        }
      ]
    },
    {
      "cell_type": "code",
      "metadata": {
        "id": "lehdVrnjkWWR",
        "colab": {
          "base_uri": "https://localhost:8080/"
        },
        "outputId": "61a35613-c417-4d36-9686-ce3e0a94b96c"
      },
      "source": [
        "ltrain_df['Gender'].value_counts()"
      ],
      "execution_count": 130,
      "outputs": [
        {
          "output_type": "execute_result",
          "data": {
            "text/plain": [
              "Male      347\n",
              "Female     69\n",
              "Name: Gender, dtype: int64"
            ]
          },
          "metadata": {},
          "execution_count": 130
        }
      ]
    },
    {
      "cell_type": "code",
      "metadata": {
        "colab": {
          "base_uri": "https://localhost:8080/"
        },
        "id": "dKtbpYpKJO1H",
        "outputId": "7c23875c-59d7-41ea-9ab1-ba9b466dae15"
      },
      "source": [
        "#Replaced Nulls with majority value\n",
        "ltrain_df['Gender'].fillna(value = 'Male', inplace = True)\n",
        "ltrain_df['Gender'].value_counts()"
      ],
      "execution_count": 131,
      "outputs": [
        {
          "output_type": "execute_result",
          "data": {
            "text/plain": [
              "Male      357\n",
              "Female     69\n",
              "Name: Gender, dtype: int64"
            ]
          },
          "metadata": {},
          "execution_count": 131
        }
      ]
    },
    {
      "cell_type": "code",
      "metadata": {
        "colab": {
          "base_uri": "https://localhost:8080/"
        },
        "id": "QHO5PT2kG6ue",
        "outputId": "9c55e629-a188-4e77-9232-c033141ec727"
      },
      "source": [
        "ltrain_df['Married'].value_counts()"
      ],
      "execution_count": 132,
      "outputs": [
        {
          "output_type": "execute_result",
          "data": {
            "text/plain": [
              "Yes    294\n",
              "No     130\n",
              "Name: Married, dtype: int64"
            ]
          },
          "metadata": {},
          "execution_count": 132
        }
      ]
    },
    {
      "cell_type": "code",
      "metadata": {
        "colab": {
          "base_uri": "https://localhost:8080/"
        },
        "id": "uH3zcQ1iPvs3",
        "outputId": "584659a2-f4d2-4cbd-f367-f431ae1c700c"
      },
      "source": [
        "#Replaced Nulls with No\n",
        "ltrain_df['Married'].fillna(value = 'No', inplace = True)\n",
        "ltrain_df['Married'].value_counts()"
      ],
      "execution_count": 133,
      "outputs": [
        {
          "output_type": "execute_result",
          "data": {
            "text/plain": [
              "Yes    294\n",
              "No     132\n",
              "Name: Married, dtype: int64"
            ]
          },
          "metadata": {},
          "execution_count": 133
        }
      ]
    },
    {
      "cell_type": "code",
      "metadata": {
        "colab": {
          "base_uri": "https://localhost:8080/"
        },
        "id": "c9-GpEtcHFIX",
        "outputId": "561f2b1a-f26a-42b8-82d9-b27e365c4167"
      },
      "source": [
        "ltrain_df['Dependents'].value_counts()"
      ],
      "execution_count": 134,
      "outputs": [
        {
          "output_type": "execute_result",
          "data": {
            "text/plain": [
              "0     234\n",
              "2      78\n",
              "1      73\n",
              "3+     31\n",
              "Name: Dependents, dtype: int64"
            ]
          },
          "metadata": {},
          "execution_count": 134
        }
      ]
    },
    {
      "cell_type": "code",
      "metadata": {
        "colab": {
          "base_uri": "https://localhost:8080/"
        },
        "id": "dbPn0LtmP1YU",
        "outputId": "66978939-5ea2-439c-e3f6-6f96a21af87d"
      },
      "source": [
        "#Replaced Nulls with 0\n",
        "ltrain_df['Dependents'].fillna(value = '0', inplace = True)\n",
        "ltrain_df['Dependents'].value_counts()"
      ],
      "execution_count": 135,
      "outputs": [
        {
          "output_type": "execute_result",
          "data": {
            "text/plain": [
              "0     244\n",
              "2      78\n",
              "1      73\n",
              "3+     31\n",
              "Name: Dependents, dtype: int64"
            ]
          },
          "metadata": {},
          "execution_count": 135
        }
      ]
    },
    {
      "cell_type": "code",
      "metadata": {
        "colab": {
          "base_uri": "https://localhost:8080/"
        },
        "id": "35QmJOlMIMJt",
        "outputId": "0b6b9db5-2a4c-4dc5-9ee5-cf3cff9ab5cc"
      },
      "source": [
        "ltrain_df['Education'].value_counts()"
      ],
      "execution_count": 136,
      "outputs": [
        {
          "output_type": "execute_result",
          "data": {
            "text/plain": [
              "Graduate        340\n",
              "Not Graduate     86\n",
              "Name: Education, dtype: int64"
            ]
          },
          "metadata": {},
          "execution_count": 136
        }
      ]
    },
    {
      "cell_type": "code",
      "metadata": {
        "colab": {
          "base_uri": "https://localhost:8080/"
        },
        "id": "C8vrV2mnIQ2P",
        "outputId": "6700733d-5e79-4294-99fe-bd0400e0069b"
      },
      "source": [
        "ltrain_df['Self_Employed'].value_counts()"
      ],
      "execution_count": 137,
      "outputs": [
        {
          "output_type": "execute_result",
          "data": {
            "text/plain": [
              "No     343\n",
              "Yes     60\n",
              "Name: Self_Employed, dtype: int64"
            ]
          },
          "metadata": {},
          "execution_count": 137
        }
      ]
    },
    {
      "cell_type": "code",
      "metadata": {
        "colab": {
          "base_uri": "https://localhost:8080/"
        },
        "id": "g75D1_uYJRW-",
        "outputId": "8e03008a-c1ab-4b90-d9ce-d88b3e8267f5"
      },
      "source": [
        "#Replaced Nulls with No\n",
        "ltrain_df['Self_Employed'].fillna(value = 'No', inplace = True)\n",
        "ltrain_df['Self_Employed'].value_counts()"
      ],
      "execution_count": 138,
      "outputs": [
        {
          "output_type": "execute_result",
          "data": {
            "text/plain": [
              "No     366\n",
              "Yes     60\n",
              "Name: Self_Employed, dtype: int64"
            ]
          },
          "metadata": {},
          "execution_count": 138
        }
      ]
    },
    {
      "cell_type": "code",
      "metadata": {
        "colab": {
          "base_uri": "https://localhost:8080/"
        },
        "id": "tIzwXV3UHRkk",
        "outputId": "7e59449f-a35b-4483-bea0-840efaff74c4"
      },
      "source": [
        "ltrain_df['Property_Area'].value_counts()"
      ],
      "execution_count": 139,
      "outputs": [
        {
          "output_type": "execute_result",
          "data": {
            "text/plain": [
              "Semiurban    161\n",
              "Rural        144\n",
              "Urban        121\n",
              "Name: Property_Area, dtype: int64"
            ]
          },
          "metadata": {},
          "execution_count": 139
        }
      ]
    },
    {
      "cell_type": "code",
      "metadata": {
        "colab": {
          "base_uri": "https://localhost:8080/"
        },
        "id": "I9_0ShQvI0wx",
        "outputId": "2c280b4a-c744-4503-e89b-30e7b8f97539"
      },
      "source": [
        "ltrain_df['Loan_Status'].value_counts()"
      ],
      "execution_count": 140,
      "outputs": [
        {
          "output_type": "execute_result",
          "data": {
            "text/plain": [
              "Y    298\n",
              "N    128\n",
              "Name: Loan_Status, dtype: int64"
            ]
          },
          "metadata": {},
          "execution_count": 140
        }
      ]
    },
    {
      "cell_type": "code",
      "metadata": {
        "colab": {
          "base_uri": "https://localhost:8080/"
        },
        "id": "o12VLgFTf3p-",
        "outputId": "7f94ad70-fc50-4504-c349-3c2c6f83e516"
      },
      "source": [
        "ltrain_df['Loan_Amount_Term'].value_counts()"
      ],
      "execution_count": 141,
      "outputs": [
        {
          "output_type": "execute_result",
          "data": {
            "text/plain": [
              "360.0    366\n",
              "180.0     27\n",
              "480.0     10\n",
              "300.0      6\n",
              "84.0       4\n",
              "60.0       2\n",
              "240.0      1\n",
              "12.0       1\n",
              "36.0       1\n",
              "Name: Loan_Amount_Term, dtype: int64"
            ]
          },
          "metadata": {},
          "execution_count": 141
        }
      ]
    },
    {
      "cell_type": "code",
      "metadata": {
        "colab": {
          "base_uri": "https://localhost:8080/"
        },
        "id": "POryjAz7gk-M",
        "outputId": "ebed24b5-2c13-41e1-e1d4-0cc51d97e450"
      },
      "source": [
        "#Replaced Nulls with majority value\n",
        "ltrain_df['Loan_Amount_Term'].fillna(value = 360, inplace = True)\n",
        "ltrain_df['Loan_Amount_Term'].value_counts()"
      ],
      "execution_count": 142,
      "outputs": [
        {
          "output_type": "execute_result",
          "data": {
            "text/plain": [
              "360.0    374\n",
              "180.0     27\n",
              "480.0     10\n",
              "300.0      6\n",
              "84.0       4\n",
              "60.0       2\n",
              "240.0      1\n",
              "12.0       1\n",
              "36.0       1\n",
              "Name: Loan_Amount_Term, dtype: int64"
            ]
          },
          "metadata": {},
          "execution_count": 142
        }
      ]
    },
    {
      "cell_type": "code",
      "metadata": {
        "colab": {
          "base_uri": "https://localhost:8080/"
        },
        "id": "m7OaQ9tcf36G",
        "outputId": "342de54d-4f8a-4fd7-8076-2671b0c4b873"
      },
      "source": [
        "ltrain_df['Credit_History'].value_counts()"
      ],
      "execution_count": 143,
      "outputs": [
        {
          "output_type": "execute_result",
          "data": {
            "text/plain": [
              "1.0    328\n",
              "0.0     64\n",
              "Name: Credit_History, dtype: int64"
            ]
          },
          "metadata": {},
          "execution_count": 143
        }
      ]
    },
    {
      "cell_type": "code",
      "metadata": {
        "colab": {
          "base_uri": "https://localhost:8080/"
        },
        "id": "0A0kSJ8Kglam",
        "outputId": "e6eef969-b22c-4cd3-df7a-4a67ab9a2675"
      },
      "source": [
        "#Replaced Nulls with 0\n",
        "ltrain_df['Credit_History'].fillna(value = 0, inplace = True)\n",
        "ltrain_df['Credit_History'].value_counts()"
      ],
      "execution_count": 144,
      "outputs": [
        {
          "output_type": "execute_result",
          "data": {
            "text/plain": [
              "1.0    328\n",
              "0.0     98\n",
              "Name: Credit_History, dtype: int64"
            ]
          },
          "metadata": {},
          "execution_count": 144
        }
      ]
    },
    {
      "cell_type": "code",
      "metadata": {
        "colab": {
          "base_uri": "https://localhost:8080/"
        },
        "id": "LzTD0Hj4hIvD",
        "outputId": "ec144aaf-54cb-4268-e091-bfae11614ef7"
      },
      "source": [
        "ltrain_df.isnull().sum()"
      ],
      "execution_count": 145,
      "outputs": [
        {
          "output_type": "execute_result",
          "data": {
            "text/plain": [
              "Gender               0\n",
              "Married              0\n",
              "Dependents           0\n",
              "Education            0\n",
              "Self_Employed        0\n",
              "ApplicantIncome      0\n",
              "CoapplicantIncome    0\n",
              "LoanAmount           0\n",
              "Loan_Amount_Term     0\n",
              "Credit_History       0\n",
              "Property_Area        0\n",
              "Loan_Status          0\n",
              "dtype: int64"
            ]
          },
          "metadata": {},
          "execution_count": 145
        }
      ]
    },
    {
      "cell_type": "markdown",
      "metadata": {
        "id": "yFlRfgjYkfpa"
      },
      "source": [
        "Step 2:\n",
        "\n",
        "Examine and Visualize Data"
      ]
    },
    {
      "cell_type": "code",
      "metadata": {
        "colab": {
          "base_uri": "https://localhost:8080/",
          "height": 316
        },
        "id": "V1kw7FK34myV",
        "outputId": "ff768bf5-bbb5-4a5c-a9eb-c2368e7cb454"
      },
      "source": [
        "plt.style.use('seaborn-dark')\n",
        "\n",
        "ltrain_df.groupby(['Loan_Status'])[['Loan_Status']].count().plot(kind = \"bar\", legend = False)\n",
        "plt.grid(axis = 'y', c = 'grey', linewidth = 1)\n",
        "plt.title('')\n",
        "plt.ylabel('Counts', fontsize = 15)\n",
        "plt.xlabel('Loan Approval', fontsize = 15)\n",
        "plt.xticks(rotation = 0, fontsize = 13)\n",
        "plt.yticks(fontsize = 13);\n",
        "\n",
        "\n",
        "print('The percentage of Yes : ', round((ltrain_df['Loan_Status'].value_counts(normalize = True)[0]), 4)*100, '%')\n",
        "print('The percentage of No : ', round((ltrain_df['Loan_Status'].value_counts(normalize = True)[1]), 4)*100, '%');"
      ],
      "execution_count": 146,
      "outputs": [
        {
          "output_type": "stream",
          "name": "stdout",
          "text": [
            "The percentage of Yes :  69.95 %\n",
            "The percentage of No :  30.049999999999997 %\n"
          ]
        },
        {
          "output_type": "display_data",
          "data": {
            "image/png": "[encoded data removed]",
            "text/plain": [
              "<Figure size 432x288 with 1 Axes>"
            ]
          },
          "metadata": {}
        }
      ]
    },
    {
      "cell_type": "markdown",
      "metadata": {
        "id": "W7u7uofn-sa6"
      },
      "source": [
        "~70% of loans are approved"
      ]
    },
    {
      "cell_type": "code",
      "metadata": {
        "colab": {
          "base_uri": "https://localhost:8080/",
          "height": 330
        },
        "id": "Lc5beXo-nBYG",
        "outputId": "6ba77781-041c-48ab-a6b7-3ed1425b09a4"
      },
      "source": [
        "#Correlations in data\n",
        "corr = ltrain_df.corr()\n",
        "sns.heatmap(corr, cmap = 'Blues', annot = True)\n",
        "plt.xticks(rotation = 45)\n",
        "plt.yticks(rotation = 45);"
      ],
      "execution_count": 147,
      "outputs": [
        {
          "output_type": "display_data",
          "data": {
            "image/png": "[encoded data removed]",
            "text/plain": [
              "<Figure size 432x288 with 2 Axes>"
            ]
          },
          "metadata": {}
        }
      ]
    },
    {
      "cell_type": "markdown",
      "metadata": {
        "id": "44qPzeNkn_F7"
      },
      "source": [
        "The only 2 columns that have a strong correlation are Loan Amount and Applicant Income"
      ]
    },
    {
      "cell_type": "markdown",
      "metadata": {
        "id": "FPNANy0jqnm_"
      },
      "source": [
        "Those with a Credit history had a much greater chance of having their loan approved."
      ]
    },
    {
      "cell_type": "code",
      "metadata": {
        "colab": {
          "base_uri": "https://localhost:8080/",
          "height": 350
        },
        "id": "_MiUQqOJ-zAM",
        "outputId": "3f715350-f95f-4b1c-f691-54f5931f04cd"
      },
      "source": [
        "plt.style.use('seaborn-dark')\n",
        "\n",
        "ltrain_df.groupby(['Gender', 'Loan_Status'])[['Loan_Status']].count().plot(kind = \"bar\", legend = False)\n",
        "plt.grid(axis = 'y', c = 'grey', linewidth = 1)\n",
        "plt.title('')\n",
        "plt.ylabel('Counts', fontsize = 15)\n",
        "plt.xlabel('Loan Approval', fontsize = 15)\n",
        "plt.xticks(rotation = 0, fontsize = 13)\n",
        "plt.yticks(fontsize = 13);\n",
        "\n",
        "female = ltrain_df['Gender'] == 'Female'\n",
        "male = ltrain_df['Gender'] == 'Male'\n",
        "f_df = ltrain_df[female]\n",
        "m_df = ltrain_df[male]\n",
        "\n",
        "print('The percentage of Females approved : ', round((f_df['Loan_Status'].value_counts(normalize = True)[0]), 2)*100, '%')\n",
        "print('The percentage of Females not approved : ', round((f_df['Loan_Status'].value_counts(normalize = True)[1]), 2)*100, '%')\n",
        "print('The percentage of Males approved : ', round((m_df['Loan_Status'].value_counts(normalize = True)[0]), 2)*100, '%')\n",
        "print('The percentage of Males not approved : ', round((m_df['Loan_Status'].value_counts(normalize = True)[1]), 2)*100, '%');"
      ],
      "execution_count": 148,
      "outputs": [
        {
          "output_type": "stream",
          "name": "stdout",
          "text": [
            "The percentage of Females approved :  67.0 %\n",
            "The percentage of Females not approved :  33.0 %\n",
            "The percentage of Males approved :  71.0 %\n",
            "The percentage of Males not approved :  28.999999999999996 %\n"
          ]
        },
        {
          "output_type": "display_data",
          "data": {
            "image/png": "[encoded data removed]",
            "text/plain": [
              "<Figure size 432x288 with 1 Axes>"
            ]
          },
          "metadata": {}
        }
      ]
    },
    {
      "cell_type": "markdown",
      "metadata": {
        "id": "RWG-USKEGFl7"
      },
      "source": [
        "Step 3: Preprocessing"
      ]
    },
    {
      "cell_type": "code",
      "metadata": {
        "colab": {
          "base_uri": "https://localhost:8080/"
        },
        "id": "jrRN9mD0GD_X",
        "outputId": "ad12c2ac-a1a9-4bad-e9fa-8e040bf77056"
      },
      "source": [
        "ltrain_df.info()"
      ],
      "execution_count": 149,
      "outputs": [
        {
          "output_type": "stream",
          "name": "stdout",
          "text": [
            "<class 'pandas.core.frame.DataFrame'>\n",
            "Index: 426 entries, LP001003 to LP002990\n",
            "Data columns (total 12 columns):\n",
            " #   Column             Non-Null Count  Dtype  \n",
            "---  ------             --------------  -----  \n",
            " 0   Gender             426 non-null    object \n",
            " 1   Married            426 non-null    object \n",
            " 2   Dependents         426 non-null    object \n",
            " 3   Education          426 non-null    object \n",
            " 4   Self_Employed      426 non-null    object \n",
            " 5   ApplicantIncome    426 non-null    int64  \n",
            " 6   CoapplicantIncome  426 non-null    float64\n",
            " 7   LoanAmount         426 non-null    float64\n",
            " 8   Loan_Amount_Term   426 non-null    float64\n",
            " 9   Credit_History     426 non-null    float64\n",
            " 10  Property_Area      426 non-null    object \n",
            " 11  Loan_Status        426 non-null    object \n",
            "dtypes: float64(4), int64(1), object(7)\n",
            "memory usage: 43.3+ KB\n"
          ]
        }
      ]
    },
    {
      "cell_type": "code",
      "metadata": {
        "id": "fkGfVaP_GRVB"
      },
      "source": [
        "ltr_df = pd.get_dummies(ltrain_df, columns= ['Gender', 'Married', 'Education', 'Self_Employed', 'Property_Area'], drop_first= True)"
      ],
      "execution_count": 150,
      "outputs": []
    },
    {
      "cell_type": "code",
      "metadata": {
        "colab": {
          "base_uri": "https://localhost:8080/",
          "height": 235
        },
        "id": "fwSh5M9WHiKx",
        "outputId": "c04ea5f3-458b-4048-b354-2841aeaaa91f"
      },
      "source": [
        "dep = {'0' : 0, '1': 1, '2': 2, '3+': 3}\n",
        "ltr_df['Dependents'] = ltr_df['Dependents'].map(dep)\n",
        "ltr_df.head()"
      ],
      "execution_count": 151,
      "outputs": [
        {
          "output_type": "execute_result",
          "data": {
            "text/html": [
              "<div>\n",
              "<style scoped>\n",
              "    .dataframe tbody tr th:only-of-type {\n",
              "        vertical-align: middle;\n",
              "    }\n",
              "\n",
              "    .dataframe tbody tr th {\n",
              "        vertical-align: top;\n",
              "    }\n",
              "\n",
              "    .dataframe thead th {\n",
              "        text-align: right;\n",
              "    }\n",
              "</style>\n",
              "<table border=\"1\" class=\"dataframe\">\n",
              "  <thead>\n",
              "    <tr style=\"text-align: right;\">\n",
              "      <th></th>\n",
              "      <th>Dependents</th>\n",
              "      <th>ApplicantIncome</th>\n",
              "      <th>CoapplicantIncome</th>\n",
              "      <th>LoanAmount</th>\n",
              "      <th>Loan_Amount_Term</th>\n",
              "      <th>Credit_History</th>\n",
              "      <th>Loan_Status</th>\n",
              "      <th>Gender_Male</th>\n",
              "      <th>Married_Yes</th>\n",
              "      <th>Education_Not Graduate</th>\n",
              "      <th>Self_Employed_Yes</th>\n",
              "      <th>Property_Area_Semiurban</th>\n",
              "      <th>Property_Area_Urban</th>\n",
              "    </tr>\n",
              "    <tr>\n",
              "      <th>Loan_ID</th>\n",
              "      <th></th>\n",
              "      <th></th>\n",
              "      <th></th>\n",
              "      <th></th>\n",
              "      <th></th>\n",
              "      <th></th>\n",
              "      <th></th>\n",
              "      <th></th>\n",
              "      <th></th>\n",
              "      <th></th>\n",
              "      <th></th>\n",
              "      <th></th>\n",
              "      <th></th>\n",
              "    </tr>\n",
              "  </thead>\n",
              "  <tbody>\n",
              "    <tr>\n",
              "      <th>LP001003</th>\n",
              "      <td>1</td>\n",
              "      <td>4583</td>\n",
              "      <td>1508.0</td>\n",
              "      <td>128.0</td>\n",
              "      <td>360.0</td>\n",
              "      <td>1.0</td>\n",
              "      <td>N</td>\n",
              "      <td>1</td>\n",
              "      <td>1</td>\n",
              "      <td>0</td>\n",
              "      <td>0</td>\n",
              "      <td>0</td>\n",
              "      <td>0</td>\n",
              "    </tr>\n",
              "    <tr>\n",
              "      <th>LP001006</th>\n",
              "      <td>0</td>\n",
              "      <td>2583</td>\n",
              "      <td>2358.0</td>\n",
              "      <td>120.0</td>\n",
              "      <td>360.0</td>\n",
              "      <td>1.0</td>\n",
              "      <td>Y</td>\n",
              "      <td>1</td>\n",
              "      <td>1</td>\n",
              "      <td>1</td>\n",
              "      <td>0</td>\n",
              "      <td>0</td>\n",
              "      <td>1</td>\n",
              "    </tr>\n",
              "    <tr>\n",
              "      <th>LP001008</th>\n",
              "      <td>0</td>\n",
              "      <td>6000</td>\n",
              "      <td>0.0</td>\n",
              "      <td>141.0</td>\n",
              "      <td>360.0</td>\n",
              "      <td>1.0</td>\n",
              "      <td>Y</td>\n",
              "      <td>1</td>\n",
              "      <td>0</td>\n",
              "      <td>0</td>\n",
              "      <td>0</td>\n",
              "      <td>0</td>\n",
              "      <td>1</td>\n",
              "    </tr>\n",
              "    <tr>\n",
              "      <th>LP001011</th>\n",
              "      <td>2</td>\n",
              "      <td>5417</td>\n",
              "      <td>4196.0</td>\n",
              "      <td>267.0</td>\n",
              "      <td>360.0</td>\n",
              "      <td>1.0</td>\n",
              "      <td>Y</td>\n",
              "      <td>1</td>\n",
              "      <td>1</td>\n",
              "      <td>0</td>\n",
              "      <td>1</td>\n",
              "      <td>0</td>\n",
              "      <td>1</td>\n",
              "    </tr>\n",
              "    <tr>\n",
              "      <th>LP001014</th>\n",
              "      <td>3</td>\n",
              "      <td>3036</td>\n",
              "      <td>2504.0</td>\n",
              "      <td>158.0</td>\n",
              "      <td>360.0</td>\n",
              "      <td>0.0</td>\n",
              "      <td>N</td>\n",
              "      <td>1</td>\n",
              "      <td>1</td>\n",
              "      <td>0</td>\n",
              "      <td>0</td>\n",
              "      <td>1</td>\n",
              "      <td>0</td>\n",
              "    </tr>\n",
              "  </tbody>\n",
              "</table>\n",
              "</div>"
            ],
            "text/plain": [
              "          Dependents  ...  Property_Area_Urban\n",
              "Loan_ID               ...                     \n",
              "LP001003           1  ...                    0\n",
              "LP001006           0  ...                    1\n",
              "LP001008           0  ...                    1\n",
              "LP001011           2  ...                    1\n",
              "LP001014           3  ...                    0\n",
              "\n",
              "[5 rows x 13 columns]"
            ]
          },
          "metadata": {},
          "execution_count": 151
        }
      ]
    },
    {
      "cell_type": "code",
      "metadata": {
        "id": "l01exQUo_xrK"
      },
      "source": [
        "y = ltr_df['Loan_Status'] #Target\n",
        "X = ltr_df.drop(columns= 'Loan_Status') #Features"
      ],
      "execution_count": 152,
      "outputs": []
    },
    {
      "cell_type": "code",
      "metadata": {
        "id": "AI30bCeb_-Tq"
      },
      "source": [
        "#Train Test Split and scaling\n",
        "X_train, X_test, y_train, y_test = train_test_split(X, y, random_state=42)\n",
        "\n",
        "scaler = StandardScaler()\n",
        "X_train = scaler.fit_transform(X_train) \n",
        "X_test = scaler.transform(X_test)"
      ],
      "execution_count": 153,
      "outputs": []
    },
    {
      "cell_type": "code",
      "metadata": {
        "id": "KRg7YFegHbjR"
      },
      "source": [
        "#Reduce feature count to 95% varience\n",
        "pca = PCA(n_components = .95)\n",
        "X_train_pca = pca.fit_transform(X_train)\n",
        "X_test_pca = pca.transform(X_test)"
      ],
      "execution_count": 154,
      "outputs": []
    },
    {
      "cell_type": "markdown",
      "metadata": {
        "id": "jfYiFiP3FOEK"
      },
      "source": [
        "Step 4: Baseline Model Testing"
      ]
    },
    {
      "cell_type": "code",
      "metadata": {
        "colab": {
          "base_uri": "https://localhost:8080/"
        },
        "id": "d4nTK8jvAbYs",
        "outputId": "0cd81108-8a07-4dd4-96d3-7f8086f55f0d"
      },
      "source": [
        "y.value_counts(normalize= True)\n",
        "#Baseline prediction is 70% accurate. "
      ],
      "execution_count": 155,
      "outputs": [
        {
          "output_type": "execute_result",
          "data": {
            "text/plain": [
              "Y    0.699531\n",
              "N    0.300469\n",
              "Name: Loan_Status, dtype: float64"
            ]
          },
          "metadata": {},
          "execution_count": 155
        }
      ]
    },
    {
      "cell_type": "markdown",
      "metadata": {
        "id": "jTex8VzxGS2m"
      },
      "source": [
        "Begin Modeling Default Tuning"
      ]
    },
    {
      "cell_type": "code",
      "metadata": {
        "colab": {
          "base_uri": "https://localhost:8080/"
        },
        "id": "tSYsY2WxGCA-",
        "outputId": "c52507e6-d98f-4371-d3ce-5c5260a67724"
      },
      "source": [
        "#K Nearest Neighbors\n",
        "#Accuracy 72%\n",
        "\n",
        "knn = KNeighborsClassifier()\n",
        "knn.fit(X_train_pca, y_train)\n",
        "\n",
        "print('Training accuracy:', knn.score(X_train_pca, y_train))\n",
        "print('Testing accuracy:', knn.score(X_test_pca, y_test))\n",
        "print('Classification Report: ', classification_report(y_test, knn.predict(X_test_pca)))"
      ],
      "execution_count": 156,
      "outputs": [
        {
          "output_type": "stream",
          "name": "stdout",
          "text": [
            "Training accuracy: 0.7899686520376176\n",
            "Testing accuracy: 0.719626168224299\n",
            "Classification Report:                precision    recall  f1-score   support\n",
            "\n",
            "           N       0.68      0.35      0.46        37\n",
            "           Y       0.73      0.91      0.81        70\n",
            "\n",
            "    accuracy                           0.72       107\n",
            "   macro avg       0.71      0.63      0.64       107\n",
            "weighted avg       0.71      0.72      0.69       107\n",
            "\n"
          ]
        }
      ]
    },
    {
      "cell_type": "code",
      "metadata": {
        "colab": {
          "base_uri": "https://localhost:8080/"
        },
        "id": "q8FA9afKI89_",
        "outputId": "b1f10be0-15f6-47d6-8a04-c64907d0ecbf"
      },
      "source": [
        "#Random Forest Classifier\n",
        "#Accuracy 77%\n",
        "\n",
        "rfc = RandomForestClassifier()\n",
        "rfc.fit(X_train_pca, y_train)\n",
        "\n",
        "print('Training accuracy:', rfc.score(X_train_pca, y_train))\n",
        "print('Testing accuracy:', rfc.score(X_test_pca, y_test))\n",
        "print('Classification Report: ', classification_report(y_test, rfc.predict(X_test_pca)))"
      ],
      "execution_count": 157,
      "outputs": [
        {
          "output_type": "stream",
          "name": "stdout",
          "text": [
            "Training accuracy: 1.0\n",
            "Testing accuracy: 0.7476635514018691\n",
            "Classification Report:                precision    recall  f1-score   support\n",
            "\n",
            "           N       0.78      0.38      0.51        37\n",
            "           Y       0.74      0.94      0.83        70\n",
            "\n",
            "    accuracy                           0.75       107\n",
            "   macro avg       0.76      0.66      0.67       107\n",
            "weighted avg       0.75      0.75      0.72       107\n",
            "\n"
          ]
        }
      ]
    },
    {
      "cell_type": "code",
      "metadata": {
        "colab": {
          "base_uri": "https://localhost:8080/"
        },
        "id": "TBWXPL2BJTYf",
        "outputId": "6967fe2c-da21-4a00-9082-e84a3d17580b"
      },
      "source": [
        "#Logistic Regression\n",
        "#Accuracy 77%\n",
        "\n",
        "lrg = LogisticRegression()\n",
        "lrg.fit(X_train_pca, y_train)\n",
        "\n",
        "print('Training accuracy:', lrg.score(X_train_pca, y_train))\n",
        "print('Testing accuracy:', lrg.score(X_test_pca, y_test))\n",
        "print('Classification Report: ', classification_report(y_test, lrg.predict(X_test_pca)))"
      ],
      "execution_count": 158,
      "outputs": [
        {
          "output_type": "stream",
          "name": "stdout",
          "text": [
            "Training accuracy: 0.7962382445141066\n",
            "Testing accuracy: 0.7663551401869159\n",
            "Classification Report:                precision    recall  f1-score   support\n",
            "\n",
            "           N       0.80      0.43      0.56        37\n",
            "           Y       0.76      0.94      0.84        70\n",
            "\n",
            "    accuracy                           0.77       107\n",
            "   macro avg       0.78      0.69      0.70       107\n",
            "weighted avg       0.77      0.77      0.74       107\n",
            "\n"
          ]
        }
      ]
    },
    {
      "cell_type": "code",
      "metadata": {
        "colab": {
          "base_uri": "https://localhost:8080/"
        },
        "id": "BvnKwgRNKJd1",
        "outputId": "67af3f93-972a-41eb-bf0c-853178b700c0"
      },
      "source": [
        "#AdaBoost Classifier\n",
        "#Accuracy 72%\n",
        "\n",
        "ada = AdaBoostClassifier()\n",
        "ada.fit(X_train_pca, y_train)\n",
        "\n",
        "print('Training accuracy:', ada.score(X_train_pca, y_train))\n",
        "print('Testing accuracy:', ada.score(X_test_pca, y_test))\n",
        "print('Classification Report: ', classification_report(y_test, ada.predict(X_test_pca)))"
      ],
      "execution_count": 159,
      "outputs": [
        {
          "output_type": "stream",
          "name": "stdout",
          "text": [
            "Training accuracy: 0.8808777429467085\n",
            "Testing accuracy: 0.719626168224299\n",
            "Classification Report:                precision    recall  f1-score   support\n",
            "\n",
            "           N       0.67      0.38      0.48        37\n",
            "           Y       0.73      0.90      0.81        70\n",
            "\n",
            "    accuracy                           0.72       107\n",
            "   macro avg       0.70      0.64      0.65       107\n",
            "weighted avg       0.71      0.72      0.70       107\n",
            "\n"
          ]
        }
      ]
    },
    {
      "cell_type": "code",
      "metadata": {
        "colab": {
          "base_uri": "https://localhost:8080/"
        },
        "id": "QayQItiMKY4o",
        "outputId": "1120f677-a3ba-4ba1-bc9e-0f273eb7246d"
      },
      "source": [
        "#Gradient Boosting Classifier\n",
        "#Accuracy 78%\n",
        "\n",
        "gbc = GradientBoostingClassifier()\n",
        "gbc.fit(X_train_pca, y_train)\n",
        "\n",
        "print('Training accuracy:', gbc.score(X_train_pca, y_train))\n",
        "print('Testing accuracy:', gbc.score(X_test_pca, y_test))\n",
        "print('Classification Report: ', classification_report(y_test, gbc.predict(X_test_pca)))"
      ],
      "execution_count": 160,
      "outputs": [
        {
          "output_type": "stream",
          "name": "stdout",
          "text": [
            "Training accuracy: 0.9623824451410659\n",
            "Testing accuracy: 0.7757009345794392\n",
            "Classification Report:                precision    recall  f1-score   support\n",
            "\n",
            "           N       0.81      0.46      0.59        37\n",
            "           Y       0.77      0.94      0.85        70\n",
            "\n",
            "    accuracy                           0.78       107\n",
            "   macro avg       0.79      0.70      0.72       107\n",
            "weighted avg       0.78      0.78      0.76       107\n",
            "\n"
          ]
        }
      ]
    },
    {
      "cell_type": "code",
      "metadata": {
        "colab": {
          "base_uri": "https://localhost:8080/"
        },
        "id": "OvUxRT9tKvEK",
        "outputId": "b6fe9dd4-0575-48f1-c1d9-cbb59ba969e1"
      },
      "source": [
        "#XGBoost Classifier\n",
        "#Accuracy 76%\n",
        "\n",
        "xgb = XGBClassifier()\n",
        "xgb.fit(X_train_pca, y_train)\n",
        "\n",
        "print('Training accuracy:', xgb.score(X_train_pca, y_train))\n",
        "print('Testing accuracy:', xgb.score(X_test_pca, y_test))\n",
        "print('Classification Report: ', classification_report(y_test, xgb.predict(X_test_pca)))"
      ],
      "execution_count": 161,
      "outputs": [
        {
          "output_type": "stream",
          "name": "stdout",
          "text": [
            "Training accuracy: 0.9435736677115988\n",
            "Testing accuracy: 0.7570093457943925\n",
            "Classification Report:                precision    recall  f1-score   support\n",
            "\n",
            "           N       0.82      0.38      0.52        37\n",
            "           Y       0.74      0.96      0.84        70\n",
            "\n",
            "    accuracy                           0.76       107\n",
            "   macro avg       0.78      0.67      0.68       107\n",
            "weighted avg       0.77      0.76      0.73       107\n",
            "\n"
          ]
        }
      ]
    },
    {
      "cell_type": "code",
      "metadata": {
        "colab": {
          "base_uri": "https://localhost:8080/"
        },
        "id": "AF_4ZJAXLEal",
        "outputId": "2f8baeac-3b83-4f2b-f47e-ce0c735d0fe2"
      },
      "source": [
        "#LGBModel Classifier\n",
        "#Accuracy 72%\n",
        "\n",
        "lgb = LGBMClassifier()\n",
        "lgb.fit(X_train_pca, y_train)\n",
        "\n",
        "print('Training accuracy:', lgb.score(X_train_pca, y_train))\n",
        "print('Testing accuracy:', lgb.score(X_test_pca, y_test))\n",
        "print('Classification Report: ', classification_report(y_test, lgb.predict(X_test_pca)))"
      ],
      "execution_count": 162,
      "outputs": [
        {
          "output_type": "stream",
          "name": "stdout",
          "text": [
            "Training accuracy: 1.0\n",
            "Testing accuracy: 0.719626168224299\n",
            "Classification Report:                precision    recall  f1-score   support\n",
            "\n",
            "           N       0.67      0.38      0.48        37\n",
            "           Y       0.73      0.90      0.81        70\n",
            "\n",
            "    accuracy                           0.72       107\n",
            "   macro avg       0.70      0.64      0.65       107\n",
            "weighted avg       0.71      0.72      0.70       107\n",
            "\n"
          ]
        }
      ]
    },
    {
      "cell_type": "markdown",
      "metadata": {
        "id": "1ia2wKk-LWxB"
      },
      "source": [
        "All models have slightly higher baseline prediction over initial baseline.\n",
        "\n",
        "Choosing 4 models to tune based on untuned accuracy\n",
        "\n",
        "*   XGBoost\n",
        "*   Gradient Boosting\n",
        "*   Logistic Regression\n",
        "*   Random Forest\n",
        "\n",
        "\n",
        "\n"
      ]
    },
    {
      "cell_type": "code",
      "metadata": {
        "colab": {
          "base_uri": "https://localhost:8080/"
        },
        "id": "dtULj_EFM3zK",
        "outputId": "737932a8-b76f-4095-8448-a7ab2032d900"
      },
      "source": [
        "#Random Forest Parameters\n",
        "rfc.get_params"
      ],
      "execution_count": 163,
      "outputs": [
        {
          "output_type": "execute_result",
          "data": {
            "text/plain": [
              "<bound method BaseEstimator.get_params of RandomForestClassifier(bootstrap=True, ccp_alpha=0.0, class_weight=None,\n",
              "                       criterion='gini', max_depth=None, max_features='auto',\n",
              "                       max_leaf_nodes=None, max_samples=None,\n",
              "                       min_impurity_decrease=0.0, min_impurity_split=None,\n",
              "                       min_samples_leaf=1, min_samples_split=2,\n",
              "                       min_weight_fraction_leaf=0.0, n_estimators=100,\n",
              "                       n_jobs=None, oob_score=False, random_state=None,\n",
              "                       verbose=0, warm_start=False)>"
            ]
          },
          "metadata": {},
          "execution_count": 163
        }
      ]
    },
    {
      "cell_type": "code",
      "metadata": {
        "colab": {
          "base_uri": "https://localhost:8080/",
          "height": 276
        },
        "id": "oS33saGSbYzZ",
        "outputId": "13cdc3d6-0e39-420b-c4e9-5e3bcf982830"
      },
      "source": [
        "#Test for Max Depth\n",
        "max_depth_range = list(range(2, 25)) \n",
        "\n",
        "r2 = []\n",
        "for depth in max_depth_range:\n",
        "    rfc = RandomForestClassifier(max_depth = depth, random_state = 42)\n",
        "    rfc.fit(X_train_pca, y_train)\n",
        "\n",
        "    score = rfc.score(X_test_pca, y_test)\n",
        "    \n",
        "    r2.append(score);\n",
        "\n",
        "plt.plot(max_depth_range, r2)\n",
        "plt.grid(axis = 'x')\n",
        "plt.xlabel('max_depth')\n",
        "plt.ylabel('R2');"
      ],
      "execution_count": 164,
      "outputs": [
        {
          "output_type": "display_data",
          "data": {
            "image/png": "[encoded data removed]",
            "text/plain": [
              "<Figure size 432x288 with 1 Axes>"
            ]
          },
          "metadata": {}
        }
      ]
    },
    {
      "cell_type": "code",
      "metadata": {
        "colab": {
          "base_uri": "https://localhost:8080/"
        },
        "id": "47BhvOorL_lU",
        "outputId": "f40991c0-0a84-4af7-80dc-77d964b87b23"
      },
      "source": [
        "#Random Forest tuning with GridSearchCV\n",
        "\n",
        "rfc_param_grid = {'n_estimators': [100, 150, 200, 250, 300],\n",
        "                  'max_depth' : [5, 9, 12, 14, 15]}\n",
        "\n",
        "grid = GridSearchCV(rfc, rfc_param_grid)\n",
        "\n",
        "grid.fit(X_train_pca, y_train)\n",
        "print(grid.best_params_)\n",
        "print(grid.score(X_test_pca, y_test))\n"
      ],
      "execution_count": 165,
      "outputs": [
        {
          "output_type": "stream",
          "name": "stdout",
          "text": [
            "{'max_depth': 5, 'n_estimators': 100}\n",
            "0.7757009345794392\n"
          ]
        }
      ]
    },
    {
      "cell_type": "code",
      "metadata": {
        "colab": {
          "base_uri": "https://localhost:8080/"
        },
        "id": "PQt6n9rOcfFy",
        "outputId": "118867c5-d3f2-4cb6-92d5-2c0d08cd9ce5"
      },
      "source": [
        "#Tuned Random Forest Classifier\n",
        "#Accuracy 78% (2% improvement)\n",
        "\n",
        "tuned_rfc = RandomForestClassifier(max_depth= 5, n_estimators= 100)\n",
        "tuned_rfc.fit(X_train_pca, y_train)\n",
        "\n",
        "print('Training accuracy:', tuned_rfc.score(X_train_pca, y_train))\n",
        "print('Testing accuracy:', tuned_rfc.score(X_test_pca, y_test))\n",
        "print('Classification Report: ', classification_report(y_test, tuned_rfc.predict(X_test_pca)))"
      ],
      "execution_count": 190,
      "outputs": [
        {
          "output_type": "stream",
          "name": "stdout",
          "text": [
            "Training accuracy: 0.8934169278996865\n",
            "Testing accuracy: 0.7757009345794392\n",
            "Classification Report:                precision    recall  f1-score   support\n",
            "\n",
            "           N       0.84      0.43      0.57        37\n",
            "           Y       0.76      0.96      0.85        70\n",
            "\n",
            "    accuracy                           0.78       107\n",
            "   macro avg       0.80      0.69      0.71       107\n",
            "weighted avg       0.79      0.78      0.75       107\n",
            "\n"
          ]
        }
      ]
    },
    {
      "cell_type": "code",
      "metadata": {
        "colab": {
          "base_uri": "https://localhost:8080/"
        },
        "id": "Y-26bzfZeCOQ",
        "outputId": "49e9d2c4-1231-436c-acc1-872b88e45e01"
      },
      "source": [
        "lrg.get_params"
      ],
      "execution_count": 167,
      "outputs": [
        {
          "output_type": "execute_result",
          "data": {
            "text/plain": [
              "<bound method BaseEstimator.get_params of LogisticRegression(C=1.0, class_weight=None, dual=False, fit_intercept=True,\n",
              "                   intercept_scaling=1, l1_ratio=None, max_iter=100,\n",
              "                   multi_class='auto', n_jobs=None, penalty='l2',\n",
              "                   random_state=None, solver='lbfgs', tol=0.0001, verbose=0,\n",
              "                   warm_start=False)>"
            ]
          },
          "metadata": {},
          "execution_count": 167
        }
      ]
    },
    {
      "cell_type": "code",
      "metadata": {
        "colab": {
          "base_uri": "https://localhost:8080/"
        },
        "id": "EqvPFZwodZnk",
        "outputId": "afabfd93-c698-4aeb-8647-924275b7c4d3"
      },
      "source": [
        "#Logistic Regression tuning with GridSearchCV\n",
        "\n",
        "lrg_param_grid = {'max_iter' : [50, 100, 150, 200, 300],\n",
        "                  'penalty' : ['none', 'l2']}\n",
        "\n",
        "grid = GridSearchCV(lrg, lrg_param_grid)\n",
        "\n",
        "grid.fit(X_train_pca, y_train)\n",
        "print(grid.best_params_)\n",
        "print(grid.score(X_test_pca, y_test))"
      ],
      "execution_count": 168,
      "outputs": [
        {
          "output_type": "stream",
          "name": "stdout",
          "text": [
            "{'max_iter': 50, 'penalty': 'none'}\n",
            "0.7663551401869159\n"
          ]
        }
      ]
    },
    {
      "cell_type": "code",
      "metadata": {
        "colab": {
          "base_uri": "https://localhost:8080/"
        },
        "id": "50t8nLOfflkq",
        "outputId": "863adcd9-562a-4219-c759-8ed72b96d0e9"
      },
      "source": [
        "#Tuned Logistic Regression\n",
        "#Accuracy 77% (Same as untuned)\n",
        "\n",
        "tuned_lrg = LogisticRegression(max_iter= 50, penalty = 'none')\n",
        "tuned_lrg.fit(X_train_pca, y_train)\n",
        "\n",
        "print('Training accuracy:', tuned_lrg.score(X_train_pca, y_train))\n",
        "print('Testing accuracy:', tuned_lrg.score(X_test_pca, y_test))\n",
        "print('Classification Report: ', classification_report(y_test, tuned_lrg.predict(X_test_pca)))"
      ],
      "execution_count": 169,
      "outputs": [
        {
          "output_type": "stream",
          "name": "stdout",
          "text": [
            "Training accuracy: 0.7962382445141066\n",
            "Testing accuracy: 0.7663551401869159\n",
            "Classification Report:                precision    recall  f1-score   support\n",
            "\n",
            "           N       0.80      0.43      0.56        37\n",
            "           Y       0.76      0.94      0.84        70\n",
            "\n",
            "    accuracy                           0.77       107\n",
            "   macro avg       0.78      0.69      0.70       107\n",
            "weighted avg       0.77      0.77      0.74       107\n",
            "\n"
          ]
        }
      ]
    },
    {
      "cell_type": "code",
      "metadata": {
        "colab": {
          "base_uri": "https://localhost:8080/"
        },
        "id": "w1tbJGDVgU52",
        "outputId": "045eb36c-0f0c-4d0f-f42a-90608c8f2dea"
      },
      "source": [
        "gbc.get_params"
      ],
      "execution_count": 170,
      "outputs": [
        {
          "output_type": "execute_result",
          "data": {
            "text/plain": [
              "<bound method BaseEstimator.get_params of GradientBoostingClassifier(ccp_alpha=0.0, criterion='friedman_mse', init=None,\n",
              "                           learning_rate=0.1, loss='deviance', max_depth=3,\n",
              "                           max_features=None, max_leaf_nodes=None,\n",
              "                           min_impurity_decrease=0.0, min_impurity_split=None,\n",
              "                           min_samples_leaf=1, min_samples_split=2,\n",
              "                           min_weight_fraction_leaf=0.0, n_estimators=100,\n",
              "                           n_iter_no_change=None, presort='deprecated',\n",
              "                           random_state=None, subsample=1.0, tol=0.0001,\n",
              "                           validation_fraction=0.1, verbose=0,\n",
              "                           warm_start=False)>"
            ]
          },
          "metadata": {},
          "execution_count": 170
        }
      ]
    },
    {
      "cell_type": "code",
      "metadata": {
        "colab": {
          "base_uri": "https://localhost:8080/",
          "height": 276
        },
        "id": "tzmhsXF_hUA-",
        "outputId": "ef2a4bb6-911c-4305-850b-9a48a2b16acc"
      },
      "source": [
        "#Test for Max Depth\n",
        "max_depth_range = list(range(2, 25)) \n",
        "\n",
        "r2 = []\n",
        "for depth in max_depth_range:\n",
        "    gbc = GradientBoostingClassifier(max_depth = depth, random_state = 42)\n",
        "    gbc.fit(X_train_pca, y_train)\n",
        "\n",
        "    score = gbc.score(X_test_pca, y_test)\n",
        "    \n",
        "    r2.append(score);\n",
        "\n",
        "plt.plot(max_depth_range, r2)\n",
        "plt.grid(axis = 'x')\n",
        "plt.xlabel('max_depth')\n",
        "plt.ylabel('R2');"
      ],
      "execution_count": 171,
      "outputs": [
        {
          "output_type": "display_data",
          "data": {
            "image/png": "[encoded data removed]",
            "text/plain": [
              "<Figure size 432x288 with 1 Axes>"
            ]
          },
          "metadata": {}
        }
      ]
    },
    {
      "cell_type": "code",
      "metadata": {
        "colab": {
          "base_uri": "https://localhost:8080/"
        },
        "id": "99j65KWEgKaM",
        "outputId": "6367744d-9047-461b-d224-79878b7806d9"
      },
      "source": [
        "#Gradient Boosting tuning with GridSearchCV\n",
        "\n",
        "gbc_param_grid = {'max_depth' : [3,4,5,6,8,10],\n",
        "                  'n_estimators' : [50, 100, 150, 200, 300]}\n",
        "\n",
        "grid = GridSearchCV(gbc, gbc_param_grid)\n",
        "\n",
        "grid.fit(X_train_pca, y_train)\n",
        "print(grid.best_params_)\n",
        "print(grid.score(X_test_pca, y_test))"
      ],
      "execution_count": 172,
      "outputs": [
        {
          "output_type": "stream",
          "name": "stdout",
          "text": [
            "{'max_depth': 3, 'n_estimators': 50}\n",
            "0.7757009345794392\n"
          ]
        }
      ]
    },
    {
      "cell_type": "code",
      "metadata": {
        "colab": {
          "base_uri": "https://localhost:8080/"
        },
        "id": "JMkv1B8QgKny",
        "outputId": "87a79a92-b08d-45a0-846c-232f3e8be2cb"
      },
      "source": [
        "#Tuned Gradient Boosting Classifier\n",
        "#Accuracy 78%\n",
        "\n",
        "tuned_gbc = GradientBoostingClassifier(max_depth= 3, n_estimators= 50)\n",
        "tuned_gbc.fit(X_train_pca, y_train)\n",
        "\n",
        "print('Training accuracy:', tuned_gbc.score(X_train_pca, y_train))\n",
        "print('Testing accuracy:', tuned_gbc.score(X_test_pca, y_test))\n",
        "print('Classification Report: ', classification_report(y_test, tuned_gbc.predict(X_test_pca)))"
      ],
      "execution_count": 173,
      "outputs": [
        {
          "output_type": "stream",
          "name": "stdout",
          "text": [
            "Training accuracy: 0.9184952978056427\n",
            "Testing accuracy: 0.7757009345794392\n",
            "Classification Report:                precision    recall  f1-score   support\n",
            "\n",
            "           N       0.84      0.43      0.57        37\n",
            "           Y       0.76      0.96      0.85        70\n",
            "\n",
            "    accuracy                           0.78       107\n",
            "   macro avg       0.80      0.69      0.71       107\n",
            "weighted avg       0.79      0.78      0.75       107\n",
            "\n"
          ]
        }
      ]
    },
    {
      "cell_type": "code",
      "metadata": {
        "colab": {
          "base_uri": "https://localhost:8080/"
        },
        "id": "YhbUvGfOiv3l",
        "outputId": "870e1a11-e638-44bd-bbc7-cf57068f0a2c"
      },
      "source": [
        "xgb.get_params"
      ],
      "execution_count": 174,
      "outputs": [
        {
          "output_type": "execute_result",
          "data": {
            "text/plain": [
              "<bound method XGBModel.get_params of XGBClassifier(base_score=0.5, booster='gbtree', colsample_bylevel=1,\n",
              "              colsample_bynode=1, colsample_bytree=1, gamma=0,\n",
              "              learning_rate=0.1, max_delta_step=0, max_depth=3,\n",
              "              min_child_weight=1, missing=None, n_estimators=100, n_jobs=1,\n",
              "              nthread=None, objective='binary:logistic', random_state=0,\n",
              "              reg_alpha=0, reg_lambda=1, scale_pos_weight=1, seed=None,\n",
              "              silent=None, subsample=1, verbosity=1)>"
            ]
          },
          "metadata": {},
          "execution_count": 174
        }
      ]
    },
    {
      "cell_type": "code",
      "metadata": {
        "colab": {
          "base_uri": "https://localhost:8080/",
          "height": 276
        },
        "id": "A6EpDqeekEnI",
        "outputId": "a572d408-598e-4209-bdbd-a360869f6924"
      },
      "source": [
        "#Test for Max Depth\n",
        "max_depth_range = list(range(2, 25)) \n",
        "\n",
        "r2 = []\n",
        "for depth in max_depth_range:\n",
        "    xgb = GradientBoostingClassifier(max_depth = depth, random_state = 42)\n",
        "    xgb.fit(X_train_pca, y_train)\n",
        "\n",
        "    score = xgb.score(X_test_pca, y_test)\n",
        "    \n",
        "    r2.append(score);\n",
        "\n",
        "plt.plot(max_depth_range, r2)\n",
        "plt.grid(axis = 'x')\n",
        "plt.xlabel('max_depth')\n",
        "plt.ylabel('R2');"
      ],
      "execution_count": 175,
      "outputs": [
        {
          "output_type": "display_data",
          "data": {
            "image/png": "[encoded data removed]",
            "text/plain": [
              "<Figure size 432x288 with 1 Axes>"
            ]
          },
          "metadata": {}
        }
      ]
    },
    {
      "cell_type": "code",
      "metadata": {
        "colab": {
          "base_uri": "https://localhost:8080/"
        },
        "id": "XliSUQlyi39t",
        "outputId": "dc49bbd5-9fe7-4c10-81d1-6519ced4f2b5"
      },
      "source": [
        "#XGBoosting tuning with GridSearchCV\n",
        "\n",
        "xgb_param_grid = {'max_depth' : [3, 4, 5, 6, 8, 10, 12, 15],\n",
        "                  'n_estimators' : [50, 100, 150, 200, 300, 500]}\n",
        "\n",
        "grid = GridSearchCV(xgb, xgb_param_grid)\n",
        "\n",
        "grid.fit(X_train_pca, y_train)\n",
        "print(grid.best_params_)\n",
        "print(grid.score(X_test_pca, y_test))"
      ],
      "execution_count": 176,
      "outputs": [
        {
          "output_type": "stream",
          "name": "stdout",
          "text": [
            "{'max_depth': 3, 'n_estimators': 50}\n",
            "0.7757009345794392\n"
          ]
        }
      ]
    },
    {
      "cell_type": "code",
      "metadata": {
        "colab": {
          "base_uri": "https://localhost:8080/"
        },
        "id": "m95IEqryjCQI",
        "outputId": "fb0d3fca-f54f-47e7-ae64-cff94400fa62"
      },
      "source": [
        "#Tuned XGBoosting Classifier\n",
        "#Accuracy 76%\n",
        "\n",
        "tuned_xgb = XGBClassifier(max_depth= 3, n_estimators= 50)\n",
        "tuned_xgb.fit(X_train_pca, y_train)\n",
        "\n",
        "print('Training accuracy:', tuned_xgb.score(X_train_pca, y_train))\n",
        "print('Testing accuracy:', tuned_xgb.score(X_test_pca, y_test))\n",
        "print('Classification Report: ', classification_report(y_test, tuned_xgb.predict(X_test_pca)))"
      ],
      "execution_count": 177,
      "outputs": [
        {
          "output_type": "stream",
          "name": "stdout",
          "text": [
            "Training accuracy: 0.8871473354231975\n",
            "Testing accuracy: 0.7570093457943925\n",
            "Classification Report:                precision    recall  f1-score   support\n",
            "\n",
            "           N       0.82      0.38      0.52        37\n",
            "           Y       0.74      0.96      0.84        70\n",
            "\n",
            "    accuracy                           0.76       107\n",
            "   macro avg       0.78      0.67      0.68       107\n",
            "weighted avg       0.77      0.76      0.73       107\n",
            "\n"
          ]
        }
      ]
    },
    {
      "cell_type": "code",
      "metadata": {
        "colab": {
          "base_uri": "https://localhost:8080/"
        },
        "id": "jUkY2hGVsKZx",
        "outputId": "bb4adf52-144f-49ce-ae47-550f57e79acb"
      },
      "source": [
        "#Voting Classifier using the 4 tuned models above\n",
        "#75% acurracy\n",
        "\n",
        "estimators = [('tuned_rfc',rfc), ('tuned_lrg',lrg), ('tuned_gbc',gbc), ('tuned_xgb',xgb)]\n",
        "\n",
        "vote_clr = VotingClassifier(estimators=estimators)\n",
        "vote = vote_clr.fit(X_train_pca, y_train)\n",
        "\n",
        "print('Training accuracy:', vote.score(X_train_pca, y_train))\n",
        "print('Testing accuracy:', vote.score(X_test_pca, y_test))\n",
        "print('Classification Report:', classification_report(y_test, vote.predict(X_test_pca)))"
      ],
      "execution_count": 182,
      "outputs": [
        {
          "output_type": "stream",
          "name": "stdout",
          "text": [
            "Training accuracy: 1.0\n",
            "Testing accuracy: 0.7476635514018691\n",
            "Classification Report:               precision    recall  f1-score   support\n",
            "\n",
            "           N       0.69      0.49      0.57        37\n",
            "           Y       0.77      0.89      0.82        70\n",
            "\n",
            "    accuracy                           0.75       107\n",
            "   macro avg       0.73      0.69      0.70       107\n",
            "weighted avg       0.74      0.75      0.73       107\n",
            "\n"
          ]
        }
      ]
    },
    {
      "cell_type": "code",
      "metadata": {
        "colab": {
          "base_uri": "https://localhost:8080/",
          "height": 276
        },
        "id": "soZD6rsQtJzQ",
        "outputId": "ae1c7175-d089-4de7-a0ad-8c247b689183"
      },
      "source": [
        "#Confusion Matrix to better understand results\n",
        "from sklearn.metrics import plot_confusion_matrix\n",
        "plot_confusion_matrix(vote, X_test_pca, y_test, cmap = 'Blues');"
      ],
      "execution_count": 180,
      "outputs": [
        {
          "output_type": "display_data",
          "data": {
            "image/png": "[encoded data removed]",
            "text/plain": [
              "<Figure size 432x288 with 2 Axes>"
            ]
          },
          "metadata": {}
        }
      ]
    },
    {
      "cell_type": "markdown",
      "metadata": {
        "id": "_629b0k_tbB8"
      },
      "source": [
        "I believe with more data it would be possible to make a more accurate model. As it stand I feel this model is effective in helping to prevent false positives. It does have a high amount of false negatives which could use a bit of refining, but in this case a false negative does not cost the company as much as a false positive would."
      ]
    }
  ]
}
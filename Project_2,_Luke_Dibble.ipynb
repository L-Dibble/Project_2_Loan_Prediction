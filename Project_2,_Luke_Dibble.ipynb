{
  "nbformat": 4,
  "nbformat_minor": 0,
  "metadata": {
    "colab": {
      "name": "Project 2, Luke Dibble.ipynb",
      "provenance": []
    },
    "kernelspec": {
      "name": "python3",
      "display_name": "Python 3"
    },
    "language_info": {
      "name": "python"
    }
  },
  "cells": [
    {
      "cell_type": "markdown",
      "metadata": {
        "id": "9h0sk01xCZJI"
      },
      "source": [
        "After a lot of research and letting ideas go, I settled on the Loan Prediction Problem\n",
        "\n",
        "https://www.kaggle.com/altruistdelhite04/loan-prediction-problem-dataset\n",
        "\n",
        "My first choice was to attempt to predict the next big video game trend on youtube for content creators, but I was unable to find a dataset that I could use. If I could find this data, I would prefer to attempt that challenge (I couldn't figure out how to use the data from the Google YouTube 8M, and it looks like it's 31 GBs)\n",
        "\n",
        "https://research.google.com/youtube8m/"
      ]
    }
  ]
}
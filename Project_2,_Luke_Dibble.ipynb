{
  "nbformat": 4,
  "nbformat_minor": 0,
  "metadata": {
    "colab": {
      "name": "Project 2, Luke Dibble.ipynb",
      "provenance": [],
      "collapsed_sections": []
    },
    "kernelspec": {
      "name": "python3",
      "display_name": "Python 3"
    },
    "language_info": {
      "name": "python"
    }
  },
  "cells": [
    {
      "cell_type": "markdown",
      "metadata": {
        "id": "9h0sk01xCZJI"
      },
      "source": [
        "After a lot of research and letting ideas go, I settled on the Loan Prediction Problem\n",
        "\n",
        "https://www.kaggle.com/altruistdelhite04/loan-prediction-problem-dataset\n",
        "\n",
        "My first choice was to attempt to predict the next big video game trend on youtube for content creators, but I was unable to find a dataset that I could use. If I could find this data, I would prefer to attempt that challenge (I couldn't figure out how to use the data from the Google YouTube 8M, and it looks like it's 31 GBs)\n",
        "\n",
        "https://research.google.com/youtube8m/"
      ]
    },
    {
      "cell_type": "markdown",
      "metadata": {
        "id": "ZTx0z5Xdj9sX"
      },
      "source": [
        "Purpose of Project\n",
        "---\n",
        "\n",
        "Using provided data, create a Predictive Model to determine loan approval or denial."
      ]
    },
    {
      "cell_type": "markdown",
      "metadata": {
        "id": "_x2eb9-AkVyz"
      },
      "source": [
        "Step 1:\n",
        "\n",
        "Import and clean data."
      ]
    },
    {
      "cell_type": "code",
      "metadata": {
        "id": "tgm8LbZ36Fi0"
      },
      "source": [
        "#Mount Drive"
      ],
      "execution_count": 526,
      "outputs": []
    },
    {
      "cell_type": "code",
      "metadata": {
        "colab": {
          "base_uri": "https://localhost:8080/"
        },
        "id": "8_hFiBky4XiI",
        "outputId": "64a3ec35-0da4-46c8-9b3d-9ec2a22a31bb"
      },
      "source": [
        "from google.colab import drive\n",
        "drive.mount('/content/drive')"
      ],
      "execution_count": 527,
      "outputs": [
        {
          "output_type": "stream",
          "name": "stdout",
          "text": [
            "Drive already mounted at /content/drive; to attempt to forcibly remount, call drive.mount(\"/content/drive\", force_remount=True).\n"
          ]
        }
      ]
    },
    {
      "cell_type": "code",
      "metadata": {
        "id": "Nal9nkpp6HsW"
      },
      "source": [
        "#Import cleaning and exploratory mods\n",
        "#Read in data"
      ],
      "execution_count": 528,
      "outputs": []
    },
    {
      "cell_type": "code",
      "metadata": {
        "colab": {
          "base_uri": "https://localhost:8080/"
        },
        "id": "FSjFxPzq4sGH",
        "outputId": "c74cbe11-941e-4a51-d13c-f03c1e59d4c6"
      },
      "source": [
        "import pandas as pd\n",
        "import numpy as np\n",
        "import matplotlib.pyplot as plt\n",
        "import seaborn as sns\n",
        "\n",
        "ltest_df = pd.read_csv('/content/loan_test.csv', index_col='Loan_ID')\n",
        "ltrain_df = pd.read_csv('/content/loan_train.csv', index_col='Loan_ID')\n",
        "\n",
        "print(ltrain_df.head())\n",
        "print(ltest_df.head())"
      ],
      "execution_count": 529,
      "outputs": [
        {
          "output_type": "stream",
          "name": "stdout",
          "text": [
            "         Gender Married Dependents  ... Credit_History Property_Area  Loan_Status\n",
            "Loan_ID                             ...                                          \n",
            "LP001002   Male      No          0  ...            1.0         Urban            Y\n",
            "LP001003   Male     Yes          1  ...            1.0         Rural            N\n",
            "LP001005   Male     Yes          0  ...            1.0         Urban            Y\n",
            "LP001006   Male     Yes          0  ...            1.0         Urban            Y\n",
            "LP001008   Male      No          0  ...            1.0         Urban            Y\n",
            "\n",
            "[5 rows x 12 columns]\n",
            "         Gender Married  ... Credit_History Property_Area\n",
            "Loan_ID                  ...                             \n",
            "LP001015   Male     Yes  ...            1.0         Urban\n",
            "LP001022   Male     Yes  ...            1.0         Urban\n",
            "LP001031   Male     Yes  ...            1.0         Urban\n",
            "LP001035   Male     Yes  ...            NaN         Urban\n",
            "LP001051   Male      No  ...            1.0         Urban\n",
            "\n",
            "[5 rows x 11 columns]\n"
          ]
        }
      ]
    },
    {
      "cell_type": "code",
      "metadata": {
        "id": "7E7NpvwU6Qo8"
      },
      "source": [
        "#Check data for dtype and nulls in loantrain_df"
      ],
      "execution_count": 530,
      "outputs": []
    },
    {
      "cell_type": "code",
      "metadata": {
        "colab": {
          "base_uri": "https://localhost:8080/"
        },
        "id": "xxwWyGT05aCz",
        "outputId": "f850ca18-36db-426c-ccf8-ddb8ab3418a5"
      },
      "source": [
        "ltrain_df.info()"
      ],
      "execution_count": 531,
      "outputs": [
        {
          "output_type": "stream",
          "name": "stdout",
          "text": [
            "<class 'pandas.core.frame.DataFrame'>\n",
            "Index: 614 entries, LP001002 to LP002990\n",
            "Data columns (total 12 columns):\n",
            " #   Column             Non-Null Count  Dtype  \n",
            "---  ------             --------------  -----  \n",
            " 0   Gender             601 non-null    object \n",
            " 1   Married            611 non-null    object \n",
            " 2   Dependents         599 non-null    object \n",
            " 3   Education          614 non-null    object \n",
            " 4   Self_Employed      582 non-null    object \n",
            " 5   ApplicantIncome    614 non-null    int64  \n",
            " 6   CoapplicantIncome  614 non-null    float64\n",
            " 7   LoanAmount         592 non-null    float64\n",
            " 8   Loan_Amount_Term   600 non-null    float64\n",
            " 9   Credit_History     564 non-null    float64\n",
            " 10  Property_Area      614 non-null    object \n",
            " 11  Loan_Status        614 non-null    object \n",
            "dtypes: float64(4), int64(1), object(7)\n",
            "memory usage: 62.4+ KB\n"
          ]
        }
      ]
    },
    {
      "cell_type": "code",
      "metadata": {
        "colab": {
          "base_uri": "https://localhost:8080/",
          "height": 297
        },
        "id": "zDfcsl7Mgpb8",
        "outputId": "c1256575-223b-4d05-b210-5d873a17d219"
      },
      "source": [
        "ltrain_df.describe()"
      ],
      "execution_count": 532,
      "outputs": [
        {
          "output_type": "execute_result",
          "data": {
            "text/html": [
              "<div>\n",
              "<style scoped>\n",
              "    .dataframe tbody tr th:only-of-type {\n",
              "        vertical-align: middle;\n",
              "    }\n",
              "\n",
              "    .dataframe tbody tr th {\n",
              "        vertical-align: top;\n",
              "    }\n",
              "\n",
              "    .dataframe thead th {\n",
              "        text-align: right;\n",
              "    }\n",
              "</style>\n",
              "<table border=\"1\" class=\"dataframe\">\n",
              "  <thead>\n",
              "    <tr style=\"text-align: right;\">\n",
              "      <th></th>\n",
              "      <th>ApplicantIncome</th>\n",
              "      <th>CoapplicantIncome</th>\n",
              "      <th>LoanAmount</th>\n",
              "      <th>Loan_Amount_Term</th>\n",
              "      <th>Credit_History</th>\n",
              "    </tr>\n",
              "  </thead>\n",
              "  <tbody>\n",
              "    <tr>\n",
              "      <th>count</th>\n",
              "      <td>614.000000</td>\n",
              "      <td>614.000000</td>\n",
              "      <td>592.000000</td>\n",
              "      <td>600.00000</td>\n",
              "      <td>564.000000</td>\n",
              "    </tr>\n",
              "    <tr>\n",
              "      <th>mean</th>\n",
              "      <td>5403.459283</td>\n",
              "      <td>1621.245798</td>\n",
              "      <td>146.412162</td>\n",
              "      <td>342.00000</td>\n",
              "      <td>0.842199</td>\n",
              "    </tr>\n",
              "    <tr>\n",
              "      <th>std</th>\n",
              "      <td>6109.041673</td>\n",
              "      <td>2926.248369</td>\n",
              "      <td>85.587325</td>\n",
              "      <td>65.12041</td>\n",
              "      <td>0.364878</td>\n",
              "    </tr>\n",
              "    <tr>\n",
              "      <th>min</th>\n",
              "      <td>150.000000</td>\n",
              "      <td>0.000000</td>\n",
              "      <td>9.000000</td>\n",
              "      <td>12.00000</td>\n",
              "      <td>0.000000</td>\n",
              "    </tr>\n",
              "    <tr>\n",
              "      <th>25%</th>\n",
              "      <td>2877.500000</td>\n",
              "      <td>0.000000</td>\n",
              "      <td>100.000000</td>\n",
              "      <td>360.00000</td>\n",
              "      <td>1.000000</td>\n",
              "    </tr>\n",
              "    <tr>\n",
              "      <th>50%</th>\n",
              "      <td>3812.500000</td>\n",
              "      <td>1188.500000</td>\n",
              "      <td>128.000000</td>\n",
              "      <td>360.00000</td>\n",
              "      <td>1.000000</td>\n",
              "    </tr>\n",
              "    <tr>\n",
              "      <th>75%</th>\n",
              "      <td>5795.000000</td>\n",
              "      <td>2297.250000</td>\n",
              "      <td>168.000000</td>\n",
              "      <td>360.00000</td>\n",
              "      <td>1.000000</td>\n",
              "    </tr>\n",
              "    <tr>\n",
              "      <th>max</th>\n",
              "      <td>81000.000000</td>\n",
              "      <td>41667.000000</td>\n",
              "      <td>700.000000</td>\n",
              "      <td>480.00000</td>\n",
              "      <td>1.000000</td>\n",
              "    </tr>\n",
              "  </tbody>\n",
              "</table>\n",
              "</div>"
            ],
            "text/plain": [
              "       ApplicantIncome  CoapplicantIncome  ...  Loan_Amount_Term  Credit_History\n",
              "count       614.000000         614.000000  ...         600.00000      564.000000\n",
              "mean       5403.459283        1621.245798  ...         342.00000        0.842199\n",
              "std        6109.041673        2926.248369  ...          65.12041        0.364878\n",
              "min         150.000000           0.000000  ...          12.00000        0.000000\n",
              "25%        2877.500000           0.000000  ...         360.00000        1.000000\n",
              "50%        3812.500000        1188.500000  ...         360.00000        1.000000\n",
              "75%        5795.000000        2297.250000  ...         360.00000        1.000000\n",
              "max       81000.000000       41667.000000  ...         480.00000        1.000000\n",
              "\n",
              "[8 rows x 5 columns]"
            ]
          },
          "metadata": {},
          "execution_count": 532
        }
      ]
    },
    {
      "cell_type": "code",
      "metadata": {
        "colab": {
          "base_uri": "https://localhost:8080/",
          "height": 346
        },
        "id": "gD61ttSvr5c0",
        "outputId": "f13c9dc3-158d-435c-c314-5adbfd8ed0e4"
      },
      "source": [
        "ltrain_df.boxplot(column = ['ApplicantIncome'], by='Loan_Status', notch = True, patch_artist = True)\n",
        "plt.suptitle('')\n",
        "plt.xticks(rotation = 45);"
      ],
      "execution_count": 533,
      "outputs": [
        {
          "output_type": "stream",
          "name": "stderr",
          "text": [
            "/usr/local/lib/python3.7/dist-packages/numpy/core/_asarray.py:83: VisibleDeprecationWarning: Creating an ndarray from ragged nested sequences (which is a list-or-tuple of lists-or-tuples-or ndarrays with different lengths or shapes) is deprecated. If you meant to do this, you must specify 'dtype=object' when creating the ndarray\n",
            "  return array(a, dtype, copy=False, order=order)\n"
          ]
        },
        {
          "output_type": "display_data",
          "data": {
            "image/png": "[encoded data removed]",
            "text/plain": [
              "<Figure size 432x288 with 1 Axes>"
            ]
          },
          "metadata": {}
        }
      ]
    },
    {
      "cell_type": "markdown",
      "metadata": {
        "id": "EAC5Q9TIsODw"
      },
      "source": [
        "Applicant Income outliers over 30k to be dropped."
      ]
    },
    {
      "cell_type": "code",
      "metadata": {
        "id": "Rq0buy6xsjNJ"
      },
      "source": [
        "ltrain_df = ltrain_df[ltrain_df.ApplicantIncome <= 30000]"
      ],
      "execution_count": 534,
      "outputs": []
    },
    {
      "cell_type": "code",
      "metadata": {
        "colab": {
          "base_uri": "https://localhost:8080/",
          "height": 346
        },
        "id": "madpiSIZtFxf",
        "outputId": "42ae6c36-ea1c-415e-bc3c-c4dde3f55da1"
      },
      "source": [
        "ltrain_df.boxplot(column = ['ApplicantIncome'], by='Loan_Status', notch = True, patch_artist = True)\n",
        "plt.suptitle('')\n",
        "plt.xticks(rotation = 45);"
      ],
      "execution_count": 535,
      "outputs": [
        {
          "output_type": "stream",
          "name": "stderr",
          "text": [
            "/usr/local/lib/python3.7/dist-packages/numpy/core/_asarray.py:83: VisibleDeprecationWarning: Creating an ndarray from ragged nested sequences (which is a list-or-tuple of lists-or-tuples-or ndarrays with different lengths or shapes) is deprecated. If you meant to do this, you must specify 'dtype=object' when creating the ndarray\n",
            "  return array(a, dtype, copy=False, order=order)\n"
          ]
        },
        {
          "output_type": "display_data",
          "data": {
            "image/png": "[encoded data removed]",
            "text/plain": [
              "<Figure size 432x288 with 1 Axes>"
            ]
          },
          "metadata": {}
        }
      ]
    },
    {
      "cell_type": "code",
      "metadata": {
        "colab": {
          "base_uri": "https://localhost:8080/",
          "height": 346
        },
        "id": "mBjB0GfNub6m",
        "outputId": "8c1360f3-4e88-421f-9609-8d871207eb99"
      },
      "source": [
        "ltrain_df.boxplot(column = ['CoapplicantIncome'], by='Loan_Status', notch = True, patch_artist = True)\n",
        "plt.suptitle('')\n",
        "plt.xticks(rotation = 45);"
      ],
      "execution_count": 536,
      "outputs": [
        {
          "output_type": "stream",
          "name": "stderr",
          "text": [
            "/usr/local/lib/python3.7/dist-packages/numpy/core/_asarray.py:83: VisibleDeprecationWarning: Creating an ndarray from ragged nested sequences (which is a list-or-tuple of lists-or-tuples-or ndarrays with different lengths or shapes) is deprecated. If you meant to do this, you must specify 'dtype=object' when creating the ndarray\n",
            "  return array(a, dtype, copy=False, order=order)\n"
          ]
        },
        {
          "output_type": "display_data",
          "data": {
            "image/png": "[encoded data removed]",
            "text/plain": [
              "<Figure size 432x288 with 1 Axes>"
            ]
          },
          "metadata": {}
        }
      ]
    },
    {
      "cell_type": "code",
      "metadata": {
        "id": "1x-P2FwCukoO"
      },
      "source": [
        "ltrain_df = ltrain_df[ltrain_df.CoapplicantIncome < 10000]"
      ],
      "execution_count": 537,
      "outputs": []
    },
    {
      "cell_type": "markdown",
      "metadata": {
        "id": "EcURYEWluvYE"
      },
      "source": [
        "Dropping Coappliacte Income to below 20k"
      ]
    },
    {
      "cell_type": "code",
      "metadata": {
        "colab": {
          "base_uri": "https://localhost:8080/",
          "height": 346
        },
        "id": "DWin_QNtulye",
        "outputId": "cac914e9-ceed-4242-aa02-10453c8ce6f8"
      },
      "source": [
        "ltrain_df.boxplot(column = ['CoapplicantIncome'], by='Loan_Status', notch = True, patch_artist = True)\n",
        "plt.suptitle('')\n",
        "plt.xticks(rotation = 45);"
      ],
      "execution_count": 538,
      "outputs": [
        {
          "output_type": "stream",
          "name": "stderr",
          "text": [
            "/usr/local/lib/python3.7/dist-packages/numpy/core/_asarray.py:83: VisibleDeprecationWarning: Creating an ndarray from ragged nested sequences (which is a list-or-tuple of lists-or-tuples-or ndarrays with different lengths or shapes) is deprecated. If you meant to do this, you must specify 'dtype=object' when creating the ndarray\n",
            "  return array(a, dtype, copy=False, order=order)\n"
          ]
        },
        {
          "output_type": "display_data",
          "data": {
            "image/png": "[encoded data removed]",
            "text/plain": [
              "<Figure size 432x288 with 1 Axes>"
            ]
          },
          "metadata": {}
        }
      ]
    },
    {
      "cell_type": "code",
      "metadata": {
        "colab": {
          "base_uri": "https://localhost:8080/",
          "height": 346
        },
        "id": "kv7Bxl9ezhme",
        "outputId": "9993f207-24ca-4a93-f1ee-49be3ffc28ee"
      },
      "source": [
        "ltrain_df.boxplot(column = ['LoanAmount'], by='Loan_Status', notch = True, patch_artist = True)\n",
        "plt.suptitle('')\n",
        "plt.xticks(rotation = 45);"
      ],
      "execution_count": 539,
      "outputs": [
        {
          "output_type": "stream",
          "name": "stderr",
          "text": [
            "/usr/local/lib/python3.7/dist-packages/numpy/core/_asarray.py:83: VisibleDeprecationWarning: Creating an ndarray from ragged nested sequences (which is a list-or-tuple of lists-or-tuples-or ndarrays with different lengths or shapes) is deprecated. If you meant to do this, you must specify 'dtype=object' when creating the ndarray\n",
            "  return array(a, dtype, copy=False, order=order)\n"
          ]
        },
        {
          "output_type": "display_data",
          "data": {
            "image/png": "[encoded data removed]",
            "text/plain": [
              "<Figure size 432x288 with 1 Axes>"
            ]
          },
          "metadata": {}
        }
      ]
    },
    {
      "cell_type": "code",
      "metadata": {
        "id": "-5S2Mo-rzs-M"
      },
      "source": [
        "ltrain_df = ltrain_df[ltrain_df.LoanAmount > 100]"
      ],
      "execution_count": 540,
      "outputs": []
    },
    {
      "cell_type": "code",
      "metadata": {
        "colab": {
          "base_uri": "https://localhost:8080/",
          "height": 346
        },
        "id": "6Sc7Zq3czutq",
        "outputId": "b8d3fa35-98b8-4dd6-dd1d-15ba2e4d84b3"
      },
      "source": [
        "ltrain_df.boxplot(column = ['LoanAmount'], by='Loan_Status', notch = True, patch_artist = True)\n",
        "plt.suptitle('')\n",
        "plt.xticks(rotation = 45);"
      ],
      "execution_count": 541,
      "outputs": [
        {
          "output_type": "stream",
          "name": "stderr",
          "text": [
            "/usr/local/lib/python3.7/dist-packages/numpy/core/_asarray.py:83: VisibleDeprecationWarning: Creating an ndarray from ragged nested sequences (which is a list-or-tuple of lists-or-tuples-or ndarrays with different lengths or shapes) is deprecated. If you meant to do this, you must specify 'dtype=object' when creating the ndarray\n",
            "  return array(a, dtype, copy=False, order=order)\n"
          ]
        },
        {
          "output_type": "display_data",
          "data": {
            "image/png": "[encoded data removed]",
            "text/plain": [
              "<Figure size 432x288 with 1 Axes>"
            ]
          },
          "metadata": {}
        }
      ]
    },
    {
      "cell_type": "code",
      "metadata": {
        "colab": {
          "base_uri": "https://localhost:8080/"
        },
        "id": "fn3ELmIViQGj",
        "outputId": "d6d5f2b4-772d-49b0-d427-23ee9eab5195"
      },
      "source": [
        "ltrain_df.duplicated().any()"
      ],
      "execution_count": 542,
      "outputs": [
        {
          "output_type": "execute_result",
          "data": {
            "text/plain": [
              "False"
            ]
          },
          "metadata": {},
          "execution_count": 542
        }
      ]
    },
    {
      "cell_type": "code",
      "metadata": {
        "id": "lehdVrnjkWWR",
        "colab": {
          "base_uri": "https://localhost:8080/"
        },
        "outputId": "90f8908c-6767-4acc-d365-33385ee161aa"
      },
      "source": [
        "ltrain_df['Gender'].value_counts()"
      ],
      "execution_count": 543,
      "outputs": [
        {
          "output_type": "execute_result",
          "data": {
            "text/plain": [
              "Male      347\n",
              "Female     69\n",
              "Name: Gender, dtype: int64"
            ]
          },
          "metadata": {},
          "execution_count": 543
        }
      ]
    },
    {
      "cell_type": "code",
      "metadata": {
        "colab": {
          "base_uri": "https://localhost:8080/"
        },
        "id": "dKtbpYpKJO1H",
        "outputId": "48ac06ea-318c-4925-924d-06f325705f1f"
      },
      "source": [
        "#Replaced Nulls with majority value\n",
        "ltrain_df['Gender'].fillna(value = 'Male', inplace = True)\n",
        "ltrain_df['Gender'].value_counts()"
      ],
      "execution_count": 544,
      "outputs": [
        {
          "output_type": "execute_result",
          "data": {
            "text/plain": [
              "Male      357\n",
              "Female     69\n",
              "Name: Gender, dtype: int64"
            ]
          },
          "metadata": {},
          "execution_count": 544
        }
      ]
    },
    {
      "cell_type": "code",
      "metadata": {
        "colab": {
          "base_uri": "https://localhost:8080/"
        },
        "id": "QHO5PT2kG6ue",
        "outputId": "e9efa4fd-088a-4a58-8c4d-8e7ae73ddc0c"
      },
      "source": [
        "ltrain_df['Married'].value_counts()"
      ],
      "execution_count": 545,
      "outputs": [
        {
          "output_type": "execute_result",
          "data": {
            "text/plain": [
              "Yes    294\n",
              "No     130\n",
              "Name: Married, dtype: int64"
            ]
          },
          "metadata": {},
          "execution_count": 545
        }
      ]
    },
    {
      "cell_type": "code",
      "metadata": {
        "colab": {
          "base_uri": "https://localhost:8080/"
        },
        "id": "uH3zcQ1iPvs3",
        "outputId": "66d7642b-b93d-4cf4-9696-9a845e7b5766"
      },
      "source": [
        "#Replaced Nulls with No\n",
        "ltrain_df['Married'].fillna(value = 'No', inplace = True)\n",
        "ltrain_df['Married'].value_counts()"
      ],
      "execution_count": 546,
      "outputs": [
        {
          "output_type": "execute_result",
          "data": {
            "text/plain": [
              "Yes    294\n",
              "No     132\n",
              "Name: Married, dtype: int64"
            ]
          },
          "metadata": {},
          "execution_count": 546
        }
      ]
    },
    {
      "cell_type": "code",
      "metadata": {
        "colab": {
          "base_uri": "https://localhost:8080/"
        },
        "id": "c9-GpEtcHFIX",
        "outputId": "b027391e-f08b-4d35-ab53-d9f5f58d0df8"
      },
      "source": [
        "ltrain_df['Dependents'].value_counts()"
      ],
      "execution_count": 547,
      "outputs": [
        {
          "output_type": "execute_result",
          "data": {
            "text/plain": [
              "0     234\n",
              "2      78\n",
              "1      73\n",
              "3+     31\n",
              "Name: Dependents, dtype: int64"
            ]
          },
          "metadata": {},
          "execution_count": 547
        }
      ]
    },
    {
      "cell_type": "code",
      "metadata": {
        "colab": {
          "base_uri": "https://localhost:8080/"
        },
        "id": "dbPn0LtmP1YU",
        "outputId": "c8d244fe-3b1a-47a6-dfad-80a61b522488"
      },
      "source": [
        "#Replaced Nulls with 0\n",
        "ltrain_df['Dependents'].fillna(value = '0', inplace = True)\n",
        "ltrain_df['Dependents'].value_counts()"
      ],
      "execution_count": 548,
      "outputs": [
        {
          "output_type": "execute_result",
          "data": {
            "text/plain": [
              "0     244\n",
              "2      78\n",
              "1      73\n",
              "3+     31\n",
              "Name: Dependents, dtype: int64"
            ]
          },
          "metadata": {},
          "execution_count": 548
        }
      ]
    },
    {
      "cell_type": "code",
      "metadata": {
        "colab": {
          "base_uri": "https://localhost:8080/"
        },
        "id": "35QmJOlMIMJt",
        "outputId": "013d78fc-38fe-44aa-ebb6-2826f0c90d8f"
      },
      "source": [
        "ltrain_df['Education'].value_counts()"
      ],
      "execution_count": 549,
      "outputs": [
        {
          "output_type": "execute_result",
          "data": {
            "text/plain": [
              "Graduate        340\n",
              "Not Graduate     86\n",
              "Name: Education, dtype: int64"
            ]
          },
          "metadata": {},
          "execution_count": 549
        }
      ]
    },
    {
      "cell_type": "code",
      "metadata": {
        "colab": {
          "base_uri": "https://localhost:8080/"
        },
        "id": "C8vrV2mnIQ2P",
        "outputId": "51438980-6d6c-49f8-852c-563948070af2"
      },
      "source": [
        "ltrain_df['Self_Employed'].value_counts()"
      ],
      "execution_count": 550,
      "outputs": [
        {
          "output_type": "execute_result",
          "data": {
            "text/plain": [
              "No     343\n",
              "Yes     60\n",
              "Name: Self_Employed, dtype: int64"
            ]
          },
          "metadata": {},
          "execution_count": 550
        }
      ]
    },
    {
      "cell_type": "code",
      "metadata": {
        "colab": {
          "base_uri": "https://localhost:8080/"
        },
        "id": "g75D1_uYJRW-",
        "outputId": "2fc4836f-bc09-41e7-a3e3-f6bdb7633980"
      },
      "source": [
        "#Replaced Nulls with No\n",
        "ltrain_df['Self_Employed'].fillna(value = 'No', inplace = True)\n",
        "ltrain_df['Self_Employed'].value_counts()"
      ],
      "execution_count": 551,
      "outputs": [
        {
          "output_type": "execute_result",
          "data": {
            "text/plain": [
              "No     366\n",
              "Yes     60\n",
              "Name: Self_Employed, dtype: int64"
            ]
          },
          "metadata": {},
          "execution_count": 551
        }
      ]
    },
    {
      "cell_type": "code",
      "metadata": {
        "colab": {
          "base_uri": "https://localhost:8080/"
        },
        "id": "tIzwXV3UHRkk",
        "outputId": "2b24a868-fba4-4d60-ce70-bf6561f04de1"
      },
      "source": [
        "ltrain_df['Property_Area'].value_counts()"
      ],
      "execution_count": 552,
      "outputs": [
        {
          "output_type": "execute_result",
          "data": {
            "text/plain": [
              "Semiurban    161\n",
              "Rural        144\n",
              "Urban        121\n",
              "Name: Property_Area, dtype: int64"
            ]
          },
          "metadata": {},
          "execution_count": 552
        }
      ]
    },
    {
      "cell_type": "code",
      "metadata": {
        "colab": {
          "base_uri": "https://localhost:8080/"
        },
        "id": "I9_0ShQvI0wx",
        "outputId": "6d95d458-6c2c-4ace-dc47-881c89df82da"
      },
      "source": [
        "ltrain_df['Loan_Status'].value_counts()"
      ],
      "execution_count": 553,
      "outputs": [
        {
          "output_type": "execute_result",
          "data": {
            "text/plain": [
              "Y    298\n",
              "N    128\n",
              "Name: Loan_Status, dtype: int64"
            ]
          },
          "metadata": {},
          "execution_count": 553
        }
      ]
    },
    {
      "cell_type": "code",
      "metadata": {
        "colab": {
          "base_uri": "https://localhost:8080/"
        },
        "id": "o12VLgFTf3p-",
        "outputId": "6116bb29-17df-4940-abcb-47e94a158bfe"
      },
      "source": [
        "ltrain_df['Loan_Amount_Term'].value_counts()"
      ],
      "execution_count": 554,
      "outputs": [
        {
          "output_type": "execute_result",
          "data": {
            "text/plain": [
              "360.0    366\n",
              "180.0     27\n",
              "480.0     10\n",
              "300.0      6\n",
              "84.0       4\n",
              "60.0       2\n",
              "240.0      1\n",
              "12.0       1\n",
              "36.0       1\n",
              "Name: Loan_Amount_Term, dtype: int64"
            ]
          },
          "metadata": {},
          "execution_count": 554
        }
      ]
    },
    {
      "cell_type": "code",
      "metadata": {
        "colab": {
          "base_uri": "https://localhost:8080/"
        },
        "id": "POryjAz7gk-M",
        "outputId": "37c3b942-d6cc-4bf5-fefa-c1aba05cac5a"
      },
      "source": [
        "#Replaced Nulls with majority value\n",
        "ltrain_df['Loan_Amount_Term'].fillna(value = 360, inplace = True)\n",
        "ltrain_df['Loan_Amount_Term'].value_counts()"
      ],
      "execution_count": 555,
      "outputs": [
        {
          "output_type": "execute_result",
          "data": {
            "text/plain": [
              "360.0    374\n",
              "180.0     27\n",
              "480.0     10\n",
              "300.0      6\n",
              "84.0       4\n",
              "60.0       2\n",
              "240.0      1\n",
              "12.0       1\n",
              "36.0       1\n",
              "Name: Loan_Amount_Term, dtype: int64"
            ]
          },
          "metadata": {},
          "execution_count": 555
        }
      ]
    },
    {
      "cell_type": "code",
      "metadata": {
        "colab": {
          "base_uri": "https://localhost:8080/"
        },
        "id": "m7OaQ9tcf36G",
        "outputId": "e794de25-e4c4-49ee-8c5c-089bb8a8e0ab"
      },
      "source": [
        "ltrain_df['Credit_History'].value_counts()"
      ],
      "execution_count": 556,
      "outputs": [
        {
          "output_type": "execute_result",
          "data": {
            "text/plain": [
              "1.0    328\n",
              "0.0     64\n",
              "Name: Credit_History, dtype: int64"
            ]
          },
          "metadata": {},
          "execution_count": 556
        }
      ]
    },
    {
      "cell_type": "code",
      "metadata": {
        "colab": {
          "base_uri": "https://localhost:8080/"
        },
        "id": "0A0kSJ8Kglam",
        "outputId": "30c4ee88-4dbb-4b8c-c43e-f1784f15e4f1"
      },
      "source": [
        "#Replaced Nulls with 0\n",
        "ltrain_df['Credit_History'].fillna(value = 0, inplace = True)\n",
        "ltrain_df['Credit_History'].value_counts()"
      ],
      "execution_count": 557,
      "outputs": [
        {
          "output_type": "execute_result",
          "data": {
            "text/plain": [
              "1.0    328\n",
              "0.0     98\n",
              "Name: Credit_History, dtype: int64"
            ]
          },
          "metadata": {},
          "execution_count": 557
        }
      ]
    },
    {
      "cell_type": "code",
      "metadata": {
        "colab": {
          "base_uri": "https://localhost:8080/"
        },
        "id": "LzTD0Hj4hIvD",
        "outputId": "c79353c8-0577-4ab4-9259-b4b30e6c8d9b"
      },
      "source": [
        "ltrain_df.isnull().sum()"
      ],
      "execution_count": 558,
      "outputs": [
        {
          "output_type": "execute_result",
          "data": {
            "text/plain": [
              "Gender               0\n",
              "Married              0\n",
              "Dependents           0\n",
              "Education            0\n",
              "Self_Employed        0\n",
              "ApplicantIncome      0\n",
              "CoapplicantIncome    0\n",
              "LoanAmount           0\n",
              "Loan_Amount_Term     0\n",
              "Credit_History       0\n",
              "Property_Area        0\n",
              "Loan_Status          0\n",
              "dtype: int64"
            ]
          },
          "metadata": {},
          "execution_count": 558
        }
      ]
    },
    {
      "cell_type": "markdown",
      "metadata": {
        "id": "8pbZDvGLNFPj"
      },
      "source": [
        "Begin Test dataset cleaning"
      ]
    },
    {
      "cell_type": "code",
      "metadata": {
        "colab": {
          "base_uri": "https://localhost:8080/"
        },
        "id": "Qoz8GupcNQBN",
        "outputId": "98ad0442-aa95-421f-860d-b11d12cb089c"
      },
      "source": [
        "ltest_df.info()"
      ],
      "execution_count": 559,
      "outputs": [
        {
          "output_type": "stream",
          "name": "stdout",
          "text": [
            "<class 'pandas.core.frame.DataFrame'>\n",
            "Index: 367 entries, LP001015 to LP002989\n",
            "Data columns (total 11 columns):\n",
            " #   Column             Non-Null Count  Dtype  \n",
            "---  ------             --------------  -----  \n",
            " 0   Gender             356 non-null    object \n",
            " 1   Married            367 non-null    object \n",
            " 2   Dependents         357 non-null    object \n",
            " 3   Education          367 non-null    object \n",
            " 4   Self_Employed      344 non-null    object \n",
            " 5   ApplicantIncome    367 non-null    int64  \n",
            " 6   CoapplicantIncome  367 non-null    int64  \n",
            " 7   LoanAmount         362 non-null    float64\n",
            " 8   Loan_Amount_Term   361 non-null    float64\n",
            " 9   Credit_History     338 non-null    float64\n",
            " 10  Property_Area      367 non-null    object \n",
            "dtypes: float64(3), int64(2), object(6)\n",
            "memory usage: 34.4+ KB\n"
          ]
        }
      ]
    },
    {
      "cell_type": "code",
      "metadata": {
        "colab": {
          "base_uri": "https://localhost:8080/",
          "height": 297
        },
        "id": "3wsS0QFbNVEV",
        "outputId": "76262fe5-599b-49ec-b433-4e9bbfb3d91e"
      },
      "source": [
        "ltest_df.describe()"
      ],
      "execution_count": 560,
      "outputs": [
        {
          "output_type": "execute_result",
          "data": {
            "text/html": [
              "<div>\n",
              "<style scoped>\n",
              "    .dataframe tbody tr th:only-of-type {\n",
              "        vertical-align: middle;\n",
              "    }\n",
              "\n",
              "    .dataframe tbody tr th {\n",
              "        vertical-align: top;\n",
              "    }\n",
              "\n",
              "    .dataframe thead th {\n",
              "        text-align: right;\n",
              "    }\n",
              "</style>\n",
              "<table border=\"1\" class=\"dataframe\">\n",
              "  <thead>\n",
              "    <tr style=\"text-align: right;\">\n",
              "      <th></th>\n",
              "      <th>ApplicantIncome</th>\n",
              "      <th>CoapplicantIncome</th>\n",
              "      <th>LoanAmount</th>\n",
              "      <th>Loan_Amount_Term</th>\n",
              "      <th>Credit_History</th>\n",
              "    </tr>\n",
              "  </thead>\n",
              "  <tbody>\n",
              "    <tr>\n",
              "      <th>count</th>\n",
              "      <td>367.000000</td>\n",
              "      <td>367.000000</td>\n",
              "      <td>362.000000</td>\n",
              "      <td>361.000000</td>\n",
              "      <td>338.000000</td>\n",
              "    </tr>\n",
              "    <tr>\n",
              "      <th>mean</th>\n",
              "      <td>4805.599455</td>\n",
              "      <td>1569.577657</td>\n",
              "      <td>136.132597</td>\n",
              "      <td>342.537396</td>\n",
              "      <td>0.825444</td>\n",
              "    </tr>\n",
              "    <tr>\n",
              "      <th>std</th>\n",
              "      <td>4910.685399</td>\n",
              "      <td>2334.232099</td>\n",
              "      <td>61.366652</td>\n",
              "      <td>65.156643</td>\n",
              "      <td>0.380150</td>\n",
              "    </tr>\n",
              "    <tr>\n",
              "      <th>min</th>\n",
              "      <td>0.000000</td>\n",
              "      <td>0.000000</td>\n",
              "      <td>28.000000</td>\n",
              "      <td>6.000000</td>\n",
              "      <td>0.000000</td>\n",
              "    </tr>\n",
              "    <tr>\n",
              "      <th>25%</th>\n",
              "      <td>2864.000000</td>\n",
              "      <td>0.000000</td>\n",
              "      <td>100.250000</td>\n",
              "      <td>360.000000</td>\n",
              "      <td>1.000000</td>\n",
              "    </tr>\n",
              "    <tr>\n",
              "      <th>50%</th>\n",
              "      <td>3786.000000</td>\n",
              "      <td>1025.000000</td>\n",
              "      <td>125.000000</td>\n",
              "      <td>360.000000</td>\n",
              "      <td>1.000000</td>\n",
              "    </tr>\n",
              "    <tr>\n",
              "      <th>75%</th>\n",
              "      <td>5060.000000</td>\n",
              "      <td>2430.500000</td>\n",
              "      <td>158.000000</td>\n",
              "      <td>360.000000</td>\n",
              "      <td>1.000000</td>\n",
              "    </tr>\n",
              "    <tr>\n",
              "      <th>max</th>\n",
              "      <td>72529.000000</td>\n",
              "      <td>24000.000000</td>\n",
              "      <td>550.000000</td>\n",
              "      <td>480.000000</td>\n",
              "      <td>1.000000</td>\n",
              "    </tr>\n",
              "  </tbody>\n",
              "</table>\n",
              "</div>"
            ],
            "text/plain": [
              "       ApplicantIncome  CoapplicantIncome  ...  Loan_Amount_Term  Credit_History\n",
              "count       367.000000         367.000000  ...        361.000000      338.000000\n",
              "mean       4805.599455        1569.577657  ...        342.537396        0.825444\n",
              "std        4910.685399        2334.232099  ...         65.156643        0.380150\n",
              "min           0.000000           0.000000  ...          6.000000        0.000000\n",
              "25%        2864.000000           0.000000  ...        360.000000        1.000000\n",
              "50%        3786.000000        1025.000000  ...        360.000000        1.000000\n",
              "75%        5060.000000        2430.500000  ...        360.000000        1.000000\n",
              "max       72529.000000       24000.000000  ...        480.000000        1.000000\n",
              "\n",
              "[8 rows x 5 columns]"
            ]
          },
          "metadata": {},
          "execution_count": 560
        }
      ]
    },
    {
      "cell_type": "code",
      "metadata": {
        "colab": {
          "base_uri": "https://localhost:8080/",
          "height": 364
        },
        "id": "t-PwHHWutXLP",
        "outputId": "b800092b-9725-448e-e488-b0cecac6cbdf"
      },
      "source": [
        "ltest_df.boxplot(column = ['ApplicantIncome'], by='Gender', notch = True, patch_artist = True)\n",
        "plt.suptitle('')\n",
        "plt.xticks(rotation = 45);"
      ],
      "execution_count": 561,
      "outputs": [
        {
          "output_type": "stream",
          "name": "stderr",
          "text": [
            "/usr/local/lib/python3.7/dist-packages/numpy/core/_asarray.py:83: VisibleDeprecationWarning: Creating an ndarray from ragged nested sequences (which is a list-or-tuple of lists-or-tuples-or ndarrays with different lengths or shapes) is deprecated. If you meant to do this, you must specify 'dtype=object' when creating the ndarray\n",
            "  return array(a, dtype, copy=False, order=order)\n"
          ]
        },
        {
          "output_type": "display_data",
          "data": {
            "image/png": "[encoded data removed]",
            "text/plain": [
              "<Figure size 432x288 with 1 Axes>"
            ]
          },
          "metadata": {}
        }
      ]
    },
    {
      "cell_type": "markdown",
      "metadata": {
        "id": "2quhvZhBtscW"
      },
      "source": [
        "Applicant Income outliers over 30k to be dropped, sames as ltrain_df.\n",
        "\n",
        "Also Obvious Income disparity between genders"
      ]
    },
    {
      "cell_type": "code",
      "metadata": {
        "id": "5R0CeKR_tXcv"
      },
      "source": [
        "ltest_df = ltest_df[ltest_df.ApplicantIncome <= 30000]"
      ],
      "execution_count": 562,
      "outputs": []
    },
    {
      "cell_type": "code",
      "metadata": {
        "colab": {
          "base_uri": "https://localhost:8080/",
          "height": 364
        },
        "id": "hjlwOIXNtXs8",
        "outputId": "3bffd0be-b54a-41f9-cdc7-9d1fb37a40e6"
      },
      "source": [
        "ltest_df.boxplot(column = ['ApplicantIncome'], by='Gender', notch = True, patch_artist = True)\n",
        "plt.suptitle('')\n",
        "plt.xticks(rotation = 45);"
      ],
      "execution_count": 563,
      "outputs": [
        {
          "output_type": "stream",
          "name": "stderr",
          "text": [
            "/usr/local/lib/python3.7/dist-packages/numpy/core/_asarray.py:83: VisibleDeprecationWarning: Creating an ndarray from ragged nested sequences (which is a list-or-tuple of lists-or-tuples-or ndarrays with different lengths or shapes) is deprecated. If you meant to do this, you must specify 'dtype=object' when creating the ndarray\n",
            "  return array(a, dtype, copy=False, order=order)\n"
          ]
        },
        {
          "output_type": "display_data",
          "data": {
            "image/png": "[encoded data removed]",
            "text/plain": [
              "<Figure size 432x288 with 1 Axes>"
            ]
          },
          "metadata": {}
        }
      ]
    },
    {
      "cell_type": "code",
      "metadata": {
        "colab": {
          "base_uri": "https://localhost:8080/",
          "height": 364
        },
        "id": "tZa8tV72u3L2",
        "outputId": "9291c76a-2f6a-4aac-e18f-8bf7c702134f"
      },
      "source": [
        "ltest_df.boxplot(column = ['CoapplicantIncome'], by='Gender', notch = True, patch_artist = True)\n",
        "plt.suptitle('')\n",
        "plt.xticks(rotation = 45);"
      ],
      "execution_count": 564,
      "outputs": [
        {
          "output_type": "stream",
          "name": "stderr",
          "text": [
            "/usr/local/lib/python3.7/dist-packages/numpy/core/_asarray.py:83: VisibleDeprecationWarning: Creating an ndarray from ragged nested sequences (which is a list-or-tuple of lists-or-tuples-or ndarrays with different lengths or shapes) is deprecated. If you meant to do this, you must specify 'dtype=object' when creating the ndarray\n",
            "  return array(a, dtype, copy=False, order=order)\n"
          ]
        },
        {
          "output_type": "display_data",
          "data": {
            "image/png": "[encoded data removed]",
            "text/plain": [
              "<Figure size 432x288 with 1 Axes>"
            ]
          },
          "metadata": {}
        }
      ]
    },
    {
      "cell_type": "code",
      "metadata": {
        "id": "JQTd5lBRu3dF"
      },
      "source": [
        "ltest_df = ltest_df[ltest_df.CoapplicantIncome < 10000]"
      ],
      "execution_count": 565,
      "outputs": []
    },
    {
      "cell_type": "code",
      "metadata": {
        "colab": {
          "base_uri": "https://localhost:8080/",
          "height": 364
        },
        "id": "TYIp6BVbu3vd",
        "outputId": "ddb54320-77e7-47cf-91df-5c96d5b74e2c"
      },
      "source": [
        "ltest_df.boxplot(column = ['CoapplicantIncome'], by='Gender', notch = True, patch_artist = True)\n",
        "plt.suptitle('')\n",
        "plt.xticks(rotation = 45);"
      ],
      "execution_count": 566,
      "outputs": [
        {
          "output_type": "stream",
          "name": "stderr",
          "text": [
            "/usr/local/lib/python3.7/dist-packages/numpy/core/_asarray.py:83: VisibleDeprecationWarning: Creating an ndarray from ragged nested sequences (which is a list-or-tuple of lists-or-tuples-or ndarrays with different lengths or shapes) is deprecated. If you meant to do this, you must specify 'dtype=object' when creating the ndarray\n",
            "  return array(a, dtype, copy=False, order=order)\n"
          ]
        },
        {
          "output_type": "display_data",
          "data": {
            "image/png": "[encoded data removed]",
            "text/plain": [
              "<Figure size 432x288 with 1 Axes>"
            ]
          },
          "metadata": {}
        }
      ]
    },
    {
      "cell_type": "code",
      "metadata": {
        "colab": {
          "base_uri": "https://localhost:8080/",
          "height": 364
        },
        "id": "t9rbzo2e0Ih6",
        "outputId": "77180116-9ab8-4a4a-e909-77d2fe3014a0"
      },
      "source": [
        "ltest_df.boxplot(column = ['LoanAmount'], by='Gender', notch = True, patch_artist = True)\n",
        "plt.suptitle('')\n",
        "plt.xticks(rotation = 45);"
      ],
      "execution_count": 567,
      "outputs": [
        {
          "output_type": "stream",
          "name": "stderr",
          "text": [
            "/usr/local/lib/python3.7/dist-packages/numpy/core/_asarray.py:83: VisibleDeprecationWarning: Creating an ndarray from ragged nested sequences (which is a list-or-tuple of lists-or-tuples-or ndarrays with different lengths or shapes) is deprecated. If you meant to do this, you must specify 'dtype=object' when creating the ndarray\n",
            "  return array(a, dtype, copy=False, order=order)\n"
          ]
        },
        {
          "output_type": "display_data",
          "data": {
            "image/png": "[encoded data removed]",
            "text/plain": [
              "<Figure size 432x288 with 1 Axes>"
            ]
          },
          "metadata": {}
        }
      ]
    },
    {
      "cell_type": "code",
      "metadata": {
        "id": "NLT7G1fe0OFD"
      },
      "source": [
        "ltest_df = ltest_df[ltest_df.LoanAmount > 100]"
      ],
      "execution_count": 568,
      "outputs": []
    },
    {
      "cell_type": "code",
      "metadata": {
        "colab": {
          "base_uri": "https://localhost:8080/",
          "height": 364
        },
        "id": "Tg1tfGxo0NFy",
        "outputId": "fd0a75d3-3625-48d5-d9ab-ea3747a2b002"
      },
      "source": [
        "ltest_df.boxplot(column = ['LoanAmount'], by='Gender', notch = True, patch_artist = True)\n",
        "plt.suptitle('')\n",
        "plt.xticks(rotation = 45);"
      ],
      "execution_count": 569,
      "outputs": [
        {
          "output_type": "stream",
          "name": "stderr",
          "text": [
            "/usr/local/lib/python3.7/dist-packages/numpy/core/_asarray.py:83: VisibleDeprecationWarning: Creating an ndarray from ragged nested sequences (which is a list-or-tuple of lists-or-tuples-or ndarrays with different lengths or shapes) is deprecated. If you meant to do this, you must specify 'dtype=object' when creating the ndarray\n",
            "  return array(a, dtype, copy=False, order=order)\n"
          ]
        },
        {
          "output_type": "display_data",
          "data": {
            "image/png": "[encoded data removed]",
            "text/plain": [
              "<Figure size 432x288 with 1 Axes>"
            ]
          },
          "metadata": {}
        }
      ]
    },
    {
      "cell_type": "code",
      "metadata": {
        "colab": {
          "base_uri": "https://localhost:8080/"
        },
        "id": "4pp-VKvdNZEr",
        "outputId": "495aee71-d94b-4a8f-c9e7-fe87776c9b2c"
      },
      "source": [
        "ltest_df.duplicated().any()"
      ],
      "execution_count": 570,
      "outputs": [
        {
          "output_type": "execute_result",
          "data": {
            "text/plain": [
              "True"
            ]
          },
          "metadata": {},
          "execution_count": 570
        }
      ]
    },
    {
      "cell_type": "code",
      "metadata": {
        "colab": {
          "base_uri": "https://localhost:8080/"
        },
        "id": "wqV22qvGN8b3",
        "outputId": "848603cc-d953-4875-99ba-42c4dd026065"
      },
      "source": [
        "ltest_df.duplicated().sum()"
      ],
      "execution_count": 571,
      "outputs": [
        {
          "output_type": "execute_result",
          "data": {
            "text/plain": [
              "1"
            ]
          },
          "metadata": {},
          "execution_count": 571
        }
      ]
    },
    {
      "cell_type": "code",
      "metadata": {
        "colab": {
          "base_uri": "https://localhost:8080/"
        },
        "id": "HYiodvn8NcCl",
        "outputId": "7f2ef35c-bf0c-4d2c-958d-fb934fef222d"
      },
      "source": [
        "ltest_df.drop_duplicates(inplace = True)\n",
        "ltest_df.duplicated().any()"
      ],
      "execution_count": 572,
      "outputs": [
        {
          "output_type": "execute_result",
          "data": {
            "text/plain": [
              "False"
            ]
          },
          "metadata": {},
          "execution_count": 572
        }
      ]
    },
    {
      "cell_type": "code",
      "metadata": {
        "colab": {
          "base_uri": "https://localhost:8080/"
        },
        "id": "3Zsva-SeN0qX",
        "outputId": "8261cfcb-bca8-4956-9196-383d17c60182"
      },
      "source": [
        "ltest_df.shape"
      ],
      "execution_count": 573,
      "outputs": [
        {
          "output_type": "execute_result",
          "data": {
            "text/plain": [
              "(263, 11)"
            ]
          },
          "metadata": {},
          "execution_count": 573
        }
      ]
    },
    {
      "cell_type": "code",
      "metadata": {
        "colab": {
          "base_uri": "https://localhost:8080/"
        },
        "id": "xYvj1XtSNC5j",
        "outputId": "cb9c20ec-7ca9-43b1-97dc-34ebe60c1bc4"
      },
      "source": [
        "ltest_df['Gender'].value_counts()"
      ],
      "execution_count": 574,
      "outputs": [
        {
          "output_type": "execute_result",
          "data": {
            "text/plain": [
              "Male      209\n",
              "Female     45\n",
              "Name: Gender, dtype: int64"
            ]
          },
          "metadata": {},
          "execution_count": 574
        }
      ]
    },
    {
      "cell_type": "code",
      "metadata": {
        "colab": {
          "base_uri": "https://localhost:8080/"
        },
        "id": "ukH_uVd9fPSv",
        "outputId": "daedd02f-4cd9-4539-8e13-250a876807a6"
      },
      "source": [
        "#Replaced Nulls with majority value\n",
        "ltest_df['Gender'].fillna(value = 'Male', inplace = True)\n",
        "ltest_df['Gender'].value_counts()"
      ],
      "execution_count": 575,
      "outputs": [
        {
          "output_type": "execute_result",
          "data": {
            "text/plain": [
              "Male      218\n",
              "Female     45\n",
              "Name: Gender, dtype: int64"
            ]
          },
          "metadata": {},
          "execution_count": 575
        }
      ]
    },
    {
      "cell_type": "code",
      "metadata": {
        "colab": {
          "base_uri": "https://localhost:8080/"
        },
        "id": "Rp7-hF5eM6Uc",
        "outputId": "9a0438d6-0545-41e0-87d7-78baff11f084"
      },
      "source": [
        "ltest_df['Married'].value_counts()"
      ],
      "execution_count": 576,
      "outputs": [
        {
          "output_type": "execute_result",
          "data": {
            "text/plain": [
              "Yes    178\n",
              "No      85\n",
              "Name: Married, dtype: int64"
            ]
          },
          "metadata": {},
          "execution_count": 576
        }
      ]
    },
    {
      "cell_type": "code",
      "metadata": {
        "colab": {
          "base_uri": "https://localhost:8080/"
        },
        "id": "k_DbjGsfM2GT",
        "outputId": "4e415c29-43bd-4d90-9d8c-9778d004dfa9"
      },
      "source": [
        "ltest_df['Dependents'].value_counts()"
      ],
      "execution_count": 577,
      "outputs": [
        {
          "output_type": "execute_result",
          "data": {
            "text/plain": [
              "0     144\n",
              "2      47\n",
              "1      38\n",
              "3+     29\n",
              "Name: Dependents, dtype: int64"
            ]
          },
          "metadata": {},
          "execution_count": 577
        }
      ]
    },
    {
      "cell_type": "code",
      "metadata": {
        "colab": {
          "base_uri": "https://localhost:8080/"
        },
        "id": "iJq9ySFafTHI",
        "outputId": "ae8e387c-c3da-459c-fc7d-ee417f8cf7bc"
      },
      "source": [
        "#Replaced Nulls with 0\n",
        "ltest_df['Dependents'].fillna(value = '0', inplace = True)\n",
        "ltest_df['Dependents'].value_counts()"
      ],
      "execution_count": 578,
      "outputs": [
        {
          "output_type": "execute_result",
          "data": {
            "text/plain": [
              "0     149\n",
              "2      47\n",
              "1      38\n",
              "3+     29\n",
              "Name: Dependents, dtype: int64"
            ]
          },
          "metadata": {},
          "execution_count": 578
        }
      ]
    },
    {
      "cell_type": "code",
      "metadata": {
        "colab": {
          "base_uri": "https://localhost:8080/"
        },
        "id": "iAaF0G7IMy8A",
        "outputId": "2e07f256-6757-433d-c0f8-0372b8431769"
      },
      "source": [
        "ltest_df['Education'].value_counts()"
      ],
      "execution_count": 579,
      "outputs": [
        {
          "output_type": "execute_result",
          "data": {
            "text/plain": [
              "Graduate        207\n",
              "Not Graduate     56\n",
              "Name: Education, dtype: int64"
            ]
          },
          "metadata": {},
          "execution_count": 579
        }
      ]
    },
    {
      "cell_type": "code",
      "metadata": {
        "colab": {
          "base_uri": "https://localhost:8080/"
        },
        "id": "xVaw3y1LMt4r",
        "outputId": "f8d2b70f-f5bc-49db-df6b-980f79d52ca8"
      },
      "source": [
        "ltest_df['Self_Employed'].value_counts()"
      ],
      "execution_count": 580,
      "outputs": [
        {
          "output_type": "execute_result",
          "data": {
            "text/plain": [
              "No     219\n",
              "Yes     26\n",
              "Name: Self_Employed, dtype: int64"
            ]
          },
          "metadata": {},
          "execution_count": 580
        }
      ]
    },
    {
      "cell_type": "code",
      "metadata": {
        "colab": {
          "base_uri": "https://localhost:8080/"
        },
        "id": "JhpS9pxcfaWc",
        "outputId": "89e3dc87-0028-42bf-c211-f01ee058a8cb"
      },
      "source": [
        "#Replaced Nulls with No\n",
        "ltest_df['Self_Employed'].fillna(value = 'No', inplace = True)\n",
        "ltest_df['Self_Employed'].value_counts()"
      ],
      "execution_count": 581,
      "outputs": [
        {
          "output_type": "execute_result",
          "data": {
            "text/plain": [
              "No     237\n",
              "Yes     26\n",
              "Name: Self_Employed, dtype: int64"
            ]
          },
          "metadata": {},
          "execution_count": 581
        }
      ]
    },
    {
      "cell_type": "code",
      "metadata": {
        "colab": {
          "base_uri": "https://localhost:8080/"
        },
        "id": "ix5nF_K4MpyA",
        "outputId": "e4c6d7d0-c170-4bb7-c5f9-de5a54b2c6cc"
      },
      "source": [
        "ltest_df['Property_Area'].value_counts()"
      ],
      "execution_count": 582,
      "outputs": [
        {
          "output_type": "execute_result",
          "data": {
            "text/plain": [
              "Urban        99\n",
              "Semiurban    84\n",
              "Rural        80\n",
              "Name: Property_Area, dtype: int64"
            ]
          },
          "metadata": {},
          "execution_count": 582
        }
      ]
    },
    {
      "cell_type": "code",
      "metadata": {
        "colab": {
          "base_uri": "https://localhost:8080/"
        },
        "id": "tE_jl4PAjJSJ",
        "outputId": "50a93ea8-6a3d-43bc-d69e-22e7cd37276a"
      },
      "source": [
        "ltest_df['Loan_Amount_Term'].value_counts()"
      ],
      "execution_count": 583,
      "outputs": [
        {
          "output_type": "execute_result",
          "data": {
            "text/plain": [
              "360.0    231\n",
              "180.0     11\n",
              "300.0      6\n",
              "480.0      4\n",
              "84.0       2\n",
              "36.0       1\n",
              "350.0      1\n",
              "12.0       1\n",
              "60.0       1\n",
              "240.0      1\n",
              "Name: Loan_Amount_Term, dtype: int64"
            ]
          },
          "metadata": {},
          "execution_count": 583
        }
      ]
    },
    {
      "cell_type": "code",
      "metadata": {
        "colab": {
          "base_uri": "https://localhost:8080/"
        },
        "id": "5GqSfZddjOpd",
        "outputId": "fa39bf31-4997-41bc-d8ef-c02d6f4efd96"
      },
      "source": [
        "#Replaced Nulls with majority value\n",
        "ltest_df['Loan_Amount_Term'].fillna(value = 360, inplace = True)\n",
        "ltest_df['Loan_Amount_Term'].value_counts()"
      ],
      "execution_count": 584,
      "outputs": [
        {
          "output_type": "execute_result",
          "data": {
            "text/plain": [
              "360.0    235\n",
              "180.0     11\n",
              "300.0      6\n",
              "480.0      4\n",
              "84.0       2\n",
              "36.0       1\n",
              "350.0      1\n",
              "12.0       1\n",
              "60.0       1\n",
              "240.0      1\n",
              "Name: Loan_Amount_Term, dtype: int64"
            ]
          },
          "metadata": {},
          "execution_count": 584
        }
      ]
    },
    {
      "cell_type": "code",
      "metadata": {
        "colab": {
          "base_uri": "https://localhost:8080/"
        },
        "id": "fmi3bc64jVTX",
        "outputId": "34378281-33da-4afa-e367-1e5a3d72543a"
      },
      "source": [
        "ltest_df['Credit_History'].value_counts()"
      ],
      "execution_count": 585,
      "outputs": [
        {
          "output_type": "execute_result",
          "data": {
            "text/plain": [
              "1.0    198\n",
              "0.0     48\n",
              "Name: Credit_History, dtype: int64"
            ]
          },
          "metadata": {},
          "execution_count": 585
        }
      ]
    },
    {
      "cell_type": "code",
      "metadata": {
        "colab": {
          "base_uri": "https://localhost:8080/"
        },
        "id": "j1cFe6zQjZkt",
        "outputId": "9dd58b58-34e1-4333-cb5f-49b4ae3f9676"
      },
      "source": [
        "#Replaced Nulls with 0\n",
        "ltest_df['Credit_History'].fillna(value = 0, inplace = True)\n",
        "ltest_df['Credit_History'].value_counts()"
      ],
      "execution_count": 586,
      "outputs": [
        {
          "output_type": "execute_result",
          "data": {
            "text/plain": [
              "1.0    198\n",
              "0.0     65\n",
              "Name: Credit_History, dtype: int64"
            ]
          },
          "metadata": {},
          "execution_count": 586
        }
      ]
    },
    {
      "cell_type": "code",
      "metadata": {
        "colab": {
          "base_uri": "https://localhost:8080/"
        },
        "id": "XR_Md7YKjhqw",
        "outputId": "279314aa-4f63-4abf-c39c-6a628a229cd6"
      },
      "source": [
        "ltest_df.isnull().sum()"
      ],
      "execution_count": 587,
      "outputs": [
        {
          "output_type": "execute_result",
          "data": {
            "text/plain": [
              "Gender               0\n",
              "Married              0\n",
              "Dependents           0\n",
              "Education            0\n",
              "Self_Employed        0\n",
              "ApplicantIncome      0\n",
              "CoapplicantIncome    0\n",
              "LoanAmount           0\n",
              "Loan_Amount_Term     0\n",
              "Credit_History       0\n",
              "Property_Area        0\n",
              "dtype: int64"
            ]
          },
          "metadata": {},
          "execution_count": 587
        }
      ]
    },
    {
      "cell_type": "markdown",
      "metadata": {
        "id": "yFlRfgjYkfpa"
      },
      "source": [
        "Step 2:\n",
        "\n",
        "Examine and Visualize Data"
      ]
    },
    {
      "cell_type": "code",
      "metadata": {
        "colab": {
          "base_uri": "https://localhost:8080/",
          "height": 316
        },
        "id": "V1kw7FK34myV",
        "outputId": "1b78e481-64fc-46a7-eae2-18dd6e198ad9"
      },
      "source": [
        "plt.style.use('seaborn-dark')\n",
        "\n",
        "ltrain_df.groupby(['Loan_Status'])[['Loan_Status']].count().plot(kind = \"bar\", legend = False)\n",
        "plt.grid(axis = 'y', c = 'grey', linewidth = 1)\n",
        "plt.title('')\n",
        "plt.ylabel('Counts', fontsize = 15)\n",
        "plt.xlabel('Loan Approval', fontsize = 15)\n",
        "plt.xticks(rotation = 0, fontsize = 13)\n",
        "plt.yticks(fontsize = 13);\n",
        "\n",
        "\n",
        "print('The percentage of Yes : ', round((ltrain_df['Loan_Status'].value_counts(normalize = True)[0]), 4)*100, '%')\n",
        "print('The percentage of No : ', round((ltrain_df['Loan_Status'].value_counts(normalize = True)[1]), 4)*100, '%');"
      ],
      "execution_count": 588,
      "outputs": [
        {
          "output_type": "stream",
          "name": "stdout",
          "text": [
            "The percentage of Yes :  69.95 %\n",
            "The percentage of No :  30.049999999999997 %\n"
          ]
        },
        {
          "output_type": "display_data",
          "data": {
            "image/png": "[encoded data removed]",
            "text/plain": [
              "<Figure size 432x288 with 1 Axes>"
            ]
          },
          "metadata": {}
        }
      ]
    },
    {
      "cell_type": "markdown",
      "metadata": {
        "id": "W7u7uofn-sa6"
      },
      "source": [
        "~70% of loans are approved"
      ]
    },
    {
      "cell_type": "code",
      "metadata": {
        "colab": {
          "base_uri": "https://localhost:8080/",
          "height": 330
        },
        "id": "Lc5beXo-nBYG",
        "outputId": "7eb86ba8-3020-4479-844e-2f53f4955cec"
      },
      "source": [
        "#Correlations in data\n",
        "corr = ltrain_df.corr()\n",
        "sns.heatmap(corr, cmap = 'Blues', annot = True)\n",
        "plt.xticks(rotation = 45)\n",
        "plt.yticks(rotation = 45);"
      ],
      "execution_count": 589,
      "outputs": [
        {
          "output_type": "display_data",
          "data": {
            "image/png": "[encoded data removed]",
            "text/plain": [
              "<Figure size 432x288 with 2 Axes>"
            ]
          },
          "metadata": {}
        }
      ]
    },
    {
      "cell_type": "markdown",
      "metadata": {
        "id": "44qPzeNkn_F7"
      },
      "source": [
        "The only 2 columns that have a strong correlation are Loan Amount and Applicant Income"
      ]
    },
    {
      "cell_type": "markdown",
      "metadata": {
        "id": "FPNANy0jqnm_"
      },
      "source": [
        "Those with a Credit history had a much greater chance of having their loan approved."
      ]
    },
    {
      "cell_type": "code",
      "metadata": {
        "colab": {
          "base_uri": "https://localhost:8080/",
          "height": 350
        },
        "id": "_MiUQqOJ-zAM",
        "outputId": "eb581360-ea67-4cf9-e676-f74dce7146ea"
      },
      "source": [
        "plt.style.use('seaborn-dark')\n",
        "\n",
        "ltrain_df.groupby(['Gender', 'Loan_Status'])[['Loan_Status']].count().plot(kind = \"bar\", legend = False)\n",
        "plt.grid(axis = 'y', c = 'grey', linewidth = 1)\n",
        "plt.title('')\n",
        "plt.ylabel('Counts', fontsize = 15)\n",
        "plt.xlabel('Loan Approval', fontsize = 15)\n",
        "plt.xticks(rotation = 0, fontsize = 13)\n",
        "plt.yticks(fontsize = 13);\n",
        "\n",
        "female = ltrain_df['Gender'] == 'Female'\n",
        "male = ltrain_df['Gender'] == 'Male'\n",
        "f_df = ltrain_df[female]\n",
        "m_df = ltrain_df[male]\n",
        "\n",
        "print('The percentage of Females approved : ', round((f_df['Loan_Status'].value_counts(normalize = True)[0]), 2)*100, '%')\n",
        "print('The percentage of Females not approved : ', round((f_df['Loan_Status'].value_counts(normalize = True)[1]), 2)*100, '%')\n",
        "print('The percentage of Males approved : ', round((m_df['Loan_Status'].value_counts(normalize = True)[0]), 2)*100, '%')\n",
        "print('The percentage of Males not approved : ', round((m_df['Loan_Status'].value_counts(normalize = True)[1]), 2)*100, '%');"
      ],
      "execution_count": 590,
      "outputs": [
        {
          "output_type": "stream",
          "name": "stdout",
          "text": [
            "The percentage of Females approved :  67.0 %\n",
            "The percentage of Females not approved :  33.0 %\n",
            "The percentage of Males approved :  71.0 %\n",
            "The percentage of Males not approved :  28.999999999999996 %\n"
          ]
        },
        {
          "output_type": "display_data",
          "data": {
            "image/png": "[encoded data removed]",
            "text/plain": [
              "<Figure size 432x288 with 1 Axes>"
            ]
          },
          "metadata": {}
        }
      ]
    },
    {
      "cell_type": "markdown",
      "metadata": {
        "id": "RWG-USKEGFl7"
      },
      "source": [
        "Step 3: Modeling preperation"
      ]
    },
    {
      "cell_type": "code",
      "metadata": {
        "colab": {
          "base_uri": "https://localhost:8080/"
        },
        "id": "jrRN9mD0GD_X",
        "outputId": "cb8c6c7b-0d4a-4506-ab22-53f88f3da400"
      },
      "source": [
        "ltrain_df.info()"
      ],
      "execution_count": 591,
      "outputs": [
        {
          "output_type": "stream",
          "name": "stdout",
          "text": [
            "<class 'pandas.core.frame.DataFrame'>\n",
            "Index: 426 entries, LP001003 to LP002990\n",
            "Data columns (total 12 columns):\n",
            " #   Column             Non-Null Count  Dtype  \n",
            "---  ------             --------------  -----  \n",
            " 0   Gender             426 non-null    object \n",
            " 1   Married            426 non-null    object \n",
            " 2   Dependents         426 non-null    object \n",
            " 3   Education          426 non-null    object \n",
            " 4   Self_Employed      426 non-null    object \n",
            " 5   ApplicantIncome    426 non-null    int64  \n",
            " 6   CoapplicantIncome  426 non-null    float64\n",
            " 7   LoanAmount         426 non-null    float64\n",
            " 8   Loan_Amount_Term   426 non-null    float64\n",
            " 9   Credit_History     426 non-null    float64\n",
            " 10  Property_Area      426 non-null    object \n",
            " 11  Loan_Status        426 non-null    object \n",
            "dtypes: float64(4), int64(1), object(7)\n",
            "memory usage: 43.3+ KB\n"
          ]
        }
      ]
    },
    {
      "cell_type": "code",
      "metadata": {
        "id": "fkGfVaP_GRVB"
      },
      "source": [
        "ltr_df = pd.get_dummies(ltrain_df, columns= ['Gender', 'Married', 'Education', 'Self_Employed', 'Property_Area'])"
      ],
      "execution_count": 592,
      "outputs": []
    },
    {
      "cell_type": "code",
      "metadata": {
        "colab": {
          "base_uri": "https://localhost:8080/",
          "height": 272
        },
        "id": "fwSh5M9WHiKx",
        "outputId": "e9c125c5-15bd-40a8-a76e-c6c745d6c678"
      },
      "source": [
        "dep = {'0' : 0, '1': 1, '2': 2, '3+': 3}\n",
        "ltr_df['Dependents'] = ltr_df['Dependents'].map(dep)\n",
        "ltr_df.head()"
      ],
      "execution_count": 593,
      "outputs": [
        {
          "output_type": "execute_result",
          "data": {
            "text/html": [
              "<div>\n",
              "<style scoped>\n",
              "    .dataframe tbody tr th:only-of-type {\n",
              "        vertical-align: middle;\n",
              "    }\n",
              "\n",
              "    .dataframe tbody tr th {\n",
              "        vertical-align: top;\n",
              "    }\n",
              "\n",
              "    .dataframe thead th {\n",
              "        text-align: right;\n",
              "    }\n",
              "</style>\n",
              "<table border=\"1\" class=\"dataframe\">\n",
              "  <thead>\n",
              "    <tr style=\"text-align: right;\">\n",
              "      <th></th>\n",
              "      <th>Dependents</th>\n",
              "      <th>ApplicantIncome</th>\n",
              "      <th>CoapplicantIncome</th>\n",
              "      <th>LoanAmount</th>\n",
              "      <th>Loan_Amount_Term</th>\n",
              "      <th>Credit_History</th>\n",
              "      <th>Loan_Status</th>\n",
              "      <th>Gender_Female</th>\n",
              "      <th>Gender_Male</th>\n",
              "      <th>Married_No</th>\n",
              "      <th>Married_Yes</th>\n",
              "      <th>Education_Graduate</th>\n",
              "      <th>Education_Not Graduate</th>\n",
              "      <th>Self_Employed_No</th>\n",
              "      <th>Self_Employed_Yes</th>\n",
              "      <th>Property_Area_Rural</th>\n",
              "      <th>Property_Area_Semiurban</th>\n",
              "      <th>Property_Area_Urban</th>\n",
              "    </tr>\n",
              "    <tr>\n",
              "      <th>Loan_ID</th>\n",
              "      <th></th>\n",
              "      <th></th>\n",
              "      <th></th>\n",
              "      <th></th>\n",
              "      <th></th>\n",
              "      <th></th>\n",
              "      <th></th>\n",
              "      <th></th>\n",
              "      <th></th>\n",
              "      <th></th>\n",
              "      <th></th>\n",
              "      <th></th>\n",
              "      <th></th>\n",
              "      <th></th>\n",
              "      <th></th>\n",
              "      <th></th>\n",
              "      <th></th>\n",
              "      <th></th>\n",
              "    </tr>\n",
              "  </thead>\n",
              "  <tbody>\n",
              "    <tr>\n",
              "      <th>LP001003</th>\n",
              "      <td>1</td>\n",
              "      <td>4583</td>\n",
              "      <td>1508.0</td>\n",
              "      <td>128.0</td>\n",
              "      <td>360.0</td>\n",
              "      <td>1.0</td>\n",
              "      <td>N</td>\n",
              "      <td>0</td>\n",
              "      <td>1</td>\n",
              "      <td>0</td>\n",
              "      <td>1</td>\n",
              "      <td>1</td>\n",
              "      <td>0</td>\n",
              "      <td>1</td>\n",
              "      <td>0</td>\n",
              "      <td>1</td>\n",
              "      <td>0</td>\n",
              "      <td>0</td>\n",
              "    </tr>\n",
              "    <tr>\n",
              "      <th>LP001006</th>\n",
              "      <td>0</td>\n",
              "      <td>2583</td>\n",
              "      <td>2358.0</td>\n",
              "      <td>120.0</td>\n",
              "      <td>360.0</td>\n",
              "      <td>1.0</td>\n",
              "      <td>Y</td>\n",
              "      <td>0</td>\n",
              "      <td>1</td>\n",
              "      <td>0</td>\n",
              "      <td>1</td>\n",
              "      <td>0</td>\n",
              "      <td>1</td>\n",
              "      <td>1</td>\n",
              "      <td>0</td>\n",
              "      <td>0</td>\n",
              "      <td>0</td>\n",
              "      <td>1</td>\n",
              "    </tr>\n",
              "    <tr>\n",
              "      <th>LP001008</th>\n",
              "      <td>0</td>\n",
              "      <td>6000</td>\n",
              "      <td>0.0</td>\n",
              "      <td>141.0</td>\n",
              "      <td>360.0</td>\n",
              "      <td>1.0</td>\n",
              "      <td>Y</td>\n",
              "      <td>0</td>\n",
              "      <td>1</td>\n",
              "      <td>1</td>\n",
              "      <td>0</td>\n",
              "      <td>1</td>\n",
              "      <td>0</td>\n",
              "      <td>1</td>\n",
              "      <td>0</td>\n",
              "      <td>0</td>\n",
              "      <td>0</td>\n",
              "      <td>1</td>\n",
              "    </tr>\n",
              "    <tr>\n",
              "      <th>LP001011</th>\n",
              "      <td>2</td>\n",
              "      <td>5417</td>\n",
              "      <td>4196.0</td>\n",
              "      <td>267.0</td>\n",
              "      <td>360.0</td>\n",
              "      <td>1.0</td>\n",
              "      <td>Y</td>\n",
              "      <td>0</td>\n",
              "      <td>1</td>\n",
              "      <td>0</td>\n",
              "      <td>1</td>\n",
              "      <td>1</td>\n",
              "      <td>0</td>\n",
              "      <td>0</td>\n",
              "      <td>1</td>\n",
              "      <td>0</td>\n",
              "      <td>0</td>\n",
              "      <td>1</td>\n",
              "    </tr>\n",
              "    <tr>\n",
              "      <th>LP001014</th>\n",
              "      <td>3</td>\n",
              "      <td>3036</td>\n",
              "      <td>2504.0</td>\n",
              "      <td>158.0</td>\n",
              "      <td>360.0</td>\n",
              "      <td>0.0</td>\n",
              "      <td>N</td>\n",
              "      <td>0</td>\n",
              "      <td>1</td>\n",
              "      <td>0</td>\n",
              "      <td>1</td>\n",
              "      <td>1</td>\n",
              "      <td>0</td>\n",
              "      <td>1</td>\n",
              "      <td>0</td>\n",
              "      <td>0</td>\n",
              "      <td>1</td>\n",
              "      <td>0</td>\n",
              "    </tr>\n",
              "  </tbody>\n",
              "</table>\n",
              "</div>"
            ],
            "text/plain": [
              "          Dependents  ...  Property_Area_Urban\n",
              "Loan_ID               ...                     \n",
              "LP001003           1  ...                    0\n",
              "LP001006           0  ...                    1\n",
              "LP001008           0  ...                    1\n",
              "LP001011           2  ...                    1\n",
              "LP001014           3  ...                    0\n",
              "\n",
              "[5 rows x 18 columns]"
            ]
          },
          "metadata": {},
          "execution_count": 593
        }
      ]
    }
  ]
}